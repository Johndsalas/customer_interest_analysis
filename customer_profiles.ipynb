{
 "cells": [
  {
   "cell_type": "markdown",
   "id": "extended-tsunami",
   "metadata": {},
   "source": [
    "# Goal: Create Customer Profiles for an LGS"
   ]
  },
  {
   "cell_type": "code",
   "execution_count": 1,
   "id": "eligible-pilot",
   "metadata": {},
   "outputs": [],
   "source": [
    "import wrangle as w\n",
    "\n",
    "# ignore warnings\n",
    "import warnings\n",
    "warnings.filterwarnings(\"ignore\")"
   ]
  },
  {
   "cell_type": "markdown",
   "id": "referenced-customer",
   "metadata": {},
   "source": [
    "## Methodology:\n",
    "\n",
    "1. Divide store items into categories\n",
    "2. Calculate the total number of items that each customer has purchased in each category\n",
    "3. Use dbscan to cluster customers and create groups based on those clusters\n",
    "4. Analyze each group and develop a profiles based on that analysis "
   ]
  },
  {
   "cell_type": "markdown",
   "id": "south-balance",
   "metadata": {},
   "source": [
    "# Prepare Steps\n",
    "\n",
    "## General\n",
    "\n",
    "1. Read in sales data by year and merge files into one dataframe <br>\n",
    "<br>\n",
    "2. Remove non-payment rows <br>\n",
    "<br>\n",
    "3. Create datetime column and set index to the datetime column <br>\n",
    "<br>\n",
    "4. Delete unused columns and Rename remaining columns for ease of use <br>\n",
    "<br>\n",
    "5. Clean text in ID <br>\n",
    "<br>\n",
    "4. Clean text in net_sales and convert to int <br>\n",
    "<br>\n",
    "5. Clean text in cart and convert items string to a list of those items <br>\n",
    "<br>\n",
    "6. Fill Null values using\n",
    "  * ‘unregistered’ for the id column <br>\n",
    "  * ‘No-discount’ for the discount  <br>\n",
    "<br>\n",
    "7. Add a column for each item showing the nuber of that item bought in each transaction <br>\n",
    "<br>\n",
    "8. Add a column for each category of item showing the number of items bought in that catagory  <br>\n",
    "\n",
    "## Project Specific\n",
    "\n",
    "1. Drop all unrelated columns <br>\n",
    "<br>\n",
    "2. Drop rows where id is unregistered <br>\n",
    "<br>\n",
    "3. Create scaled columns for each category column <br>"
   ]
  },
  {
   "cell_type": "code",
   "execution_count": null,
   "id": "painted-netherlands",
   "metadata": {},
   "outputs": [],
   "source": [
    "df = w.get_prepared_data()\n",
    "df = "
   ]
  },
  {
   "cell_type": "code",
   "execution_count": 8,
   "id": "brilliant-omega",
   "metadata": {},
   "outputs": [
    {
     "ename": "AttributeError",
     "evalue": "'list' object has no attribute 'id'",
     "output_type": "error",
     "traceback": [
      "\u001b[0;31m---------------------------------------------------------------------------\u001b[0m",
      "\u001b[0;31mAttributeError\u001b[0m                            Traceback (most recent call last)",
      "\u001b[0;32m<ipython-input-8-aee6a2944472>\u001b[0m in \u001b[0;36m<module>\u001b[0;34m\u001b[0m\n\u001b[1;32m      1\u001b[0m \u001b[0;31m# revove purchases not tied to an id number\u001b[0m\u001b[0;34m\u001b[0m\u001b[0;34m\u001b[0m\u001b[0;34m\u001b[0m\u001b[0m\n\u001b[0;32m----> 2\u001b[0;31m \u001b[0mdf\u001b[0m \u001b[0;34m=\u001b[0m \u001b[0mdf\u001b[0m\u001b[0;34m[\u001b[0m\u001b[0mdf\u001b[0m\u001b[0;34m.\u001b[0m\u001b[0mid\u001b[0m \u001b[0;34m!=\u001b[0m \u001b[0;34m'unregistered'\u001b[0m\u001b[0;34m]\u001b[0m\u001b[0;34m\u001b[0m\u001b[0;34m\u001b[0m\u001b[0m\n\u001b[0m\u001b[1;32m      3\u001b[0m \u001b[0;34m\u001b[0m\u001b[0m\n\u001b[1;32m      4\u001b[0m \u001b[0;31m# get relevent columns\u001b[0m\u001b[0;34m\u001b[0m\u001b[0;34m\u001b[0m\u001b[0;34m\u001b[0m\u001b[0m\n\u001b[1;32m      5\u001b[0m df = df[['id', \n",
      "\u001b[0;31mAttributeError\u001b[0m: 'list' object has no attribute 'id'"
     ]
    }
   ],
   "source": [
    "# revove purchases not tied to an id number\n",
    "df = df[df.id != 'unregistered']\n",
    "\n",
    "# get relevent columns\n",
    "df = df[['id', \n",
    "       'accessories',\n",
    "       'board_games', \n",
    "       'concessions', \n",
    "       'modeling_supplies', \n",
    "       'role_playing_games',\n",
    "       'minis_models', \n",
    "       'trading_card_games',\n",
    "       'net_sales']]\n"
   ]
  },
  {
   "cell_type": "code",
   "execution_count": 7,
   "id": "featured-jimmy",
   "metadata": {},
   "outputs": [
    {
     "ename": "AttributeError",
     "evalue": "'list' object has no attribute 'columns'",
     "output_type": "error",
     "traceback": [
      "\u001b[0;31m---------------------------------------------------------------------------\u001b[0m",
      "\u001b[0;31mAttributeError\u001b[0m                            Traceback (most recent call last)",
      "\u001b[0;32m<ipython-input-7-b666bf274d0a>\u001b[0m in \u001b[0;36m<module>\u001b[0;34m\u001b[0m\n\u001b[0;32m----> 1\u001b[0;31m \u001b[0mdf\u001b[0m\u001b[0;34m.\u001b[0m\u001b[0mcolumns\u001b[0m\u001b[0;34m\u001b[0m\u001b[0;34m\u001b[0m\u001b[0m\n\u001b[0m",
      "\u001b[0;31mAttributeError\u001b[0m: 'list' object has no attribute 'columns'"
     ]
    }
   ],
   "source": [
    "df.columns"
   ]
  },
  {
   "cell_type": "code",
   "execution_count": 5,
   "id": "private-florist",
   "metadata": {},
   "outputs": [
    {
     "ename": "AttributeError",
     "evalue": "'DataFrame' object has no attribute 'all_items'",
     "output_type": "error",
     "traceback": [
      "\u001b[0;31m---------------------------------------------------------------------------\u001b[0m",
      "\u001b[0;31mAttributeError\u001b[0m                            Traceback (most recent call last)",
      "\u001b[0;32m<ipython-input-5-47f64516bc05>\u001b[0m in \u001b[0;36m<module>\u001b[0;34m\u001b[0m\n\u001b[0;32m----> 1\u001b[0;31m \u001b[0mdf\u001b[0m\u001b[0;34m.\u001b[0m\u001b[0mall_items\u001b[0m\u001b[0;34m\u001b[0m\u001b[0;34m\u001b[0m\u001b[0m\n\u001b[0m",
      "\u001b[0;32m/usr/local/anaconda3/lib/python3.7/site-packages/pandas/core/generic.py\u001b[0m in \u001b[0;36m__getattr__\u001b[0;34m(self, name)\u001b[0m\n\u001b[1;32m   5485\u001b[0m         ):\n\u001b[1;32m   5486\u001b[0m             \u001b[0;32mreturn\u001b[0m \u001b[0mself\u001b[0m\u001b[0;34m[\u001b[0m\u001b[0mname\u001b[0m\u001b[0;34m]\u001b[0m\u001b[0;34m\u001b[0m\u001b[0;34m\u001b[0m\u001b[0m\n\u001b[0;32m-> 5487\u001b[0;31m         \u001b[0;32mreturn\u001b[0m \u001b[0mobject\u001b[0m\u001b[0;34m.\u001b[0m\u001b[0m__getattribute__\u001b[0m\u001b[0;34m(\u001b[0m\u001b[0mself\u001b[0m\u001b[0;34m,\u001b[0m \u001b[0mname\u001b[0m\u001b[0;34m)\u001b[0m\u001b[0;34m\u001b[0m\u001b[0;34m\u001b[0m\u001b[0m\n\u001b[0m\u001b[1;32m   5488\u001b[0m \u001b[0;34m\u001b[0m\u001b[0m\n\u001b[1;32m   5489\u001b[0m     \u001b[0;32mdef\u001b[0m \u001b[0m__setattr__\u001b[0m\u001b[0;34m(\u001b[0m\u001b[0mself\u001b[0m\u001b[0;34m,\u001b[0m \u001b[0mname\u001b[0m\u001b[0;34m:\u001b[0m \u001b[0mstr\u001b[0m\u001b[0;34m,\u001b[0m \u001b[0mvalue\u001b[0m\u001b[0;34m)\u001b[0m \u001b[0;34m->\u001b[0m \u001b[0;32mNone\u001b[0m\u001b[0;34m:\u001b[0m\u001b[0;34m\u001b[0m\u001b[0;34m\u001b[0m\u001b[0m\n",
      "\u001b[0;31mAttributeError\u001b[0m: 'DataFrame' object has no attribute 'all_items'"
     ]
    }
   ],
   "source": []
  },
  {
   "cell_type": "code",
   "execution_count": null,
   "id": "warming-brown",
   "metadata": {},
   "outputs": [],
   "source": []
  },
  {
   "cell_type": "code",
   "execution_count": null,
   "id": "desperate-namibia",
   "metadata": {},
   "outputs": [],
   "source": []
  },
  {
   "cell_type": "markdown",
   "id": "armed-citizenship",
   "metadata": {},
   "source": [
    "# Data Dictionary\n",
    "\n",
    "Rows in the original data represent a record for each purchase made at LGS in the years 2021, 2022, and 2023. <br>\n",
    "The final transformation of the data will contain columns showing the average number of purchases made by a given customer across the following categories in a given month. It will also show the average net sales (after removing discounts) for each customer for each month.\n",
    "\n",
    "\n",
    "|Category|Description|Examples|\n",
    "|--------|-----------|--------|\n",
    "|Accessories|Items that enhance game play or are used to store game play items|Binders, Dice, Card Sleeves|\n",
    "|Board Games|Self contained board games and board game expansions|Terraforming Mars, LOTR Journies in Middle Earth|\n",
    "|Concessions|Food and drink items|drinks, candy|\n",
    "|Minis/Models|Miniature models, contained in customizable table top minis games or sold as stand alone minis or sets of minis Does not include boardgames that contain minis|Warhammer Minis, D&D Minis|\n",
    "|Modeling Supplies|Items used to enhance appearance of minis/models|Painting Supplies, Model Bases|\n",
    "|Role Playing Games|Books and map packs for Role Playing Games|Dungeons and Dragons Books, Pathfinder Books|\n",
    "|Trading Card Games|Cards for customizable card games|Magic, Pokemon, Yugio|"
   ]
  },
  {
   "cell_type": "code",
   "execution_count": null,
   "id": "unlikely-grass",
   "metadata": {},
   "outputs": [],
   "source": [
    "df.head()"
   ]
  },
  {
   "cell_type": "code",
   "execution_count": null,
   "id": "adaptive-banana",
   "metadata": {},
   "outputs": [],
   "source": [
    "from itertools import combinations\n",
    "\n",
    "\n",
    "cols = ['accessories', \n",
    "        'board_games', \n",
    "        'concessions',\n",
    "        'modeling_supplies', \n",
    "        'role_playing_games', \n",
    "        'minis_models',\n",
    "        'trading_card_games']\n",
    "\n",
    "combs = combinations(cols, 2)\n",
    "\n",
    "for pair in combs:\n",
    "    \n",
    "    plt.scatter(df[f'{pair[0]}'], df[f'{pair[1]}'])\n",
    "    \n",
    "    plt.xlable(f'{pair[0]}')\n",
    "    plt.ylable(f'{pair[1]}')\n",
    "    \n",
    "    plt.show()"
   ]
  },
  {
   "cell_type": "code",
   "execution_count": null,
   "id": "dressed-patrick",
   "metadata": {},
   "outputs": [],
   "source": []
  }
 ],
 "metadata": {
  "kernelspec": {
   "display_name": "Python 3",
   "language": "python",
   "name": "python3"
  },
  "language_info": {
   "codemirror_mode": {
    "name": "ipython",
    "version": 3
   },
   "file_extension": ".py",
   "mimetype": "text/x-python",
   "name": "python",
   "nbconvert_exporter": "python",
   "pygments_lexer": "ipython3",
   "version": "3.7.4"
  }
 },
 "nbformat": 4,
 "nbformat_minor": 5
}
