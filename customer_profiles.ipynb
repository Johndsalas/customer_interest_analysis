{
 "cells": [
  {
   "cell_type": "markdown",
   "id": "extended-tsunami",
   "metadata": {},
   "source": [
    "# Goal: Create Customer Profiles for an LGS"
   ]
  },
  {
   "cell_type": "code",
   "execution_count": 1,
   "id": "eligible-pilot",
   "metadata": {},
   "outputs": [],
   "source": [
    "import pandas as pd\n",
    "import wrangle_profiles as wp\n",
    "\n",
    "import matplotlib.pyplot as plt\n",
    "\n",
    "# ignore warnings\n",
    "import warnings\n",
    "warnings.filterwarnings(\"ignore\")"
   ]
  },
  {
   "cell_type": "markdown",
   "id": "referenced-customer",
   "metadata": {},
   "source": [
    "## Methodology:\n",
    "\n",
    "1. Divide store items into categories\n",
    "2. Calculate the total number of items that each customer has purchased in each category\n",
    "3. Use dbscan to cluster customers and create groups based on those clusters\n",
    "4. Analyze each group and develop a profiles based on that analysis "
   ]
  },
  {
   "cell_type": "markdown",
   "id": "south-balance",
   "metadata": {},
   "source": [
    "# Prepare Steps\n",
    "\n",
    "## General\n",
    "\n",
    "1. Read in sales data by year and merge files into one dataframe <br>\n",
    "<br>\n",
    "2. Remove non-payment rows <br>\n",
    "<br>\n",
    "3. Create datetime column and set index to the datetime column <br>\n",
    "<br>\n",
    "4. Delete unused columns and Rename remaining columns for ease of use <br>\n",
    "<br>\n",
    "5. Clean text in ID <br>\n",
    "<br>\n",
    "4. Clean text in net_sales and convert to int <br>\n",
    "<br>\n",
    "5. Clean text in cart and convert items string to a list of those items <br>\n",
    "<br>\n",
    "6. Fill Null values using\n",
    "  * ‘unregistered’ for the id column <br>\n",
    "  * ‘No-discount’ for the discount  <br>\n",
    "<br>\n",
    "7. Add a column for each item showing the nuber of that item bought in each transaction <br>\n",
    "<br>\n",
    "8. Add a column for each category of item showing the number of items bought in that catagory  <br>\n",
    "\n",
    "## Project Specific\n",
    "\n",
    "1. Restrict data to purchases made in 2023 <br>\n",
    "<br>\n",
    "2. Drop all unrelated columns <br>\n",
    "<br>\n",
    "3. Drop rows where id is unregistered <br>\n",
    "<br>\n",
    "4. Create scaled columns for each category column <br>"
   ]
  },
  {
   "cell_type": "code",
   "execution_count": 2,
   "id": "related-involvement",
   "metadata": {},
   "outputs": [
    {
     "data": {
      "text/html": [
       "<div>\n",
       "<style scoped>\n",
       "    .dataframe tbody tr th:only-of-type {\n",
       "        vertical-align: middle;\n",
       "    }\n",
       "\n",
       "    .dataframe tbody tr th {\n",
       "        vertical-align: top;\n",
       "    }\n",
       "\n",
       "    .dataframe thead th {\n",
       "        text-align: right;\n",
       "    }\n",
       "</style>\n",
       "<table border=\"1\" class=\"dataframe\">\n",
       "  <thead>\n",
       "    <tr style=\"text-align: right;\">\n",
       "      <th></th>\n",
       "      <th>id</th>\n",
       "      <th>cart</th>\n",
       "      <th>discount</th>\n",
       "      <th>gross_sales</th>\n",
       "      <th>discount_amount</th>\n",
       "      <th>net_sales</th>\n",
       "      <th>year</th>\n",
       "      <th>month</th>\n",
       "      <th>day</th>\n",
       "      <th>weekday</th>\n",
       "      <th>...</th>\n",
       "      <th>accessories</th>\n",
       "      <th>board_games</th>\n",
       "      <th>concessions</th>\n",
       "      <th>modeling_supplies</th>\n",
       "      <th>role_playing_games</th>\n",
       "      <th>minis_models</th>\n",
       "      <th>trading_card_games</th>\n",
       "      <th>other</th>\n",
       "      <th>game_room_rental</th>\n",
       "      <th>all_items</th>\n",
       "    </tr>\n",
       "  </thead>\n",
       "  <tbody>\n",
       "    <tr>\n",
       "      <th>2021-01-01 15:07:02</th>\n",
       "      <td>T49C25V8WS37VB4RSJTBN13TSR</td>\n",
       "      <td>['dragon_shield_sleeves:_matte_blue']</td>\n",
       "      <td>no_discount</td>\n",
       "      <td>$11.99</td>\n",
       "      <td>$0.00</td>\n",
       "      <td>11.99</td>\n",
       "      <td>2021</td>\n",
       "      <td>1</td>\n",
       "      <td>1</td>\n",
       "      <td>Friday</td>\n",
       "      <td>...</td>\n",
       "      <td>1</td>\n",
       "      <td>0</td>\n",
       "      <td>0</td>\n",
       "      <td>0</td>\n",
       "      <td>0</td>\n",
       "      <td>0</td>\n",
       "      <td>0</td>\n",
       "      <td>0</td>\n",
       "      <td>0</td>\n",
       "      <td>1</td>\n",
       "    </tr>\n",
       "    <tr>\n",
       "      <th>2021-01-01 15:09:20</th>\n",
       "      <td>F36VZJMBMH3PH5SN664GPV4NQR</td>\n",
       "      <td>['ultra_pro-100_deck_box_white_2020_-_aw12892']</td>\n",
       "      <td>no_discount</td>\n",
       "      <td>$5.99</td>\n",
       "      <td>$0.00</td>\n",
       "      <td>5.99</td>\n",
       "      <td>2021</td>\n",
       "      <td>1</td>\n",
       "      <td>1</td>\n",
       "      <td>Friday</td>\n",
       "      <td>...</td>\n",
       "      <td>1</td>\n",
       "      <td>0</td>\n",
       "      <td>0</td>\n",
       "      <td>0</td>\n",
       "      <td>0</td>\n",
       "      <td>0</td>\n",
       "      <td>0</td>\n",
       "      <td>0</td>\n",
       "      <td>0</td>\n",
       "      <td>1</td>\n",
       "    </tr>\n",
       "    <tr>\n",
       "      <th>2021-01-01 16:30:31</th>\n",
       "      <td>BBBRQPD57S3YV4GJG1CCB6ATGC</td>\n",
       "      <td>['candy', 'dungeons_&amp;_dragons:_icewind_dale', ...</td>\n",
       "      <td>no_discount</td>\n",
       "      <td>$31.25</td>\n",
       "      <td>$0.00</td>\n",
       "      <td>31.25</td>\n",
       "      <td>2021</td>\n",
       "      <td>1</td>\n",
       "      <td>1</td>\n",
       "      <td>Friday</td>\n",
       "      <td>...</td>\n",
       "      <td>0</td>\n",
       "      <td>0</td>\n",
       "      <td>1</td>\n",
       "      <td>0</td>\n",
       "      <td>1</td>\n",
       "      <td>1</td>\n",
       "      <td>0</td>\n",
       "      <td>0</td>\n",
       "      <td>0</td>\n",
       "      <td>3</td>\n",
       "    </tr>\n",
       "    <tr>\n",
       "      <th>2021-01-01 16:31:27</th>\n",
       "      <td>W67T53BZFD5VQ8J3W7387X8SW0</td>\n",
       "      <td>['candy', 'double_sided_battlemap_-_chx96246']</td>\n",
       "      <td>no_discount</td>\n",
       "      <td>$21.25</td>\n",
       "      <td>$0.00</td>\n",
       "      <td>21.25</td>\n",
       "      <td>2021</td>\n",
       "      <td>1</td>\n",
       "      <td>1</td>\n",
       "      <td>Friday</td>\n",
       "      <td>...</td>\n",
       "      <td>0</td>\n",
       "      <td>0</td>\n",
       "      <td>1</td>\n",
       "      <td>0</td>\n",
       "      <td>0</td>\n",
       "      <td>1</td>\n",
       "      <td>0</td>\n",
       "      <td>0</td>\n",
       "      <td>0</td>\n",
       "      <td>2</td>\n",
       "    </tr>\n",
       "    <tr>\n",
       "      <th>2021-01-01 19:36:24</th>\n",
       "      <td>F4RYR1ARCD7ZDD4E9PFYRVF6H0</td>\n",
       "      <td>['dex_binder', '3_x_custom_amount', 'candy', '...</td>\n",
       "      <td>Military</td>\n",
       "      <td>$257.14</td>\n",
       "      <td>-$25.50</td>\n",
       "      <td>231.64</td>\n",
       "      <td>2021</td>\n",
       "      <td>1</td>\n",
       "      <td>1</td>\n",
       "      <td>Friday</td>\n",
       "      <td>...</td>\n",
       "      <td>1</td>\n",
       "      <td>0</td>\n",
       "      <td>2</td>\n",
       "      <td>0</td>\n",
       "      <td>0</td>\n",
       "      <td>0</td>\n",
       "      <td>0</td>\n",
       "      <td>4</td>\n",
       "      <td>0</td>\n",
       "      <td>7</td>\n",
       "    </tr>\n",
       "  </tbody>\n",
       "</table>\n",
       "<p>5 rows × 4877 columns</p>\n",
       "</div>"
      ],
      "text/plain": [
       "                                             id  \\\n",
       "2021-01-01 15:07:02  T49C25V8WS37VB4RSJTBN13TSR   \n",
       "2021-01-01 15:09:20  F36VZJMBMH3PH5SN664GPV4NQR   \n",
       "2021-01-01 16:30:31  BBBRQPD57S3YV4GJG1CCB6ATGC   \n",
       "2021-01-01 16:31:27  W67T53BZFD5VQ8J3W7387X8SW0   \n",
       "2021-01-01 19:36:24  F4RYR1ARCD7ZDD4E9PFYRVF6H0   \n",
       "\n",
       "                                                                  cart  \\\n",
       "2021-01-01 15:07:02              ['dragon_shield_sleeves:_matte_blue']   \n",
       "2021-01-01 15:09:20    ['ultra_pro-100_deck_box_white_2020_-_aw12892']   \n",
       "2021-01-01 16:30:31  ['candy', 'dungeons_&_dragons:_icewind_dale', ...   \n",
       "2021-01-01 16:31:27     ['candy', 'double_sided_battlemap_-_chx96246']   \n",
       "2021-01-01 19:36:24  ['dex_binder', '3_x_custom_amount', 'candy', '...   \n",
       "\n",
       "                        discount gross_sales discount_amount  net_sales  year  \\\n",
       "2021-01-01 15:07:02  no_discount      $11.99           $0.00      11.99  2021   \n",
       "2021-01-01 15:09:20  no_discount       $5.99           $0.00       5.99  2021   \n",
       "2021-01-01 16:30:31  no_discount      $31.25           $0.00      31.25  2021   \n",
       "2021-01-01 16:31:27  no_discount      $21.25           $0.00      21.25  2021   \n",
       "2021-01-01 19:36:24     Military     $257.14         -$25.50     231.64  2021   \n",
       "\n",
       "                     month  day weekday  ...  accessories  board_games  \\\n",
       "2021-01-01 15:07:02      1    1  Friday  ...            1            0   \n",
       "2021-01-01 15:09:20      1    1  Friday  ...            1            0   \n",
       "2021-01-01 16:30:31      1    1  Friday  ...            0            0   \n",
       "2021-01-01 16:31:27      1    1  Friday  ...            0            0   \n",
       "2021-01-01 19:36:24      1    1  Friday  ...            1            0   \n",
       "\n",
       "                     concessions  modeling_supplies  role_playing_games  \\\n",
       "2021-01-01 15:07:02            0                  0                   0   \n",
       "2021-01-01 15:09:20            0                  0                   0   \n",
       "2021-01-01 16:30:31            1                  0                   1   \n",
       "2021-01-01 16:31:27            1                  0                   0   \n",
       "2021-01-01 19:36:24            2                  0                   0   \n",
       "\n",
       "                     minis_models  trading_card_games  other  \\\n",
       "2021-01-01 15:07:02             0                   0      0   \n",
       "2021-01-01 15:09:20             0                   0      0   \n",
       "2021-01-01 16:30:31             1                   0      0   \n",
       "2021-01-01 16:31:27             1                   0      0   \n",
       "2021-01-01 19:36:24             0                   0      4   \n",
       "\n",
       "                     game_room_rental  all_items  \n",
       "2021-01-01 15:07:02                 0          1  \n",
       "2021-01-01 15:09:20                 0          1  \n",
       "2021-01-01 16:30:31                 0          3  \n",
       "2021-01-01 16:31:27                 0          2  \n",
       "2021-01-01 19:36:24                 0          7  \n",
       "\n",
       "[5 rows x 4877 columns]"
      ]
     },
     "execution_count": 2,
     "metadata": {},
     "output_type": "execute_result"
    }
   ],
   "source": [
    "df = w.get_prepared_data()\n",
    "df.head()"
   ]
  },
  {
   "cell_type": "code",
   "execution_count": 8,
   "id": "cardiac-andrews",
   "metadata": {},
   "outputs": [
    {
     "data": {
      "text/html": [
       "<div>\n",
       "<style scoped>\n",
       "    .dataframe tbody tr th:only-of-type {\n",
       "        vertical-align: middle;\n",
       "    }\n",
       "\n",
       "    .dataframe tbody tr th {\n",
       "        vertical-align: top;\n",
       "    }\n",
       "\n",
       "    .dataframe thead th {\n",
       "        text-align: right;\n",
       "    }\n",
       "</style>\n",
       "<table border=\"1\" class=\"dataframe\">\n",
       "  <thead>\n",
       "    <tr style=\"text-align: right;\">\n",
       "      <th></th>\n",
       "      <th>net_sales</th>\n",
       "      <th>year</th>\n",
       "      <th>month</th>\n",
       "      <th>day</th>\n",
       "      <th>000:_adeptus_astartes_mark_3_space_marines</th>\n",
       "      <th>000:_adeptus_mechanicus_skitarii_-_59-10</th>\n",
       "      <th>000:_assault_intercessors_+_paints_set_-_60-11</th>\n",
       "      <th>000:_astra_militarum_cadian_command_squad</th>\n",
       "      <th>000:_astra_militarum_cadian_heavy_weapons_squad_-_47-19</th>\n",
       "      <th>000:_astra_militarum_cadian_infantry_squad</th>\n",
       "      <th>...</th>\n",
       "      <th>accessories</th>\n",
       "      <th>board_games</th>\n",
       "      <th>concessions</th>\n",
       "      <th>modeling_supplies</th>\n",
       "      <th>role_playing_games</th>\n",
       "      <th>minis_models</th>\n",
       "      <th>trading_card_games</th>\n",
       "      <th>other</th>\n",
       "      <th>game_room_rental</th>\n",
       "      <th>all_items</th>\n",
       "    </tr>\n",
       "  </thead>\n",
       "  <tbody>\n",
       "    <tr>\n",
       "      <th>count</th>\n",
       "      <td>19696.000000</td>\n",
       "      <td>19696.000000</td>\n",
       "      <td>19696.000000</td>\n",
       "      <td>19696.000000</td>\n",
       "      <td>19696.000000</td>\n",
       "      <td>19696.000000</td>\n",
       "      <td>19696.000000</td>\n",
       "      <td>19696.000000</td>\n",
       "      <td>19696.000000</td>\n",
       "      <td>19696.000000</td>\n",
       "      <td>...</td>\n",
       "      <td>19696.000000</td>\n",
       "      <td>19696.000000</td>\n",
       "      <td>19696.000000</td>\n",
       "      <td>19696.000000</td>\n",
       "      <td>19696.000000</td>\n",
       "      <td>19696.000000</td>\n",
       "      <td>19696.000000</td>\n",
       "      <td>19696.000000</td>\n",
       "      <td>19696.000000</td>\n",
       "      <td>19696.000000</td>\n",
       "    </tr>\n",
       "    <tr>\n",
       "      <th>mean</th>\n",
       "      <td>39.381388</td>\n",
       "      <td>2022.068542</td>\n",
       "      <td>6.680189</td>\n",
       "      <td>15.772847</td>\n",
       "      <td>0.000051</td>\n",
       "      <td>0.000051</td>\n",
       "      <td>0.000355</td>\n",
       "      <td>0.000051</td>\n",
       "      <td>0.000051</td>\n",
       "      <td>0.000051</td>\n",
       "      <td>...</td>\n",
       "      <td>0.380077</td>\n",
       "      <td>0.102864</td>\n",
       "      <td>1.020410</td>\n",
       "      <td>0.221416</td>\n",
       "      <td>0.031275</td>\n",
       "      <td>0.137033</td>\n",
       "      <td>0.980808</td>\n",
       "      <td>0.289500</td>\n",
       "      <td>0.015841</td>\n",
       "      <td>3.179377</td>\n",
       "    </tr>\n",
       "    <tr>\n",
       "      <th>std</th>\n",
       "      <td>61.312735</td>\n",
       "      <td>0.827475</td>\n",
       "      <td>3.380293</td>\n",
       "      <td>8.670018</td>\n",
       "      <td>0.007125</td>\n",
       "      <td>0.007125</td>\n",
       "      <td>0.018849</td>\n",
       "      <td>0.007125</td>\n",
       "      <td>0.007125</td>\n",
       "      <td>0.007125</td>\n",
       "      <td>...</td>\n",
       "      <td>1.102669</td>\n",
       "      <td>0.450640</td>\n",
       "      <td>1.660096</td>\n",
       "      <td>1.288956</td>\n",
       "      <td>0.217854</td>\n",
       "      <td>0.722297</td>\n",
       "      <td>3.980715</td>\n",
       "      <td>0.787219</td>\n",
       "      <td>0.129650</td>\n",
       "      <td>4.330795</td>\n",
       "    </tr>\n",
       "    <tr>\n",
       "      <th>min</th>\n",
       "      <td>0.000000</td>\n",
       "      <td>2021.000000</td>\n",
       "      <td>1.000000</td>\n",
       "      <td>1.000000</td>\n",
       "      <td>0.000000</td>\n",
       "      <td>0.000000</td>\n",
       "      <td>0.000000</td>\n",
       "      <td>0.000000</td>\n",
       "      <td>0.000000</td>\n",
       "      <td>0.000000</td>\n",
       "      <td>...</td>\n",
       "      <td>0.000000</td>\n",
       "      <td>0.000000</td>\n",
       "      <td>0.000000</td>\n",
       "      <td>0.000000</td>\n",
       "      <td>0.000000</td>\n",
       "      <td>0.000000</td>\n",
       "      <td>0.000000</td>\n",
       "      <td>0.000000</td>\n",
       "      <td>0.000000</td>\n",
       "      <td>1.000000</td>\n",
       "    </tr>\n",
       "    <tr>\n",
       "      <th>25%</th>\n",
       "      <td>6.200000</td>\n",
       "      <td>2021.000000</td>\n",
       "      <td>4.000000</td>\n",
       "      <td>9.000000</td>\n",
       "      <td>0.000000</td>\n",
       "      <td>0.000000</td>\n",
       "      <td>0.000000</td>\n",
       "      <td>0.000000</td>\n",
       "      <td>0.000000</td>\n",
       "      <td>0.000000</td>\n",
       "      <td>...</td>\n",
       "      <td>0.000000</td>\n",
       "      <td>0.000000</td>\n",
       "      <td>0.000000</td>\n",
       "      <td>0.000000</td>\n",
       "      <td>0.000000</td>\n",
       "      <td>0.000000</td>\n",
       "      <td>0.000000</td>\n",
       "      <td>0.000000</td>\n",
       "      <td>0.000000</td>\n",
       "      <td>1.000000</td>\n",
       "    </tr>\n",
       "    <tr>\n",
       "      <th>50%</th>\n",
       "      <td>17.970000</td>\n",
       "      <td>2022.000000</td>\n",
       "      <td>7.000000</td>\n",
       "      <td>16.000000</td>\n",
       "      <td>0.000000</td>\n",
       "      <td>0.000000</td>\n",
       "      <td>0.000000</td>\n",
       "      <td>0.000000</td>\n",
       "      <td>0.000000</td>\n",
       "      <td>0.000000</td>\n",
       "      <td>...</td>\n",
       "      <td>0.000000</td>\n",
       "      <td>0.000000</td>\n",
       "      <td>0.000000</td>\n",
       "      <td>0.000000</td>\n",
       "      <td>0.000000</td>\n",
       "      <td>0.000000</td>\n",
       "      <td>0.000000</td>\n",
       "      <td>0.000000</td>\n",
       "      <td>0.000000</td>\n",
       "      <td>2.000000</td>\n",
       "    </tr>\n",
       "    <tr>\n",
       "      <th>75%</th>\n",
       "      <td>45.172500</td>\n",
       "      <td>2023.000000</td>\n",
       "      <td>10.000000</td>\n",
       "      <td>23.000000</td>\n",
       "      <td>0.000000</td>\n",
       "      <td>0.000000</td>\n",
       "      <td>0.000000</td>\n",
       "      <td>0.000000</td>\n",
       "      <td>0.000000</td>\n",
       "      <td>0.000000</td>\n",
       "      <td>...</td>\n",
       "      <td>0.000000</td>\n",
       "      <td>0.000000</td>\n",
       "      <td>2.000000</td>\n",
       "      <td>0.000000</td>\n",
       "      <td>0.000000</td>\n",
       "      <td>0.000000</td>\n",
       "      <td>1.000000</td>\n",
       "      <td>0.000000</td>\n",
       "      <td>0.000000</td>\n",
       "      <td>4.000000</td>\n",
       "    </tr>\n",
       "    <tr>\n",
       "      <th>max</th>\n",
       "      <td>987.030000</td>\n",
       "      <td>2023.000000</td>\n",
       "      <td>12.000000</td>\n",
       "      <td>31.000000</td>\n",
       "      <td>1.000000</td>\n",
       "      <td>1.000000</td>\n",
       "      <td>1.000000</td>\n",
       "      <td>1.000000</td>\n",
       "      <td>1.000000</td>\n",
       "      <td>1.000000</td>\n",
       "      <td>...</td>\n",
       "      <td>23.000000</td>\n",
       "      <td>14.000000</td>\n",
       "      <td>20.000000</td>\n",
       "      <td>90.000000</td>\n",
       "      <td>8.000000</td>\n",
       "      <td>31.000000</td>\n",
       "      <td>96.000000</td>\n",
       "      <td>36.000000</td>\n",
       "      <td>3.000000</td>\n",
       "      <td>98.000000</td>\n",
       "    </tr>\n",
       "  </tbody>\n",
       "</table>\n",
       "<p>8 rows × 4871 columns</p>\n",
       "</div>"
      ],
      "text/plain": [
       "          net_sales          year         month           day  \\\n",
       "count  19696.000000  19696.000000  19696.000000  19696.000000   \n",
       "mean      39.381388   2022.068542      6.680189     15.772847   \n",
       "std       61.312735      0.827475      3.380293      8.670018   \n",
       "min        0.000000   2021.000000      1.000000      1.000000   \n",
       "25%        6.200000   2021.000000      4.000000      9.000000   \n",
       "50%       17.970000   2022.000000      7.000000     16.000000   \n",
       "75%       45.172500   2023.000000     10.000000     23.000000   \n",
       "max      987.030000   2023.000000     12.000000     31.000000   \n",
       "\n",
       "       000:_adeptus_astartes_mark_3_space_marines  \\\n",
       "count                                19696.000000   \n",
       "mean                                     0.000051   \n",
       "std                                      0.007125   \n",
       "min                                      0.000000   \n",
       "25%                                      0.000000   \n",
       "50%                                      0.000000   \n",
       "75%                                      0.000000   \n",
       "max                                      1.000000   \n",
       "\n",
       "       000:_adeptus_mechanicus_skitarii_-_59-10  \\\n",
       "count                              19696.000000   \n",
       "mean                                   0.000051   \n",
       "std                                    0.007125   \n",
       "min                                    0.000000   \n",
       "25%                                    0.000000   \n",
       "50%                                    0.000000   \n",
       "75%                                    0.000000   \n",
       "max                                    1.000000   \n",
       "\n",
       "       000:_assault_intercessors_+_paints_set_-_60-11  \\\n",
       "count                                    19696.000000   \n",
       "mean                                         0.000355   \n",
       "std                                          0.018849   \n",
       "min                                          0.000000   \n",
       "25%                                          0.000000   \n",
       "50%                                          0.000000   \n",
       "75%                                          0.000000   \n",
       "max                                          1.000000   \n",
       "\n",
       "       000:_astra_militarum_cadian_command_squad  \\\n",
       "count                               19696.000000   \n",
       "mean                                    0.000051   \n",
       "std                                     0.007125   \n",
       "min                                     0.000000   \n",
       "25%                                     0.000000   \n",
       "50%                                     0.000000   \n",
       "75%                                     0.000000   \n",
       "max                                     1.000000   \n",
       "\n",
       "       000:_astra_militarum_cadian_heavy_weapons_squad_-_47-19  \\\n",
       "count                                       19696.000000         \n",
       "mean                                            0.000051         \n",
       "std                                             0.007125         \n",
       "min                                             0.000000         \n",
       "25%                                             0.000000         \n",
       "50%                                             0.000000         \n",
       "75%                                             0.000000         \n",
       "max                                             1.000000         \n",
       "\n",
       "       000:_astra_militarum_cadian_infantry_squad  ...   accessories  \\\n",
       "count                                19696.000000  ...  19696.000000   \n",
       "mean                                     0.000051  ...      0.380077   \n",
       "std                                      0.007125  ...      1.102669   \n",
       "min                                      0.000000  ...      0.000000   \n",
       "25%                                      0.000000  ...      0.000000   \n",
       "50%                                      0.000000  ...      0.000000   \n",
       "75%                                      0.000000  ...      0.000000   \n",
       "max                                      1.000000  ...     23.000000   \n",
       "\n",
       "        board_games   concessions  modeling_supplies  role_playing_games  \\\n",
       "count  19696.000000  19696.000000       19696.000000        19696.000000   \n",
       "mean       0.102864      1.020410           0.221416            0.031275   \n",
       "std        0.450640      1.660096           1.288956            0.217854   \n",
       "min        0.000000      0.000000           0.000000            0.000000   \n",
       "25%        0.000000      0.000000           0.000000            0.000000   \n",
       "50%        0.000000      0.000000           0.000000            0.000000   \n",
       "75%        0.000000      2.000000           0.000000            0.000000   \n",
       "max       14.000000     20.000000          90.000000            8.000000   \n",
       "\n",
       "       minis_models  trading_card_games         other  game_room_rental  \\\n",
       "count  19696.000000        19696.000000  19696.000000      19696.000000   \n",
       "mean       0.137033            0.980808      0.289500          0.015841   \n",
       "std        0.722297            3.980715      0.787219          0.129650   \n",
       "min        0.000000            0.000000      0.000000          0.000000   \n",
       "25%        0.000000            0.000000      0.000000          0.000000   \n",
       "50%        0.000000            0.000000      0.000000          0.000000   \n",
       "75%        0.000000            1.000000      0.000000          0.000000   \n",
       "max       31.000000           96.000000     36.000000          3.000000   \n",
       "\n",
       "          all_items  \n",
       "count  19696.000000  \n",
       "mean       3.179377  \n",
       "std        4.330795  \n",
       "min        1.000000  \n",
       "25%        1.000000  \n",
       "50%        2.000000  \n",
       "75%        4.000000  \n",
       "max       98.000000  \n",
       "\n",
       "[8 rows x 4871 columns]"
      ]
     },
     "execution_count": 8,
     "metadata": {},
     "output_type": "execute_result"
    }
   ],
   "source": [
    "df.describe()"
   ]
  },
  {
   "cell_type": "code",
   "execution_count": 10,
   "id": "light-offset",
   "metadata": {},
   "outputs": [
    {
     "name": "stdout",
     "output_type": "stream",
     "text": [
      "accessories Hist\n"
     ]
    },
    {
     "data": {
      "image/png": "[encoded data removed]",
      "text/plain": [
       "<Figure size 432x288 with 1 Axes>"
      ]
     },
     "metadata": {
      "needs_background": "light"
     },
     "output_type": "display_data"
    },
    {
     "name": "stdout",
     "output_type": "stream",
     "text": [
      "board_games Hist\n"
     ]
    },
    {
     "data": {
      "image/png": "[encoded data removed]",
      "text/plain": [
       "<Figure size 432x288 with 1 Axes>"
      ]
     },
     "metadata": {
      "needs_background": "light"
     },
     "output_type": "display_data"
    },
    {
     "name": "stdout",
     "output_type": "stream",
     "text": [
      "concessions Hist\n"
     ]
    },
    {
     "data": {
      "image/png": "[encoded data removed]",
      "text/plain": [
       "<Figure size 432x288 with 1 Axes>"
      ]
     },
     "metadata": {
      "needs_background": "light"
     },
     "output_type": "display_data"
    },
    {
     "name": "stdout",
     "output_type": "stream",
     "text": [
      "modeling_supplies Hist\n"
     ]
    },
    {
     "data": {
      "image/png": "[encoded data removed]",
      "text/plain": [
       "<Figure size 432x288 with 1 Axes>"
      ]
     },
     "metadata": {
      "needs_background": "light"
     },
     "output_type": "display_data"
    },
    {
     "name": "stdout",
     "output_type": "stream",
     "text": [
      "role_playing_games Hist\n"
     ]
    },
    {
     "data": {
      "image/png": "[encoded data removed]",
      "text/plain": [
       "<Figure size 432x288 with 1 Axes>"
      ]
     },
     "metadata": {
      "needs_background": "light"
     },
     "output_type": "display_data"
    },
    {
     "name": "stdout",
     "output_type": "stream",
     "text": [
      "minis_models Hist\n"
     ]
    },
    {
     "data": {
      "image/png": "[encoded data removed]",
      "text/plain": [
       "<Figure size 432x288 with 1 Axes>"
      ]
     },
     "metadata": {
      "needs_background": "light"
     },
     "output_type": "display_data"
    },
    {
     "name": "stdout",
     "output_type": "stream",
     "text": [
      "trading_card_games Hist\n"
     ]
    },
    {
     "data": {
      "image/png": "[encoded data removed]",
      "text/plain": [
       "<Figure size 432x288 with 1 Axes>"
      ]
     },
     "metadata": {
      "needs_background": "light"
     },
     "output_type": "display_data"
    },
    {
     "name": "stdout",
     "output_type": "stream",
     "text": [
      "game_room Hist\n"
     ]
    },
    {
     "data": {
      "image/png": "[encoded data removed]",
      "text/plain": [
       "<Figure size 432x288 with 1 Axes>"
      ]
     },
     "metadata": {
      "needs_background": "light"
     },
     "output_type": "display_data"
    }
   ],
   "source": [
    "cols = ['accessories', \n",
    "        'board_games', \n",
    "        'concessions',\n",
    "        'modeling_supplies', \n",
    "        'role_playing_games', \n",
    "        'minis_models',\n",
    "        'trading_card_games',\n",
    "        'game_room']\n",
    "\n",
    "for col in cols:\n",
    "    \n",
    "    \n",
    "    print(col, 'Hist')\n",
    "    \n",
    "    plt.boxplot(df[col])\n",
    "    \n",
    "    plt.show()\n",
    "    "
   ]
  },
  {
   "cell_type": "code",
   "execution_count": null,
   "id": "painted-netherlands",
   "metadata": {},
   "outputs": [],
   "source": [
    "# Prepare data for project\n",
    "df = w.get_prepared_data()\n",
    "df = wp.get_profiles_data(df)"
   ]
  },
  {
   "cell_type": "code",
   "execution_count": null,
   "id": "inclusive-tomorrow",
   "metadata": {},
   "outputs": [],
   "source": []
  },
  {
   "cell_type": "code",
   "execution_count": null,
   "id": "searching-refund",
   "metadata": {},
   "outputs": [],
   "source": [
    "df.head()"
   ]
  },
  {
   "cell_type": "markdown",
   "id": "armed-citizenship",
   "metadata": {},
   "source": [
    "# Data Dictionary\n",
    "\n",
    "Rows in the original data represent a record for each purchase made at LGS in the years 2021, 2022, and 2023. <br>\n",
    "The final transformation of the data will contain columns showing the total number of purchases made by a given customer across several categories in 2023. It will also show the total number of sales and net sales in dollars (sales after removing discounts) for each customer in 2023. Categories include the following:\n",
    "\n",
    "\n",
    "|Category|Description|Examples|\n",
    "|--------|-----------|--------|\n",
    "|Accessories|Items that enhance game play or are used to store game play items|Binders, Dice, Card Sleeves|\n",
    "|Board Games|Self contained board games and board game expansions|Terraforming Mars, LOTR Journies in Middle Earth|\n",
    "|Concessions|Food and drink items|drinks, candy|\n",
    "|Minis/Models|Miniature models, contained in customizable table top minis games or sold as stand alone minis or sets of minis Does not include boardgames that contain minis|Warhammer Minis, D&D Minis|\n",
    "|Modeling Supplies|Items used to enhance appearance of minis/models|Painting Supplies, Model Bases|\n",
    "|Role Playing Games|Books and map packs for Role Playing Games|Dungeons and Dragons Books, Pathfinder Books|\n",
    "|Trading Card Games|Cards for customizable card games|Magic, Pokemon, Yugio|\n",
    "\n",
    "\n",
    "* Some store items could not be classified and were not included in catagory counts but were included in the total item count Example 'customamount'\n"
   ]
  },
  {
   "cell_type": "markdown",
   "id": "virgin-executive",
   "metadata": {},
   "source": [
    "# Exploration"
   ]
  },
  {
   "cell_type": "code",
   "execution_count": null,
   "id": "answering-questionnaire",
   "metadata": {},
   "outputs": [],
   "source": [
    "df.describe()"
   ]
  },
  {
   "cell_type": "code",
   "execution_count": null,
   "id": "macro-conservation",
   "metadata": {},
   "outputs": [],
   "source": []
  },
  {
   "cell_type": "code",
   "execution_count": null,
   "id": "imported-viking",
   "metadata": {},
   "outputs": [],
   "source": []
  },
  {
   "cell_type": "code",
   "execution_count": null,
   "id": "enabling-blink",
   "metadata": {},
   "outputs": [],
   "source": []
  },
  {
   "cell_type": "code",
   "execution_count": null,
   "id": "taken-instrument",
   "metadata": {},
   "outputs": [],
   "source": []
  },
  {
   "cell_type": "code",
   "execution_count": null,
   "id": "acceptable-salem",
   "metadata": {},
   "outputs": [],
   "source": [
    "from sklearn.cluster import DBSCAN \n",
    "\n",
    "cols = ['accessories_scaled', \n",
    "        'board_games_scaled', \n",
    "        'concessions_scaled',\n",
    "        'modeling_supplies_scaled', \n",
    "        'role_playing_games_scaled', \n",
    "        'minis_models_scaled',\n",
    "        'trading_card_games_scaled',\n",
    "        'game_room_rental']\n",
    "\n",
    "X = df[cols]\n",
    "\n",
    "model = DBSCAN().fit(X)\n",
    "\n",
    "df['cluster'] = model.labels_\n",
    "\n",
    "df.cluster.value_counts()"
   ]
  },
  {
   "cell_type": "code",
   "execution_count": null,
   "id": "existing-religion",
   "metadata": {},
   "outputs": [],
   "source": [
    "df[df.cluster == 0].describe()"
   ]
  },
  {
   "cell_type": "code",
   "execution_count": null,
   "id": "permanent-station",
   "metadata": {},
   "outputs": [],
   "source": [
    "df[df.cluster == 2].describe()"
   ]
  },
  {
   "cell_type": "code",
   "execution_count": null,
   "id": "charming-aquatic",
   "metadata": {},
   "outputs": [],
   "source": [
    "df[df.cluster == 5].describe()"
   ]
  },
  {
   "cell_type": "code",
   "execution_count": null,
   "id": "treated-seeker",
   "metadata": {},
   "outputs": [],
   "source": [
    "df[df.cluster == 4].describe()"
   ]
  },
  {
   "cell_type": "code",
   "execution_count": null,
   "id": "insured-globe",
   "metadata": {},
   "outputs": [],
   "source": [
    "df[df.cluster == 6].describe()"
   ]
  },
  {
   "cell_type": "code",
   "execution_count": null,
   "id": "instant-parcel",
   "metadata": {},
   "outputs": [],
   "source": [
    "df[df.cluster == 3].describe()"
   ]
  },
  {
   "cell_type": "code",
   "execution_count": null,
   "id": "classified-reducing",
   "metadata": {
    "scrolled": true
   },
   "outputs": [],
   "source": [
    "df[df.cluster == 7].describe()"
   ]
  },
  {
   "cell_type": "code",
   "execution_count": null,
   "id": "divided-marriage",
   "metadata": {},
   "outputs": [],
   "source": [
    "df[df.cluster == 1].describe()"
   ]
  },
  {
   "cell_type": "code",
   "execution_count": null,
   "id": "worst-cocktail",
   "metadata": {},
   "outputs": [],
   "source": [
    "df[df.cluster == 8].describe()"
   ]
  },
  {
   "cell_type": "code",
   "execution_count": null,
   "id": "foster-secondary",
   "metadata": {},
   "outputs": [],
   "source": [
    "df[df.cluster == 9].describe()"
   ]
  },
  {
   "cell_type": "code",
   "execution_count": null,
   "id": "olympic-yahoo",
   "metadata": {
    "scrolled": true
   },
   "outputs": [],
   "source": [
    "from itertools import combinations\n",
    "from scipy.stats import spearmanr\n",
    "\n",
    "cols = ['accessories_scaled', \n",
    "        'board_games_scaled', \n",
    "        'concessions_scaled',\n",
    "        'modeling_supplies_scaled', \n",
    "        'role_playing_games_scaled', \n",
    "        'minis_models_scaled',\n",
    "        'trading_card_games_scaled',\n",
    "        'game_room_rental',\n",
    "        'all_items']\n",
    "\n",
    "combs = combinations(cols, 2)\n",
    "\n",
    "for pair in combs:\n",
    "    \n",
    "    plt.scatter(df[{pair[0]}], df[{pair[1]}])\n",
    "    \n",
    "    plt.xlabel({pair[0]})\n",
    "    plt.ylabel({pair[1]})\n",
    "    \n",
    "    plt.show()\n",
    "    \n",
    "    print(\" Correlation           P-value\")\n",
    "    print(spearmanr(df[f'{pair[0]}'], df[f'{pair[1]}']))"
   ]
  },
  {
   "cell_type": "code",
   "execution_count": null,
   "id": "dressed-patrick",
   "metadata": {},
   "outputs": [],
   "source": []
  }
 ],
 "metadata": {
  "kernelspec": {
   "display_name": "Python 3",
   "language": "python",
   "name": "python3"
  },
  "language_info": {
   "codemirror_mode": {
    "name": "ipython",
    "version": 3
   },
   "file_extension": ".py",
   "mimetype": "text/x-python",
   "name": "python",
   "nbconvert_exporter": "python",
   "pygments_lexer": "ipython3",
   "version": "3.7.4"
  }
 },
 "nbformat": 4,
 "nbformat_minor": 5
}
