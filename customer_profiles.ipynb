{
 "cells": [
  {
   "cell_type": "markdown",
   "id": "extended-tsunami",
   "metadata": {},
   "source": [
    "# Goal: Create Customer Profiles for LGS "
   ]
  },
  {
   "cell_type": "code",
   "execution_count": 13,
   "id": "subsequent-skill",
   "metadata": {},
   "outputs": [],
   "source": [
    "import wrangle_profiles as wp\n",
    "import matplotlib.pyplot as plt"
   ]
  },
  {
   "cell_type": "markdown",
   "id": "referenced-customer",
   "metadata": {},
   "source": [
    "## Methodology:\n",
    "\n",
    "1. Divide store items into categories\n",
    "2. Calculate the total number of items that each customer has purchased in each category\n",
    "3. Use dbscan to cluster customers and create groups based on those clusters\n",
    "4. Analyze each group and develop a profiles based on that analysis "
   ]
  },
  {
   "cell_type": "markdown",
   "id": "south-balance",
   "metadata": {},
   "source": [
    "# Prepare Steps\n",
    "\n",
    "1. Read in sales data by year and merge files into one dataframe <br>\n",
    "<br>\n",
    "2. Create datetime column and set index to the datetime column <br>\n",
    "<br>\n",
    "3. Delete unused columns <br>\n",
    "<br>\n",
    "3. Rename columns for ease of use <br>\n",
    "<br>\n",
    "4. Remove non-payment rows <br>\n",
    "<br>\n",
    "5. Clean text in cart and convert value to a list <br>\n",
    "<br>\n",
    "6. Fill Null values using\n",
    "    * ‘unregistered’ for the id column <br>\n",
    "    * ‘No-discount’ for the discount  <br>\n",
    "<br>\n"
   ]
  },
  {
   "cell_type": "markdown",
   "id": "armed-citizenship",
   "metadata": {},
   "source": [
    "# Data Dictionary\n",
    "\n",
    "Rows in the original data contain a record for each purchase made at LGS in the years 2021, 2022, and 2023. <br>\n",
    "The final transformation of the data will contain the total number of purchases made by a given customer across the following categories:\n",
    "\n",
    "\n",
    "|Category|Description|Examples|\n",
    "|--------|-----------|--------|\n",
    "|Accessories|Items that enhance game play or are used to store game play items|Binders, Dice, Card Sleeves|\n",
    "|Board Games|Self contained board games and board game expansions|Terraforming Mars, LOTR Journies in Middle Earth|\n",
    "|Concessions|Food and drink items|drinks, candy|\n",
    "|Minis/Models|Miniature models, contained in customizable table top minis games or sold as stand alone minis or sets of minis Does not include boardgames that contain minis|Warhammer Minis, D&D Minis|\n",
    "|Modeling Supplies|Items used to enhance appearance of minis/models|Painting Supplies, Model Bases|\n",
    "|Role Playing Games|Books and map packs for Role Playing Games|Dungeons and Dragons Books, Pathfinder Books|\n",
    "|Trading Card Games|Cards for customizable card games|Magic, Pokemon, Yugio|"
   ]
  },
  {
   "cell_type": "code",
   "execution_count": 2,
   "id": "painted-netherlands",
   "metadata": {},
   "outputs": [],
   "source": [
    "# aquire and prepare data\n",
    "df = wp.wrangle_profiles()"
   ]
  },
  {
   "cell_type": "code",
   "execution_count": 20,
   "id": "adaptive-banana",
   "metadata": {},
   "outputs": [
    {
     "ename": "AttributeError",
     "evalue": "module 'matplotlib.pyplot' has no attribute 'xlable'",
     "output_type": "error",
     "traceback": [
      "\u001b[0;31m---------------------------------------------------------------------------\u001b[0m",
      "\u001b[0;31mAttributeError\u001b[0m                            Traceback (most recent call last)",
      "\u001b[0;32m<ipython-input-20-24037c1b820d>\u001b[0m in \u001b[0;36m<module>\u001b[0;34m\u001b[0m\n\u001b[1;32m     18\u001b[0m     \u001b[0mplt\u001b[0m\u001b[0;34m.\u001b[0m\u001b[0mscatter\u001b[0m\u001b[0;34m(\u001b[0m\u001b[0mdf\u001b[0m\u001b[0;34m[\u001b[0m\u001b[0;34mf'{pair[0]}'\u001b[0m\u001b[0;34m]\u001b[0m\u001b[0;34m,\u001b[0m \u001b[0mdf\u001b[0m\u001b[0;34m[\u001b[0m\u001b[0;34mf'{pair[1]}'\u001b[0m\u001b[0;34m]\u001b[0m\u001b[0;34m)\u001b[0m\u001b[0;34m\u001b[0m\u001b[0;34m\u001b[0m\u001b[0m\n\u001b[1;32m     19\u001b[0m \u001b[0;34m\u001b[0m\u001b[0m\n\u001b[0;32m---> 20\u001b[0;31m     \u001b[0mplt\u001b[0m\u001b[0;34m.\u001b[0m\u001b[0mxlable\u001b[0m\u001b[0;34m(\u001b[0m\u001b[0;34mf'{pair[0]}'\u001b[0m\u001b[0;34m)\u001b[0m\u001b[0;34m\u001b[0m\u001b[0;34m\u001b[0m\u001b[0m\n\u001b[0m\u001b[1;32m     21\u001b[0m     \u001b[0mplt\u001b[0m\u001b[0;34m.\u001b[0m\u001b[0mylable\u001b[0m\u001b[0;34m(\u001b[0m\u001b[0;34mf'{pair[1]}'\u001b[0m\u001b[0;34m)\u001b[0m\u001b[0;34m\u001b[0m\u001b[0;34m\u001b[0m\u001b[0m\n\u001b[1;32m     22\u001b[0m \u001b[0;34m\u001b[0m\u001b[0m\n",
      "\u001b[0;31mAttributeError\u001b[0m: module 'matplotlib.pyplot' has no attribute 'xlable'"
     ]
    },
    {
     "data": {
      "image/png": "[encoded data removed]",
      "text/plain": [
       "<Figure size 432x288 with 1 Axes>"
      ]
     },
     "metadata": {
      "needs_background": "light"
     },
     "output_type": "display_data"
    }
   ],
   "source": [
    "from itertools import combinations\n",
    "\n",
    "\n",
    "cols = ['accessories', \n",
    "        'board_games', \n",
    "        'concessions',\n",
    "        'modeling_supplies', \n",
    "        'role_playing_games', \n",
    "        'minis_models',\n",
    "        'trading_card_games']\n",
    "\n",
    "combs = combinations(cols, 2)\n",
    "\n",
    "for pair in combs:\n",
    "    \n",
    "    plt.scatter(df[f'{pair[0]}'], df[f'{pair[1]}'])\n",
    "    \n",
    "    plt.xlable(f'{pair[0]}')\n",
    "    plt.ylable(f'{pair[1]}')\n",
    "    \n",
    "    plt.show()"
   ]
  },
  {
   "cell_type": "code",
   "execution_count": null,
   "id": "dressed-patrick",
   "metadata": {},
   "outputs": [],
   "source": []
  }
 ],
 "metadata": {
  "kernelspec": {
   "display_name": "Python 3",
   "language": "python",
   "name": "python3"
  },
  "language_info": {
   "codemirror_mode": {
    "name": "ipython",
    "version": 3
   },
   "file_extension": ".py",
   "mimetype": "text/x-python",
   "name": "python",
   "nbconvert_exporter": "python",
   "pygments_lexer": "ipython3",
   "version": "3.7.4"
  }
 },
 "nbformat": 4,
 "nbformat_minor": 5
}
