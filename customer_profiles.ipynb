{
 "cells": [
  {
   "cell_type": "markdown",
   "id": "extended-tsunami",
   "metadata": {},
   "source": [
    "# Goal: Create Customer Profiles for an LGS"
   ]
  },
  {
   "cell_type": "code",
   "execution_count": 1,
   "id": "eligible-pilot",
   "metadata": {},
   "outputs": [],
   "source": [
    "import pandas as pd\n",
    "import wrangle as w\n",
    "import wrangle_profiles as wp\n",
    "\n",
    "import matplotlib.pyplot as plt\n",
    "\n",
    "# ignore warnings\n",
    "import warnings\n",
    "warnings.filterwarnings(\"ignore\")"
   ]
  },
  {
   "cell_type": "markdown",
   "id": "referenced-customer",
   "metadata": {},
   "source": [
    "## Methodology:\n",
    "\n",
    "1. Divide store items into categories\n",
    "2. Calculate the total number of items that each customer has purchased in each category\n",
    "3. Use dbscan to cluster customers and create groups based on those clusters\n",
    "4. Analyze each group and develop a profiles based on that analysis "
   ]
  },
  {
   "cell_type": "markdown",
   "id": "south-balance",
   "metadata": {},
   "source": [
    "# Prepare Steps\n",
    "\n",
    "## General\n",
    "\n",
    "1. Read in sales data by year and merge files into one dataframe <br>\n",
    "<br>\n",
    "2. Remove non-payment rows <br>\n",
    "<br>\n",
    "3. Create datetime column and set index to the datetime column <br>\n",
    "<br>\n",
    "4. Delete unused columns and Rename remaining columns for ease of use <br>\n",
    "<br>\n",
    "5. Clean text in ID <br>\n",
    "<br>\n",
    "4. Clean text in net_sales and convert to int <br>\n",
    "<br>\n",
    "5. Clean text in cart and convert items string to a list of those items <br>\n",
    "<br>\n",
    "6. Fill Null values using\n",
    "  * ‘unregistered’ for the id column <br>\n",
    "  * ‘No-discount’ for the discount  <br>\n",
    "<br>\n",
    "7. Add a column for each item showing the nuber of that item bought in each transaction <br>\n",
    "<br>\n",
    "8. Add a column for each category of item showing the number of items bought in that catagory  <br>\n",
    "\n",
    "## Project Specific\n",
    "\n",
    "1. Restrict data to purchases made in 2023 <br>\n",
    "<br>\n",
    "2. Drop all unrelated columns <br>\n",
    "<br>\n",
    "3. Drop rows where id is unregistered <br>\n",
    "<br>\n",
    "4. Create scaled columns for each category column <br>"
   ]
  },
  {
   "cell_type": "code",
   "execution_count": 2,
   "id": "painted-netherlands",
   "metadata": {},
   "outputs": [],
   "source": [
    "# Prepare data for project\n",
    "df = w.get_prepared_data()\n",
    "df = wp.get_profiles_data(df)"
   ]
  },
  {
   "cell_type": "code",
   "execution_count": 3,
   "id": "absolute-provincial",
   "metadata": {},
   "outputs": [
    {
     "data": {
      "text/html": [
       "<div>\n",
       "<style scoped>\n",
       "    .dataframe tbody tr th:only-of-type {\n",
       "        vertical-align: middle;\n",
       "    }\n",
       "\n",
       "    .dataframe tbody tr th {\n",
       "        vertical-align: top;\n",
       "    }\n",
       "\n",
       "    .dataframe thead th {\n",
       "        text-align: right;\n",
       "    }\n",
       "</style>\n",
       "<table border=\"1\" class=\"dataframe\">\n",
       "  <thead>\n",
       "    <tr style=\"text-align: right;\">\n",
       "      <th></th>\n",
       "      <th>accessories</th>\n",
       "      <th>board_games</th>\n",
       "      <th>concessions</th>\n",
       "      <th>modeling_supplies</th>\n",
       "      <th>role_playing_games</th>\n",
       "      <th>minis_models</th>\n",
       "      <th>trading_card_games</th>\n",
       "      <th>net_sales</th>\n",
       "      <th>accessories_scaled</th>\n",
       "      <th>board_games_scaled</th>\n",
       "      <th>concessions_scaled</th>\n",
       "      <th>modeling_supplies_scaled</th>\n",
       "      <th>role_playing_games_scaled</th>\n",
       "      <th>minis_models_scaled</th>\n",
       "      <th>trading_card_games_scaled</th>\n",
       "    </tr>\n",
       "  </thead>\n",
       "  <tbody>\n",
       "    <tr>\n",
       "      <th>0</th>\n",
       "      <td>0</td>\n",
       "      <td>0</td>\n",
       "      <td>0</td>\n",
       "      <td>0</td>\n",
       "      <td>0</td>\n",
       "      <td>0</td>\n",
       "      <td>1</td>\n",
       "      <td>119.99</td>\n",
       "      <td>-0.343637</td>\n",
       "      <td>-0.256386</td>\n",
       "      <td>-0.657367</td>\n",
       "      <td>-0.188468</td>\n",
       "      <td>-0.164303</td>\n",
       "      <td>-0.188888</td>\n",
       "      <td>0.244052</td>\n",
       "    </tr>\n",
       "    <tr>\n",
       "      <th>1</th>\n",
       "      <td>1</td>\n",
       "      <td>0</td>\n",
       "      <td>0</td>\n",
       "      <td>2</td>\n",
       "      <td>0</td>\n",
       "      <td>2</td>\n",
       "      <td>0</td>\n",
       "      <td>44.05</td>\n",
       "      <td>0.457055</td>\n",
       "      <td>-0.256386</td>\n",
       "      <td>-0.657367</td>\n",
       "      <td>0.823929</td>\n",
       "      <td>-0.164303</td>\n",
       "      <td>2.623187</td>\n",
       "      <td>-0.322458</td>\n",
       "    </tr>\n",
       "    <tr>\n",
       "      <th>2</th>\n",
       "      <td>0</td>\n",
       "      <td>1</td>\n",
       "      <td>0</td>\n",
       "      <td>0</td>\n",
       "      <td>0</td>\n",
       "      <td>0</td>\n",
       "      <td>0</td>\n",
       "      <td>59.99</td>\n",
       "      <td>-0.343637</td>\n",
       "      <td>1.982355</td>\n",
       "      <td>-0.657367</td>\n",
       "      <td>-0.188468</td>\n",
       "      <td>-0.164303</td>\n",
       "      <td>-0.188888</td>\n",
       "      <td>-0.322458</td>\n",
       "    </tr>\n",
       "    <tr>\n",
       "      <th>3</th>\n",
       "      <td>1</td>\n",
       "      <td>0</td>\n",
       "      <td>0</td>\n",
       "      <td>0</td>\n",
       "      <td>0</td>\n",
       "      <td>0</td>\n",
       "      <td>0</td>\n",
       "      <td>29.99</td>\n",
       "      <td>0.457055</td>\n",
       "      <td>-0.256386</td>\n",
       "      <td>-0.657367</td>\n",
       "      <td>-0.188468</td>\n",
       "      <td>-0.164303</td>\n",
       "      <td>-0.188888</td>\n",
       "      <td>-0.322458</td>\n",
       "    </tr>\n",
       "    <tr>\n",
       "      <th>4</th>\n",
       "      <td>1</td>\n",
       "      <td>1</td>\n",
       "      <td>0</td>\n",
       "      <td>0</td>\n",
       "      <td>0</td>\n",
       "      <td>0</td>\n",
       "      <td>0</td>\n",
       "      <td>34.98</td>\n",
       "      <td>0.457055</td>\n",
       "      <td>1.982355</td>\n",
       "      <td>-0.657367</td>\n",
       "      <td>-0.188468</td>\n",
       "      <td>-0.164303</td>\n",
       "      <td>-0.188888</td>\n",
       "      <td>-0.322458</td>\n",
       "    </tr>\n",
       "    <tr>\n",
       "      <th>...</th>\n",
       "      <td>...</td>\n",
       "      <td>...</td>\n",
       "      <td>...</td>\n",
       "      <td>...</td>\n",
       "      <td>...</td>\n",
       "      <td>...</td>\n",
       "      <td>...</td>\n",
       "      <td>...</td>\n",
       "      <td>...</td>\n",
       "      <td>...</td>\n",
       "      <td>...</td>\n",
       "      <td>...</td>\n",
       "      <td>...</td>\n",
       "      <td>...</td>\n",
       "      <td>...</td>\n",
       "    </tr>\n",
       "    <tr>\n",
       "      <th>6151</th>\n",
       "      <td>0</td>\n",
       "      <td>0</td>\n",
       "      <td>3</td>\n",
       "      <td>0</td>\n",
       "      <td>0</td>\n",
       "      <td>0</td>\n",
       "      <td>0</td>\n",
       "      <td>6.25</td>\n",
       "      <td>-0.343637</td>\n",
       "      <td>-0.256386</td>\n",
       "      <td>1.174571</td>\n",
       "      <td>-0.188468</td>\n",
       "      <td>-0.164303</td>\n",
       "      <td>-0.188888</td>\n",
       "      <td>-0.322458</td>\n",
       "    </tr>\n",
       "    <tr>\n",
       "      <th>6152</th>\n",
       "      <td>0</td>\n",
       "      <td>0</td>\n",
       "      <td>1</td>\n",
       "      <td>3</td>\n",
       "      <td>0</td>\n",
       "      <td>0</td>\n",
       "      <td>0</td>\n",
       "      <td>20.17</td>\n",
       "      <td>-0.343637</td>\n",
       "      <td>-0.256386</td>\n",
       "      <td>-0.046721</td>\n",
       "      <td>1.330128</td>\n",
       "      <td>-0.164303</td>\n",
       "      <td>-0.188888</td>\n",
       "      <td>-0.322458</td>\n",
       "    </tr>\n",
       "    <tr>\n",
       "      <th>6153</th>\n",
       "      <td>0</td>\n",
       "      <td>0</td>\n",
       "      <td>2</td>\n",
       "      <td>0</td>\n",
       "      <td>0</td>\n",
       "      <td>1</td>\n",
       "      <td>1</td>\n",
       "      <td>9.95</td>\n",
       "      <td>-0.343637</td>\n",
       "      <td>-0.256386</td>\n",
       "      <td>0.563925</td>\n",
       "      <td>-0.188468</td>\n",
       "      <td>-0.164303</td>\n",
       "      <td>1.217150</td>\n",
       "      <td>0.244052</td>\n",
       "    </tr>\n",
       "    <tr>\n",
       "      <th>6154</th>\n",
       "      <td>0</td>\n",
       "      <td>2</td>\n",
       "      <td>0</td>\n",
       "      <td>0</td>\n",
       "      <td>0</td>\n",
       "      <td>0</td>\n",
       "      <td>0</td>\n",
       "      <td>59.98</td>\n",
       "      <td>-0.343637</td>\n",
       "      <td>4.221096</td>\n",
       "      <td>-0.657367</td>\n",
       "      <td>-0.188468</td>\n",
       "      <td>-0.164303</td>\n",
       "      <td>-0.188888</td>\n",
       "      <td>-0.322458</td>\n",
       "    </tr>\n",
       "    <tr>\n",
       "      <th>6155</th>\n",
       "      <td>0</td>\n",
       "      <td>0</td>\n",
       "      <td>5</td>\n",
       "      <td>0</td>\n",
       "      <td>0</td>\n",
       "      <td>0</td>\n",
       "      <td>4</td>\n",
       "      <td>32.91</td>\n",
       "      <td>-0.343637</td>\n",
       "      <td>-0.256386</td>\n",
       "      <td>2.395862</td>\n",
       "      <td>-0.188468</td>\n",
       "      <td>-0.164303</td>\n",
       "      <td>-0.188888</td>\n",
       "      <td>1.943583</td>\n",
       "    </tr>\n",
       "  </tbody>\n",
       "</table>\n",
       "<p>6156 rows × 15 columns</p>\n",
       "</div>"
      ],
      "text/plain": [
       "      accessories  board_games  concessions  modeling_supplies  \\\n",
       "0               0            0            0                  0   \n",
       "1               1            0            0                  2   \n",
       "2               0            1            0                  0   \n",
       "3               1            0            0                  0   \n",
       "4               1            1            0                  0   \n",
       "...           ...          ...          ...                ...   \n",
       "6151            0            0            3                  0   \n",
       "6152            0            0            1                  3   \n",
       "6153            0            0            2                  0   \n",
       "6154            0            2            0                  0   \n",
       "6155            0            0            5                  0   \n",
       "\n",
       "      role_playing_games  minis_models  trading_card_games  net_sales  \\\n",
       "0                      0             0                   1     119.99   \n",
       "1                      0             2                   0      44.05   \n",
       "2                      0             0                   0      59.99   \n",
       "3                      0             0                   0      29.99   \n",
       "4                      0             0                   0      34.98   \n",
       "...                  ...           ...                 ...        ...   \n",
       "6151                   0             0                   0       6.25   \n",
       "6152                   0             0                   0      20.17   \n",
       "6153                   0             1                   1       9.95   \n",
       "6154                   0             0                   0      59.98   \n",
       "6155                   0             0                   4      32.91   \n",
       "\n",
       "      accessories_scaled  board_games_scaled  concessions_scaled  \\\n",
       "0              -0.343637           -0.256386           -0.657367   \n",
       "1               0.457055           -0.256386           -0.657367   \n",
       "2              -0.343637            1.982355           -0.657367   \n",
       "3               0.457055           -0.256386           -0.657367   \n",
       "4               0.457055            1.982355           -0.657367   \n",
       "...                  ...                 ...                 ...   \n",
       "6151           -0.343637           -0.256386            1.174571   \n",
       "6152           -0.343637           -0.256386           -0.046721   \n",
       "6153           -0.343637           -0.256386            0.563925   \n",
       "6154           -0.343637            4.221096           -0.657367   \n",
       "6155           -0.343637           -0.256386            2.395862   \n",
       "\n",
       "      modeling_supplies_scaled  role_playing_games_scaled  \\\n",
       "0                    -0.188468                  -0.164303   \n",
       "1                     0.823929                  -0.164303   \n",
       "2                    -0.188468                  -0.164303   \n",
       "3                    -0.188468                  -0.164303   \n",
       "4                    -0.188468                  -0.164303   \n",
       "...                        ...                        ...   \n",
       "6151                 -0.188468                  -0.164303   \n",
       "6152                  1.330128                  -0.164303   \n",
       "6153                 -0.188468                  -0.164303   \n",
       "6154                 -0.188468                  -0.164303   \n",
       "6155                 -0.188468                  -0.164303   \n",
       "\n",
       "      minis_models_scaled  trading_card_games_scaled  \n",
       "0               -0.188888                   0.244052  \n",
       "1                2.623187                  -0.322458  \n",
       "2               -0.188888                  -0.322458  \n",
       "3               -0.188888                  -0.322458  \n",
       "4               -0.188888                  -0.322458  \n",
       "...                   ...                        ...  \n",
       "6151            -0.188888                  -0.322458  \n",
       "6152            -0.188888                  -0.322458  \n",
       "6153             1.217150                   0.244052  \n",
       "6154            -0.188888                  -0.322458  \n",
       "6155            -0.188888                   1.943583  \n",
       "\n",
       "[6156 rows x 15 columns]"
      ]
     },
     "execution_count": 3,
     "metadata": {},
     "output_type": "execute_result"
    }
   ],
   "source": [
    "df"
   ]
  },
  {
   "cell_type": "code",
   "execution_count": 12,
   "id": "dated-temperature",
   "metadata": {},
   "outputs": [
    {
     "data": {
      "text/html": [
       "<div>\n",
       "<style scoped>\n",
       "    .dataframe tbody tr th:only-of-type {\n",
       "        vertical-align: middle;\n",
       "    }\n",
       "\n",
       "    .dataframe tbody tr th {\n",
       "        vertical-align: top;\n",
       "    }\n",
       "\n",
       "    .dataframe thead th {\n",
       "        text-align: right;\n",
       "    }\n",
       "</style>\n",
       "<table border=\"1\" class=\"dataframe\">\n",
       "  <thead>\n",
       "    <tr style=\"text-align: right;\">\n",
       "      <th></th>\n",
       "      <th>accessories</th>\n",
       "      <th>board_games</th>\n",
       "      <th>concessions</th>\n",
       "      <th>modeling_supplies</th>\n",
       "      <th>role_playing_games</th>\n",
       "      <th>minis_models</th>\n",
       "      <th>trading_card_games</th>\n",
       "      <th>net_sales</th>\n",
       "      <th>accessories_scaled</th>\n",
       "      <th>board_games_scaled</th>\n",
       "      <th>concessions_scaled</th>\n",
       "      <th>modeling_supplies_scaled</th>\n",
       "      <th>role_playing_games_scaled</th>\n",
       "      <th>minis_models_scaled</th>\n",
       "      <th>trading_card_games_scaled</th>\n",
       "    </tr>\n",
       "  </thead>\n",
       "  <tbody>\n",
       "    <tr>\n",
       "      <th>count</th>\n",
       "      <td>6156.000000</td>\n",
       "      <td>6156.000000</td>\n",
       "      <td>6156.000000</td>\n",
       "      <td>6156.00000</td>\n",
       "      <td>6156.000000</td>\n",
       "      <td>6156.000000</td>\n",
       "      <td>6156.000000</td>\n",
       "      <td>6156.000000</td>\n",
       "      <td>6.156000e+03</td>\n",
       "      <td>6.156000e+03</td>\n",
       "      <td>6.156000e+03</td>\n",
       "      <td>6.156000e+03</td>\n",
       "      <td>6.156000e+03</td>\n",
       "      <td>6.156000e+03</td>\n",
       "      <td>6.156000e+03</td>\n",
       "    </tr>\n",
       "    <tr>\n",
       "      <th>mean</th>\n",
       "      <td>0.429175</td>\n",
       "      <td>0.114522</td>\n",
       "      <td>1.076511</td>\n",
       "      <td>0.37232</td>\n",
       "      <td>0.038824</td>\n",
       "      <td>0.134340</td>\n",
       "      <td>0.569201</td>\n",
       "      <td>44.448129</td>\n",
       "      <td>-4.171632e-16</td>\n",
       "      <td>7.876253e-16</td>\n",
       "      <td>-3.101988e-16</td>\n",
       "      <td>9.706246e-16</td>\n",
       "      <td>-8.200339e-16</td>\n",
       "      <td>4.722686e-16</td>\n",
       "      <td>1.005657e-15</td>\n",
       "    </tr>\n",
       "    <tr>\n",
       "      <th>std</th>\n",
       "      <td>1.249020</td>\n",
       "      <td>0.446716</td>\n",
       "      <td>1.637743</td>\n",
       "      <td>1.97567</td>\n",
       "      <td>0.236314</td>\n",
       "      <td>0.711276</td>\n",
       "      <td>1.765336</td>\n",
       "      <td>66.761114</td>\n",
       "      <td>1.000081e+00</td>\n",
       "      <td>1.000081e+00</td>\n",
       "      <td>1.000081e+00</td>\n",
       "      <td>1.000081e+00</td>\n",
       "      <td>1.000081e+00</td>\n",
       "      <td>1.000081e+00</td>\n",
       "      <td>1.000081e+00</td>\n",
       "    </tr>\n",
       "    <tr>\n",
       "      <th>min</th>\n",
       "      <td>0.000000</td>\n",
       "      <td>0.000000</td>\n",
       "      <td>0.000000</td>\n",
       "      <td>0.00000</td>\n",
       "      <td>0.000000</td>\n",
       "      <td>0.000000</td>\n",
       "      <td>0.000000</td>\n",
       "      <td>0.000000</td>\n",
       "      <td>-3.436370e-01</td>\n",
       "      <td>-2.563860e-01</td>\n",
       "      <td>-6.573668e-01</td>\n",
       "      <td>-1.884677e-01</td>\n",
       "      <td>-1.643030e-01</td>\n",
       "      <td>-1.888878e-01</td>\n",
       "      <td>-3.224581e-01</td>\n",
       "    </tr>\n",
       "    <tr>\n",
       "      <th>25%</th>\n",
       "      <td>0.000000</td>\n",
       "      <td>0.000000</td>\n",
       "      <td>0.000000</td>\n",
       "      <td>0.00000</td>\n",
       "      <td>0.000000</td>\n",
       "      <td>0.000000</td>\n",
       "      <td>0.000000</td>\n",
       "      <td>8.427500</td>\n",
       "      <td>-3.436370e-01</td>\n",
       "      <td>-2.563860e-01</td>\n",
       "      <td>-6.573668e-01</td>\n",
       "      <td>-1.884677e-01</td>\n",
       "      <td>-1.643030e-01</td>\n",
       "      <td>-1.888878e-01</td>\n",
       "      <td>-3.224581e-01</td>\n",
       "    </tr>\n",
       "    <tr>\n",
       "      <th>50%</th>\n",
       "      <td>0.000000</td>\n",
       "      <td>0.000000</td>\n",
       "      <td>0.000000</td>\n",
       "      <td>0.00000</td>\n",
       "      <td>0.000000</td>\n",
       "      <td>0.000000</td>\n",
       "      <td>0.000000</td>\n",
       "      <td>22.730000</td>\n",
       "      <td>-3.436370e-01</td>\n",
       "      <td>-2.563860e-01</td>\n",
       "      <td>-6.573668e-01</td>\n",
       "      <td>-1.884677e-01</td>\n",
       "      <td>-1.643030e-01</td>\n",
       "      <td>-1.888878e-01</td>\n",
       "      <td>-3.224581e-01</td>\n",
       "    </tr>\n",
       "    <tr>\n",
       "      <th>75%</th>\n",
       "      <td>0.000000</td>\n",
       "      <td>0.000000</td>\n",
       "      <td>2.000000</td>\n",
       "      <td>0.00000</td>\n",
       "      <td>0.000000</td>\n",
       "      <td>0.000000</td>\n",
       "      <td>1.000000</td>\n",
       "      <td>50.965000</td>\n",
       "      <td>-3.436370e-01</td>\n",
       "      <td>-2.563860e-01</td>\n",
       "      <td>5.639249e-01</td>\n",
       "      <td>-1.884677e-01</td>\n",
       "      <td>-1.643030e-01</td>\n",
       "      <td>-1.888878e-01</td>\n",
       "      <td>2.440522e-01</td>\n",
       "    </tr>\n",
       "    <tr>\n",
       "      <th>max</th>\n",
       "      <td>20.000000</td>\n",
       "      <td>6.000000</td>\n",
       "      <td>16.000000</td>\n",
       "      <td>90.00000</td>\n",
       "      <td>4.000000</td>\n",
       "      <td>31.000000</td>\n",
       "      <td>75.000000</td>\n",
       "      <td>902.490000</td>\n",
       "      <td>1.567021e+01</td>\n",
       "      <td>1.317606e+01</td>\n",
       "      <td>9.112967e+00</td>\n",
       "      <td>4.536940e+01</td>\n",
       "      <td>1.676372e+01</td>\n",
       "      <td>4.339828e+01</td>\n",
       "      <td>4.216581e+01</td>\n",
       "    </tr>\n",
       "  </tbody>\n",
       "</table>\n",
       "</div>"
      ],
      "text/plain": [
       "       accessories  board_games  concessions  modeling_supplies  \\\n",
       "count  6156.000000  6156.000000  6156.000000         6156.00000   \n",
       "mean      0.429175     0.114522     1.076511            0.37232   \n",
       "std       1.249020     0.446716     1.637743            1.97567   \n",
       "min       0.000000     0.000000     0.000000            0.00000   \n",
       "25%       0.000000     0.000000     0.000000            0.00000   \n",
       "50%       0.000000     0.000000     0.000000            0.00000   \n",
       "75%       0.000000     0.000000     2.000000            0.00000   \n",
       "max      20.000000     6.000000    16.000000           90.00000   \n",
       "\n",
       "       role_playing_games  minis_models  trading_card_games    net_sales  \\\n",
       "count         6156.000000   6156.000000         6156.000000  6156.000000   \n",
       "mean             0.038824      0.134340            0.569201    44.448129   \n",
       "std              0.236314      0.711276            1.765336    66.761114   \n",
       "min              0.000000      0.000000            0.000000     0.000000   \n",
       "25%              0.000000      0.000000            0.000000     8.427500   \n",
       "50%              0.000000      0.000000            0.000000    22.730000   \n",
       "75%              0.000000      0.000000            1.000000    50.965000   \n",
       "max              4.000000     31.000000           75.000000   902.490000   \n",
       "\n",
       "       accessories_scaled  board_games_scaled  concessions_scaled  \\\n",
       "count        6.156000e+03        6.156000e+03        6.156000e+03   \n",
       "mean        -4.171632e-16        7.876253e-16       -3.101988e-16   \n",
       "std          1.000081e+00        1.000081e+00        1.000081e+00   \n",
       "min         -3.436370e-01       -2.563860e-01       -6.573668e-01   \n",
       "25%         -3.436370e-01       -2.563860e-01       -6.573668e-01   \n",
       "50%         -3.436370e-01       -2.563860e-01       -6.573668e-01   \n",
       "75%         -3.436370e-01       -2.563860e-01        5.639249e-01   \n",
       "max          1.567021e+01        1.317606e+01        9.112967e+00   \n",
       "\n",
       "       modeling_supplies_scaled  role_playing_games_scaled  \\\n",
       "count              6.156000e+03               6.156000e+03   \n",
       "mean               9.706246e-16              -8.200339e-16   \n",
       "std                1.000081e+00               1.000081e+00   \n",
       "min               -1.884677e-01              -1.643030e-01   \n",
       "25%               -1.884677e-01              -1.643030e-01   \n",
       "50%               -1.884677e-01              -1.643030e-01   \n",
       "75%               -1.884677e-01              -1.643030e-01   \n",
       "max                4.536940e+01               1.676372e+01   \n",
       "\n",
       "       minis_models_scaled  trading_card_games_scaled  \n",
       "count         6.156000e+03               6.156000e+03  \n",
       "mean          4.722686e-16               1.005657e-15  \n",
       "std           1.000081e+00               1.000081e+00  \n",
       "min          -1.888878e-01              -3.224581e-01  \n",
       "25%          -1.888878e-01              -3.224581e-01  \n",
       "50%          -1.888878e-01              -3.224581e-01  \n",
       "75%          -1.888878e-01               2.440522e-01  \n",
       "max           4.339828e+01               4.216581e+01  "
      ]
     },
     "execution_count": 12,
     "metadata": {},
     "output_type": "execute_result"
    }
   ],
   "source": [
    "df.describe()"
   ]
  },
  {
   "cell_type": "code",
   "execution_count": 18,
   "id": "charged-thesis",
   "metadata": {
    "scrolled": false
   },
   "outputs": [
    {
     "name": "stdout",
     "output_type": "stream",
     "text": [
      "accessories_scaled\n"
     ]
    },
    {
     "data": {
      "image/png": "[encoded data removed]",
      "text/plain": [
       "<Figure size 432x288 with 1 Axes>"
      ]
     },
     "metadata": {
      "needs_background": "light"
     },
     "output_type": "display_data"
    },
    {
     "name": "stdout",
     "output_type": "stream",
     "text": [
      "board_games_scaled\n"
     ]
    },
    {
     "data": {
      "image/png": "[encoded data removed]",
      "text/plain": [
       "<Figure size 432x288 with 1 Axes>"
      ]
     },
     "metadata": {
      "needs_background": "light"
     },
     "output_type": "display_data"
    },
    {
     "name": "stdout",
     "output_type": "stream",
     "text": [
      "concessions_scaled\n"
     ]
    },
    {
     "data": {
      "image/png": "[encoded data removed]",
      "text/plain": [
       "<Figure size 432x288 with 1 Axes>"
      ]
     },
     "metadata": {
      "needs_background": "light"
     },
     "output_type": "display_data"
    },
    {
     "name": "stdout",
     "output_type": "stream",
     "text": [
      "modeling_supplies_scaled\n"
     ]
    },
    {
     "data": {
      "image/png": "[encoded data removed]",
      "text/plain": [
       "<Figure size 432x288 with 1 Axes>"
      ]
     },
     "metadata": {
      "needs_background": "light"
     },
     "output_type": "display_data"
    },
    {
     "name": "stdout",
     "output_type": "stream",
     "text": [
      "role_playing_games_scaled\n"
     ]
    },
    {
     "data": {
      "image/png": "[encoded data removed]",
      "text/plain": [
       "<Figure size 432x288 with 1 Axes>"
      ]
     },
     "metadata": {
      "needs_background": "light"
     },
     "output_type": "display_data"
    },
    {
     "name": "stdout",
     "output_type": "stream",
     "text": [
      "minis_models_scaled\n"
     ]
    },
    {
     "data": {
      "image/png": "[encoded data removed]",
      "text/plain": [
       "<Figure size 432x288 with 1 Axes>"
      ]
     },
     "metadata": {
      "needs_background": "light"
     },
     "output_type": "display_data"
    },
    {
     "name": "stdout",
     "output_type": "stream",
     "text": [
      "trading_card_games_scaled\n"
     ]
    },
    {
     "data": {
      "image/png": "[encoded data removed]",
      "text/plain": [
       "<Figure size 432x288 with 1 Axes>"
      ]
     },
     "metadata": {
      "needs_background": "light"
     },
     "output_type": "display_data"
    }
   ],
   "source": [
    "cols = ['accessories_scaled', \n",
    "        'board_games_scaled', \n",
    "        'concessions_scaled',\n",
    "        'modeling_supplies_scaled', \n",
    "        'role_playing_games_scaled', \n",
    "        'minis_models_scaled',\n",
    "        'trading_card_games_scaled']\n",
    "\n",
    "for col in cols:\n",
    "    \n",
    "    print(col)\n",
    "    df[col].hist()\n",
    "    \n",
    "    plt.show()"
   ]
  },
  {
   "cell_type": "code",
   "execution_count": 13,
   "id": "nonprofit-parts",
   "metadata": {},
   "outputs": [
    {
     "data": {
      "text/html": [
       "<div>\n",
       "<style scoped>\n",
       "    .dataframe tbody tr th:only-of-type {\n",
       "        vertical-align: middle;\n",
       "    }\n",
       "\n",
       "    .dataframe tbody tr th {\n",
       "        vertical-align: top;\n",
       "    }\n",
       "\n",
       "    .dataframe thead th {\n",
       "        text-align: right;\n",
       "    }\n",
       "</style>\n",
       "<table border=\"1\" class=\"dataframe\">\n",
       "  <thead>\n",
       "    <tr style=\"text-align: right;\">\n",
       "      <th></th>\n",
       "      <th>accessories</th>\n",
       "      <th>board_games</th>\n",
       "      <th>concessions</th>\n",
       "      <th>modeling_supplies</th>\n",
       "      <th>role_playing_games</th>\n",
       "      <th>minis_models</th>\n",
       "      <th>trading_card_games</th>\n",
       "      <th>net_sales</th>\n",
       "      <th>accessories_scaled</th>\n",
       "      <th>board_games_scaled</th>\n",
       "      <th>concessions_scaled</th>\n",
       "      <th>modeling_supplies_scaled</th>\n",
       "      <th>role_playing_games_scaled</th>\n",
       "      <th>minis_models_scaled</th>\n",
       "      <th>trading_card_games_scaled</th>\n",
       "    </tr>\n",
       "  </thead>\n",
       "  <tbody>\n",
       "    <tr>\n",
       "      <th>3430</th>\n",
       "      <td>0</td>\n",
       "      <td>0</td>\n",
       "      <td>0</td>\n",
       "      <td>90</td>\n",
       "      <td>0</td>\n",
       "      <td>0</td>\n",
       "      <td>0</td>\n",
       "      <td>795.24</td>\n",
       "      <td>-0.343637</td>\n",
       "      <td>-0.256386</td>\n",
       "      <td>-0.657367</td>\n",
       "      <td>45.369395</td>\n",
       "      <td>-0.164303</td>\n",
       "      <td>-0.188888</td>\n",
       "      <td>-0.322458</td>\n",
       "    </tr>\n",
       "  </tbody>\n",
       "</table>\n",
       "</div>"
      ],
      "text/plain": [
       "      accessories  board_games  concessions  modeling_supplies  \\\n",
       "3430            0            0            0                 90   \n",
       "\n",
       "      role_playing_games  minis_models  trading_card_games  net_sales  \\\n",
       "3430                   0             0                   0     795.24   \n",
       "\n",
       "      accessories_scaled  board_games_scaled  concessions_scaled  \\\n",
       "3430           -0.343637           -0.256386           -0.657367   \n",
       "\n",
       "      modeling_supplies_scaled  role_playing_games_scaled  \\\n",
       "3430                 45.369395                  -0.164303   \n",
       "\n",
       "      minis_models_scaled  trading_card_games_scaled  \n",
       "3430            -0.188888                  -0.322458  "
      ]
     },
     "execution_count": 13,
     "metadata": {},
     "output_type": "execute_result"
    }
   ],
   "source": [
    "df[df.modeling_supplies > 70]"
   ]
  },
  {
   "cell_type": "code",
   "execution_count": 14,
   "id": "spectacular-northeast",
   "metadata": {},
   "outputs": [
    {
     "data": {
      "text/html": [
       "<div>\n",
       "<style scoped>\n",
       "    .dataframe tbody tr th:only-of-type {\n",
       "        vertical-align: middle;\n",
       "    }\n",
       "\n",
       "    .dataframe tbody tr th {\n",
       "        vertical-align: top;\n",
       "    }\n",
       "\n",
       "    .dataframe thead th {\n",
       "        text-align: right;\n",
       "    }\n",
       "</style>\n",
       "<table border=\"1\" class=\"dataframe\">\n",
       "  <thead>\n",
       "    <tr style=\"text-align: right;\">\n",
       "      <th></th>\n",
       "      <th>accessories</th>\n",
       "      <th>board_games</th>\n",
       "      <th>concessions</th>\n",
       "      <th>modeling_supplies</th>\n",
       "      <th>role_playing_games</th>\n",
       "      <th>minis_models</th>\n",
       "      <th>trading_card_games</th>\n",
       "      <th>net_sales</th>\n",
       "      <th>accessories_scaled</th>\n",
       "      <th>board_games_scaled</th>\n",
       "      <th>concessions_scaled</th>\n",
       "      <th>modeling_supplies_scaled</th>\n",
       "      <th>role_playing_games_scaled</th>\n",
       "      <th>minis_models_scaled</th>\n",
       "      <th>trading_card_games_scaled</th>\n",
       "    </tr>\n",
       "  </thead>\n",
       "  <tbody>\n",
       "    <tr>\n",
       "      <th>2839</th>\n",
       "      <td>0</td>\n",
       "      <td>2</td>\n",
       "      <td>0</td>\n",
       "      <td>0</td>\n",
       "      <td>0</td>\n",
       "      <td>0</td>\n",
       "      <td>75</td>\n",
       "      <td>454.71</td>\n",
       "      <td>-0.343637</td>\n",
       "      <td>4.221096</td>\n",
       "      <td>-0.657367</td>\n",
       "      <td>-0.188468</td>\n",
       "      <td>-0.164303</td>\n",
       "      <td>-0.188888</td>\n",
       "      <td>42.165812</td>\n",
       "    </tr>\n",
       "  </tbody>\n",
       "</table>\n",
       "</div>"
      ],
      "text/plain": [
       "      accessories  board_games  concessions  modeling_supplies  \\\n",
       "2839            0            2            0                  0   \n",
       "\n",
       "      role_playing_games  minis_models  trading_card_games  net_sales  \\\n",
       "2839                   0             0                  75     454.71   \n",
       "\n",
       "      accessories_scaled  board_games_scaled  concessions_scaled  \\\n",
       "2839           -0.343637            4.221096           -0.657367   \n",
       "\n",
       "      modeling_supplies_scaled  role_playing_games_scaled  \\\n",
       "2839                 -0.188468                  -0.164303   \n",
       "\n",
       "      minis_models_scaled  trading_card_games_scaled  \n",
       "2839            -0.188888                  42.165812  "
      ]
     },
     "execution_count": 14,
     "metadata": {},
     "output_type": "execute_result"
    }
   ],
   "source": [
    "df[df.trading_card_games > 60] "
   ]
  },
  {
   "cell_type": "code",
   "execution_count": 15,
   "id": "contrary-yield",
   "metadata": {},
   "outputs": [
    {
     "data": {
      "text/html": [
       "<div>\n",
       "<style scoped>\n",
       "    .dataframe tbody tr th:only-of-type {\n",
       "        vertical-align: middle;\n",
       "    }\n",
       "\n",
       "    .dataframe tbody tr th {\n",
       "        vertical-align: top;\n",
       "    }\n",
       "\n",
       "    .dataframe thead th {\n",
       "        text-align: right;\n",
       "    }\n",
       "</style>\n",
       "<table border=\"1\" class=\"dataframe\">\n",
       "  <thead>\n",
       "    <tr style=\"text-align: right;\">\n",
       "      <th></th>\n",
       "      <th>accessories</th>\n",
       "      <th>board_games</th>\n",
       "      <th>concessions</th>\n",
       "      <th>modeling_supplies</th>\n",
       "      <th>role_playing_games</th>\n",
       "      <th>minis_models</th>\n",
       "      <th>trading_card_games</th>\n",
       "      <th>net_sales</th>\n",
       "      <th>accessories_scaled</th>\n",
       "      <th>board_games_scaled</th>\n",
       "      <th>concessions_scaled</th>\n",
       "      <th>modeling_supplies_scaled</th>\n",
       "      <th>role_playing_games_scaled</th>\n",
       "      <th>minis_models_scaled</th>\n",
       "      <th>trading_card_games_scaled</th>\n",
       "    </tr>\n",
       "  </thead>\n",
       "  <tbody>\n",
       "    <tr>\n",
       "      <th>4278</th>\n",
       "      <td>0</td>\n",
       "      <td>0</td>\n",
       "      <td>0</td>\n",
       "      <td>0</td>\n",
       "      <td>0</td>\n",
       "      <td>31</td>\n",
       "      <td>0</td>\n",
       "      <td>138.79</td>\n",
       "      <td>-0.343637</td>\n",
       "      <td>-0.256386</td>\n",
       "      <td>-0.657367</td>\n",
       "      <td>-0.188468</td>\n",
       "      <td>-0.164303</td>\n",
       "      <td>43.398279</td>\n",
       "      <td>-0.322458</td>\n",
       "    </tr>\n",
       "  </tbody>\n",
       "</table>\n",
       "</div>"
      ],
      "text/plain": [
       "      accessories  board_games  concessions  modeling_supplies  \\\n",
       "4278            0            0            0                  0   \n",
       "\n",
       "      role_playing_games  minis_models  trading_card_games  net_sales  \\\n",
       "4278                   0            31                   0     138.79   \n",
       "\n",
       "      accessories_scaled  board_games_scaled  concessions_scaled  \\\n",
       "4278           -0.343637           -0.256386           -0.657367   \n",
       "\n",
       "      modeling_supplies_scaled  role_playing_games_scaled  \\\n",
       "4278                 -0.188468                  -0.164303   \n",
       "\n",
       "      minis_models_scaled  trading_card_games_scaled  \n",
       "4278            43.398279                  -0.322458  "
      ]
     },
     "execution_count": 15,
     "metadata": {},
     "output_type": "execute_result"
    }
   ],
   "source": [
    "df[df.minis_models > 20] "
   ]
  },
  {
   "cell_type": "markdown",
   "id": "armed-citizenship",
   "metadata": {},
   "source": [
    "# Data Dictionary\n",
    "\n",
    "Rows in the original data represent a record for each purchase made at LGS in the years 2021, 2022, and 2023. <br>\n",
    "The final transformation of the data will contain columns showing the average number of purchases made by a given customer across the following categories in a given month. It will also show the average net sales (after removing discounts) for each customer for each month.\n",
    "\n",
    "\n",
    "|Category|Description|Examples|\n",
    "|--------|-----------|--------|\n",
    "|Accessories|Items that enhance game play or are used to store game play items|Binders, Dice, Card Sleeves|\n",
    "|Board Games|Self contained board games and board game expansions|Terraforming Mars, LOTR Journies in Middle Earth|\n",
    "|Concessions|Food and drink items|drinks, candy|\n",
    "|Minis/Models|Miniature models, contained in customizable table top minis games or sold as stand alone minis or sets of minis Does not include boardgames that contain minis|Warhammer Minis, D&D Minis|\n",
    "|Modeling Supplies|Items used to enhance appearance of minis/models|Painting Supplies, Model Bases|\n",
    "|Role Playing Games|Books and map packs for Role Playing Games|Dungeons and Dragons Books, Pathfinder Books|\n",
    "|Trading Card Games|Cards for customizable card games|Magic, Pokemon, Yugio|"
   ]
  },
  {
   "cell_type": "code",
   "execution_count": 11,
   "id": "olympic-yahoo",
   "metadata": {
    "scrolled": false
   },
   "outputs": [
    {
     "data": {
      "image/png": "[encoded data removed]",
      "text/plain": [
       "<Figure size 432x288 with 1 Axes>"
      ]
     },
     "metadata": {
      "needs_background": "light"
     },
     "output_type": "display_data"
    },
    {
     "name": "stdout",
     "output_type": "stream",
     "text": [
      " Correlation           P-value\n",
      "(0.020508769457652117, 0.10762416907179773)\n"
     ]
    },
    {
     "data": {
      "image/png": "[encoded data removed]",
      "text/plain": [
       "<Figure size 432x288 with 1 Axes>"
      ]
     },
     "metadata": {
      "needs_background": "light"
     },
     "output_type": "display_data"
    },
    {
     "name": "stdout",
     "output_type": "stream",
     "text": [
      " Correlation           P-value\n",
      "(-0.13145938916646777, 3.881246139856628e-25)\n"
     ]
    },
    {
     "data": {
      "image/png": "[encoded data removed]",
      "text/plain": [
       "<Figure size 432x288 with 1 Axes>"
      ]
     },
     "metadata": {
      "needs_background": "light"
     },
     "output_type": "display_data"
    },
    {
     "name": "stdout",
     "output_type": "stream",
     "text": [
      " Correlation           P-value\n",
      "(-0.04389327314299221, 0.000571408134701754)\n"
     ]
    },
    {
     "data": {
      "image/png": "[encoded data removed]",
      "text/plain": [
       "<Figure size 432x288 with 1 Axes>"
      ]
     },
     "metadata": {
      "needs_background": "light"
     },
     "output_type": "display_data"
    },
    {
     "name": "stdout",
     "output_type": "stream",
     "text": [
      " Correlation           P-value\n",
      "(0.008491827636849837, 0.5053171191073669)\n"
     ]
    },
    {
     "data": {
      "image/png": "[encoded data removed]",
      "text/plain": [
       "<Figure size 432x288 with 1 Axes>"
      ]
     },
     "metadata": {
      "needs_background": "light"
     },
     "output_type": "display_data"
    },
    {
     "name": "stdout",
     "output_type": "stream",
     "text": [
      " Correlation           P-value\n",
      "(-0.024309670480913967, 0.05649007975153753)\n"
     ]
    },
    {
     "data": {
      "image/png": "[encoded data removed]",
      "text/plain": [
       "<Figure size 432x288 with 1 Axes>"
      ]
     },
     "metadata": {
      "needs_background": "light"
     },
     "output_type": "display_data"
    },
    {
     "name": "stdout",
     "output_type": "stream",
     "text": [
      " Correlation           P-value\n",
      "(-0.039703193679904616, 0.0018349914909017843)\n"
     ]
    },
    {
     "data": {
      "image/png": "[encoded data removed]",
      "text/plain": [
       "<Figure size 432x288 with 1 Axes>"
      ]
     },
     "metadata": {
      "needs_background": "light"
     },
     "output_type": "display_data"
    },
    {
     "name": "stdout",
     "output_type": "stream",
     "text": [
      " Correlation           P-value\n",
      "(-0.1076918166991128, 2.4027990931254604e-17)\n"
     ]
    },
    {
     "data": {
      "image/png": "[encoded data removed]",
      "text/plain": [
       "<Figure size 432x288 with 1 Axes>"
      ]
     },
     "metadata": {
      "needs_background": "light"
     },
     "output_type": "display_data"
    },
    {
     "name": "stdout",
     "output_type": "stream",
     "text": [
      " Correlation           P-value\n",
      "(-0.04150920928524402, 0.0011237345666100576)\n"
     ]
    },
    {
     "data": {
      "image/png": "[encoded data removed]",
      "text/plain": [
       "<Figure size 432x288 with 1 Axes>"
      ]
     },
     "metadata": {
      "needs_background": "light"
     },
     "output_type": "display_data"
    },
    {
     "name": "stdout",
     "output_type": "stream",
     "text": [
      " Correlation           P-value\n",
      "(0.011741597108201517, 0.3570021345405866)\n"
     ]
    },
    {
     "data": {
      "image/png": "[encoded data removed]",
      "text/plain": [
       "<Figure size 432x288 with 1 Axes>"
      ]
     },
     "metadata": {
      "needs_background": "light"
     },
     "output_type": "display_data"
    },
    {
     "name": "stdout",
     "output_type": "stream",
     "text": [
      " Correlation           P-value\n",
      "(0.00014826607641889832, 0.9907203163623537)\n"
     ]
    },
    {
     "data": {
      "image/png": "[encoded data removed]",
      "text/plain": [
       "<Figure size 432x288 with 1 Axes>"
      ]
     },
     "metadata": {
      "needs_background": "light"
     },
     "output_type": "display_data"
    },
    {
     "name": "stdout",
     "output_type": "stream",
     "text": [
      " Correlation           P-value\n",
      "(-0.037554990444379106, 0.0032086021204481546)\n"
     ]
    },
    {
     "data": {
      "image/png": "[encoded data removed]",
      "text/plain": [
       "<Figure size 432x288 with 1 Axes>"
      ]
     },
     "metadata": {
      "needs_background": "light"
     },
     "output_type": "display_data"
    },
    {
     "name": "stdout",
     "output_type": "stream",
     "text": [
      " Correlation           P-value\n",
      "(-0.08291900087620704, 7.233159443125735e-11)\n"
     ]
    },
    {
     "data": {
      "image/png": "[encoded data removed]",
      "text/plain": [
       "<Figure size 432x288 with 1 Axes>"
      ]
     },
     "metadata": {
      "needs_background": "light"
     },
     "output_type": "display_data"
    },
    {
     "name": "stdout",
     "output_type": "stream",
     "text": [
      " Correlation           P-value\n",
      "(-0.07610293845195387, 2.2518928463756956e-09)\n"
     ]
    },
    {
     "data": {
      "image/png": "[encoded data removed]",
      "text/plain": [
       "<Figure size 432x288 with 1 Axes>"
      ]
     },
     "metadata": {
      "needs_background": "light"
     },
     "output_type": "display_data"
    },
    {
     "name": "stdout",
     "output_type": "stream",
     "text": [
      " Correlation           P-value\n",
      "(-0.07800324162925222, 8.885415175286081e-10)\n"
     ]
    },
    {
     "data": {
      "image/png": "[encoded data removed]",
      "text/plain": [
       "<Figure size 432x288 with 1 Axes>"
      ]
     },
     "metadata": {
      "needs_background": "light"
     },
     "output_type": "display_data"
    },
    {
     "name": "stdout",
     "output_type": "stream",
     "text": [
      " Correlation           P-value\n",
      "(-0.11245168777029528, 8.809525060845878e-19)\n"
     ]
    },
    {
     "data": {
      "image/png": "[encoded data removed]",
      "text/plain": [
       "<Figure size 432x288 with 1 Axes>"
      ]
     },
     "metadata": {
      "needs_background": "light"
     },
     "output_type": "display_data"
    },
    {
     "name": "stdout",
     "output_type": "stream",
     "text": [
      " Correlation           P-value\n",
      "(0.0010494007918522182, 0.9343926654136819)\n"
     ]
    },
    {
     "data": {
      "image/png": "[encoded data removed]",
      "text/plain": [
       "<Figure size 432x288 with 1 Axes>"
      ]
     },
     "metadata": {
      "needs_background": "light"
     },
     "output_type": "display_data"
    },
    {
     "name": "stdout",
     "output_type": "stream",
     "text": [
      " Correlation           P-value\n",
      "(0.029145906775996412, 0.022206651914565934)\n"
     ]
    },
    {
     "data": {
      "image/png": "[encoded data removed]",
      "text/plain": [
       "<Figure size 432x288 with 1 Axes>"
      ]
     },
     "metadata": {
      "needs_background": "light"
     },
     "output_type": "display_data"
    },
    {
     "name": "stdout",
     "output_type": "stream",
     "text": [
      " Correlation           P-value\n",
      "(-0.05695309251905924, 7.7755798370427e-06)\n"
     ]
    },
    {
     "data": {
      "image/png": "[encoded data removed]",
      "text/plain": [
       "<Figure size 432x288 with 1 Axes>"
      ]
     },
     "metadata": {
      "needs_background": "light"
     },
     "output_type": "display_data"
    },
    {
     "name": "stdout",
     "output_type": "stream",
     "text": [
      " Correlation           P-value\n",
      "(0.09752230883088474, 1.74225803245202e-14)\n"
     ]
    },
    {
     "data": {
      "image/png": "[encoded data removed]",
      "text/plain": [
       "<Figure size 432x288 with 1 Axes>"
      ]
     },
     "metadata": {
      "needs_background": "light"
     },
     "output_type": "display_data"
    },
    {
     "name": "stdout",
     "output_type": "stream",
     "text": [
      " Correlation           P-value\n",
      "(-0.04558122051192824, 0.0003469706845531537)\n"
     ]
    },
    {
     "data": {
      "image/png": "[encoded data removed]",
      "text/plain": [
       "<Figure size 432x288 with 1 Axes>"
      ]
     },
     "metadata": {
      "needs_background": "light"
     },
     "output_type": "display_data"
    },
    {
     "name": "stdout",
     "output_type": "stream",
     "text": [
      " Correlation           P-value\n",
      "(-0.05029827792164619, 7.877075748637556e-05)\n"
     ]
    }
   ],
   "source": [
    "from itertools import combinations\n",
    "from scipy.stats import pearsonr\n",
    "\n",
    "cols = ['accessories_scaled', \n",
    "        'board_games_scaled', \n",
    "        'concessions_scaled',\n",
    "        'modeling_supplies_scaled', \n",
    "        'role_playing_games_scaled', \n",
    "        'minis_models_scaled',\n",
    "        'trading_card_games_scaled']\n",
    "\n",
    "combs = combinations(cols, 2)\n",
    "\n",
    "for pair in combs:\n",
    "    \n",
    "    plt.scatter(df[{pair[0]}], df[{pair[1]}])\n",
    "    \n",
    "    plt.xlabel({pair[0]})\n",
    "    plt.ylabel({pair[1]})\n",
    "    \n",
    "    plt.show()\n",
    "    \n",
    "    print(\" Correlation           P-value\")\n",
    "    print(pearsonr(df[f'{pair[0]}'], df[f'{pair[1]}']))"
   ]
  },
  {
   "cell_type": "code",
   "execution_count": null,
   "id": "dressed-patrick",
   "metadata": {},
   "outputs": [],
   "source": []
  }
 ],
 "metadata": {
  "kernelspec": {
   "display_name": "Python 3",
   "language": "python",
   "name": "python3"
  },
  "language_info": {
   "codemirror_mode": {
    "name": "ipython",
    "version": 3
   },
   "file_extension": ".py",
   "mimetype": "text/x-python",
   "name": "python",
   "nbconvert_exporter": "python",
   "pygments_lexer": "ipython3",
   "version": "3.7.4"
  }
 },
 "nbformat": 4,
 "nbformat_minor": 5
}
