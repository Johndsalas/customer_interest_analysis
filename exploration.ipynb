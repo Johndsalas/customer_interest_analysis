{
 "cells": [
  {
   "cell_type": "markdown",
   "id": "approximate-insulation",
   "metadata": {},
   "source": [
    "# Goal: Create customer profiles using clustering methods and customer purchase history"
   ]
  },
  {
   "cell_type": "code",
   "execution_count": 1,
   "id": "joint-remains",
   "metadata": {},
   "outputs": [],
   "source": [
    "# imports\n",
    "\n",
    "import pandas as pd\n",
    "import numpy as np\n",
    "import matplotlib.pyplot as plt\n",
    "import seaborn as sns\n",
    "from itertools import combinations\n",
    "from scipy.stats import spearmanr\n",
    "from scipy.stats import chi2_contingency\n",
    "from sklearn.cluster import KMeans\n",
    "from sklearn.cluster import DBSCAN \n",
    "\n",
    "import wrangle_profiles as wp"
   ]
  },
  {
   "cell_type": "markdown",
   "id": "distinguished-reggae",
   "metadata": {},
   "source": [
    "##  Wrangle"
   ]
  },
  {
   "cell_type": "markdown",
   "id": "large-hearts",
   "metadata": {},
   "source": [
    "The original data contained transaction information for LGS customers from 2001-2004. Items purchased in ‘purchase’ transactions were sorted into one of nine categories. <br>\n",
    "<br>\n",
    "Central categories representing major gaming interests include:\n",
    "* Board Games \n",
    "* Role Playing Games\n",
    "* Trading Card Games\n",
    "* Tabletop Minis Games\n",
    "* Modeling Supplies\n",
    "<a/>\n",
    "\n",
    "Support Categories represent categories that support or are adjacent to major interests include:\n",
    "* Accessories\n",
    "* Concessions\n",
    "* Game Room Rentals\n",
    "<a/>\n",
    "\n",
    "Items that could not be classified were categorized as \n",
    "* Other\n",
    "<a/>"
   ]
  },
  {
   "cell_type": "code",
   "execution_count": 2,
   "id": "worst-notebook",
   "metadata": {},
   "outputs": [],
   "source": [
    "df = wp.get_prepared_profiles_data()"
   ]
  },
  {
   "cell_type": "markdown",
   "id": "pregnant-woman",
   "metadata": {},
   "source": [
    "## Explore "
   ]
  },
  {
   "cell_type": "markdown",
   "id": "three-merchant",
   "metadata": {},
   "source": [
    "### What does an average customer's spending habits look like?"
   ]
  },
  {
   "cell_type": "code",
   "execution_count": 3,
   "id": "resistant-integral",
   "metadata": {},
   "outputs": [
    {
     "data": {
      "text/html": [
       "<div>\n",
       "<style scoped>\n",
       "    .dataframe tbody tr th:only-of-type {\n",
       "        vertical-align: middle;\n",
       "    }\n",
       "\n",
       "    .dataframe tbody tr th {\n",
       "        vertical-align: top;\n",
       "    }\n",
       "\n",
       "    .dataframe thead th {\n",
       "        text-align: right;\n",
       "    }\n",
       "</style>\n",
       "<table border=\"1\" class=\"dataframe\">\n",
       "  <thead>\n",
       "    <tr style=\"text-align: right;\">\n",
       "      <th></th>\n",
       "      <th>accessories</th>\n",
       "      <th>board_games</th>\n",
       "      <th>concessions</th>\n",
       "      <th>modeling_supplies</th>\n",
       "      <th>role_playing_games</th>\n",
       "      <th>minis_models</th>\n",
       "      <th>trading_card_games</th>\n",
       "      <th>game_room_rental</th>\n",
       "      <th>net_sales</th>\n",
       "    </tr>\n",
       "  </thead>\n",
       "  <tbody>\n",
       "    <tr>\n",
       "      <th>mean</th>\n",
       "      <td>1.715006</td>\n",
       "      <td>0.474149</td>\n",
       "      <td>4.362547</td>\n",
       "      <td>1.569987</td>\n",
       "      <td>0.165826</td>\n",
       "      <td>0.541614</td>\n",
       "      <td>2.228247</td>\n",
       "      <td>0.059899</td>\n",
       "      <td>172.634332</td>\n",
       "    </tr>\n",
       "    <tr>\n",
       "      <th>std</th>\n",
       "      <td>4.503849</td>\n",
       "      <td>1.391602</td>\n",
       "      <td>18.823379</td>\n",
       "      <td>8.263589</td>\n",
       "      <td>0.877833</td>\n",
       "      <td>2.303441</td>\n",
       "      <td>7.990032</td>\n",
       "      <td>0.564630</td>\n",
       "      <td>442.719224</td>\n",
       "    </tr>\n",
       "  </tbody>\n",
       "</table>\n",
       "</div>"
      ],
      "text/plain": [
       "      accessories  board_games  concessions  modeling_supplies  \\\n",
       "mean     1.715006     0.474149     4.362547           1.569987   \n",
       "std      4.503849     1.391602    18.823379           8.263589   \n",
       "\n",
       "      role_playing_games  minis_models  trading_card_games  game_room_rental  \\\n",
       "mean            0.165826      0.541614            2.228247          0.059899   \n",
       "std             0.877833      2.303441            7.990032          0.564630   \n",
       "\n",
       "       net_sales  \n",
       "mean  172.634332  \n",
       "std   442.719224  "
      ]
     },
     "execution_count": 3,
     "metadata": {},
     "output_type": "execute_result"
    }
   ],
   "source": [
    "cats = ['accessories', \n",
    "        'board_games', \n",
    "        'concessions', \n",
    "        'modeling_supplies',\n",
    "        'role_playing_games', \n",
    "        'minis_models', \n",
    "        'trading_card_games', \n",
    "        'game_room_rental',\n",
    "        'net_sales']\n",
    "\n",
    "\n",
    "df[cats].describe()[1:3]"
   ]
  },
  {
   "cell_type": "markdown",
   "id": "remarkable-feature",
   "metadata": {},
   "source": [
    "Given the mean and relatively large standard deviation across all categories, penning down the habbits of an 'average' would be unhelpful due to the large variance. Moving forward it will be my goal to identify population clusters were the variance is less severe."
   ]
  },
  {
   "cell_type": "markdown",
   "id": "signed-enemy",
   "metadata": {},
   "source": [
    "### How many customers does each category appeal to? "
   ]
  },
  {
   "cell_type": "code",
   "execution_count": 4,
   "id": "criminal-newton",
   "metadata": {},
   "outputs": [
    {
     "data": {
      "image/png": "[encoded data removed]",
      "text/plain": [
       "<Figure size 720x432 with 1 Axes>"
      ]
     },
     "metadata": {
      "needs_background": "light"
     },
     "output_type": "display_data"
    }
   ],
   "source": [
    "cats = ['accessories', \n",
    "        'board_games', \n",
    "        'concessions', \n",
    "        'modeling_supplies',\n",
    "        'role_playing_games', \n",
    "        'minis_models', \n",
    "        'trading_card_games',\n",
    "        'game_room_rental']\n",
    "\n",
    "buyers = [round(len(df[df['accessories'] > 0]) / len(df)*100),\n",
    "          round(len(df[df['board_games'] > 0]) / len(df)*100),\n",
    "          round(len(df[df['modeling_supplies'] > 0]) / len(df)*100),\n",
    "          round(len(df[df['role_playing_games'] > 0]) / len(df)*100),\n",
    "          round(len(df[df['concessions'] > 0]) / len(df)*100),\n",
    "          round(len(df[df['minis_models'] > 0]) / len(df)*100),\n",
    "          round(len(df[df['trading_card_games'] > 0]) / len(df)*100),\n",
    "          round(len(df[df['game_room_rental'] > 0]) / len(df)*100)]\n",
    "    \n",
    "non_buyers = [round(len(df[df['accessories'] == 0]) / len(df)*100),\n",
    "              round(len(df[df['board_games'] == 0]) / len(df)*100),\n",
    "              round(len(df[df['modeling_supplies'] == 0]) / len(df)*100),\n",
    "              round(len(df[df['role_playing_games'] == 0]) / len(df)*100),\n",
    "              round(len(df[df['concessions'] == 0]) / len(df)*100),\n",
    "              round(len(df[df['minis_models'] == 0]) / len(df)*100),\n",
    "              round(len(df[df['trading_card_games'] == 0]) / len(df)*100),\n",
    "              round(len(df[df['game_room_rental'] == 0]) / len(df)*100)]\n",
    "\n",
    "data = { 'Category':cats,\n",
    "         'Buyers':buyers,\n",
    "         'Non_Buyers':non_buyers}\n",
    "\n",
    "df_data = pd.DataFrame(data)\n",
    "\n",
    "df_data.set_index('Category', inplace=True)\n",
    "\n",
    "df_data.plot(kind='bar', figsize=(10, 6), color = ['gold', 'lightgrey'])\n",
    "\n",
    "plt.xticks(rotation=40)\n",
    "\n",
    "plt.xlabel('')\n",
    "plt.ylabel('Percent of Customers Who Purchased from this Category')\n",
    "plt.title('Each Category Appeals to a Select Portion of Customers')\n",
    "\n",
    "\n",
    "plt.show()"
   ]
  },
  {
   "cell_type": "markdown",
   "id": "emotional-reunion",
   "metadata": {},
   "source": [
    "Each category only appeals to a select amount of customers:\n",
    "    \n",
    "Major Categories\n",
    "* Trading Card Games 37%\n",
    "* Role Playing Games 33%\n",
    "* Board Games 22%\n",
    "* Minis Models 16%\n",
    "* Modeling Supplies 8%\n",
    "\n",
    "Support Categories\n",
    "* Accessories 42%\n",
    "* Concessions 17%\n",
    "* Game Room Rental 2%\n",
    "\n",
    "Major categories appeal to roughly 1/3 of customers or less, likely due to specialized interests of customers <br>\n",
    "Accesories is the highest apeal category likely do to supporting multiple interests tied to major categories"
   ]
  },
  {
   "cell_type": "markdown",
   "id": "wooden-tower",
   "metadata": {},
   "source": [
    "### Is there a relationship between customers who buy products in one category and customers who buy products in a differint category?"
   ]
  },
  {
   "cell_type": "markdown",
   "id": "declared-valuable",
   "metadata": {},
   "source": [
    "Based on a chi-square test usong an alpha of .05, and the odds ratio of buyers to non-buyers in each category the following relationships exist between these categories:\n",
    "\n",
    "Customers who bought Board Games\n",
    "* 78% More likely to buy role playing games\n",
    "* 61% Less likely to buy trading card games \n",
    "\n",
    "Customers who bought Role Playing Games\n",
    "* 4.23 Times as likely to buy minis models\n",
    "* 2.59 Times as likely to buy accessories\n",
    "* 2.21 Times as likely to buy modeling supplies\n",
    "* 78% More likely to buy board games\n",
    "* 80% More likely to buy concessions\n",
    "* 40% decreased odds of buying trading card games\n",
    "\n",
    "Customers who bought Minis Models\n",
    "* 8.45 Times as likely to buy modeling supplies\n",
    "* 4.23 Times as likely to buy Role Playing Games\n",
    "* 75% More likely to to buy concessions\n",
    "* 50% Less likely to buy trading card games\n",
    "\n",
    "Customers who bought Trading Card Games\n",
    "* 88% More likely to buy accessories\n",
    "* 47% More likely to buy concessions\n",
    "* 61% Less likely to buy board games\n",
    "* 61% Less likely to buy modeling supplies\n",
    "* 50% Less likely to buy minis models \n",
    "* 40% Less likely to buy role playing games\n",
    "\n",
    "Customers who bought Modeling Supplies\n",
    "* 8.45 Times as likely to buy minis models\n",
    "* 2.21 Times as likely to buy role playing games\n",
    "* 88% increased odds of buying accessories\n",
    "* 65% More likely to buy concessions\n",
    "* 61% less likely to buy Trading Card Games "
   ]
  },
  {
   "cell_type": "markdown",
   "id": "spanish-sewing",
   "metadata": {},
   "source": [
    "#### Summary of Major Categories\n",
    "\n",
    "Board Gamers\n",
    "* Diversified Interests, not many strong relationships to other categories\n",
    "* More likely to buy role playing games\n",
    "* Less likely buy trading card games\n",
    "\n",
    "Trading Card Gamers\n",
    "* On their own island, less likely to engage in other major categories\n",
    "* More likely to buy accessories and concessions\n",
    "\n",
    "Role Playing Gamers\n",
    "* Likely a major driver of sales in other categories\n",
    "* Nearly 3 times as likely to buy accessories\n",
    "* Over 4 times as likely to buy minis models \n",
    "* 2 times as likely to buy modeling supplies\n",
    "* More likely to buy board games and concessions\n",
    "* Less likely to buy trading card games\n",
    "\n",
    "Minis Models\n",
    "* Comprised of “war gaming” models and models that support role playing games\n",
    "* Likely a driver of modeling supplies and partially driven by role playing games\n",
    "* Over 8 times as likely to buy modeling supplies\n",
    "* More likely to buy concessions\n",
    "* Less likely to buy trading card games\n",
    "\n",
    "Modeling supplies\n",
    "* Likely driven by minis models\n",
    "* Over 8 times as likely to buy minis models\n"
   ]
  },
  {
   "cell_type": "markdown",
   "id": "chubby-hands",
   "metadata": {},
   "source": [
    " #### Category Relationship Tests"
   ]
  },
  {
   "cell_type": "code",
   "execution_count": 12,
   "id": "peripheral-planning",
   "metadata": {},
   "outputs": [
    {
     "name": "stdout",
     "output_type": "stream",
     "text": [
      "bought_accessories and bought_concessions\n",
      "--------------------------------------------------------\n",
      "Chi-Square P-Value: 0.00022898142106283562\n",
      "Odds Ratio: 1.49\n",
      "\n",
      "bought_accessories and bought_role_playing_games\n",
      "--------------------------------------------------------\n",
      "Chi-Square P-Value: 2.637590995781412e-07\n",
      "Odds Ratio: 2.59\n",
      "\n",
      "bought_accessories and bought_trading_card_games\n",
      "--------------------------------------------------------\n",
      "Chi-Square P-Value: 2.6189298764791124e-09\n",
      "Odds Ratio: 1.88\n",
      "\n",
      "bought_board_games and bought_role_playing_games\n",
      "--------------------------------------------------------\n",
      "Chi-Square P-Value: 0.003992273243111018\n",
      "Odds Ratio: 1.78\n",
      "\n",
      "bought_board_games and bought_trading_card_games\n",
      "--------------------------------------------------------\n",
      "Chi-Square P-Value: 3.903131004282979e-11\n",
      "Odds Ratio: 0.39\n",
      "\n",
      "bought_concessions and bought_modeling_supplies\n",
      "--------------------------------------------------------\n",
      "Chi-Square P-Value: 0.0002876863942808126\n",
      "Odds Ratio: 1.65\n",
      "\n",
      "bought_concessions and bought_role_playing_games\n",
      "--------------------------------------------------------\n",
      "Chi-Square P-Value: 0.0014589471921045644\n",
      "Odds Ratio: 1.8\n",
      "\n",
      "bought_concessions and bought_minis_models\n",
      "--------------------------------------------------------\n",
      "Chi-Square P-Value: 6.77964642111708e-05\n",
      "Odds Ratio: 1.75\n",
      "\n",
      "bought_concessions and bought_trading_card_games\n",
      "--------------------------------------------------------\n",
      "Chi-Square P-Value: 0.00048464442158513405\n",
      "Odds Ratio: 1.47\n",
      "\n",
      "bought_modeling_supplies and bought_role_playing_games\n",
      "--------------------------------------------------------\n",
      "Chi-Square P-Value: 9.432383416725453e-05\n",
      "Odds Ratio: 2.21\n",
      "\n",
      "bought_modeling_supplies and bought_minis_models\n",
      "--------------------------------------------------------\n",
      "Chi-Square P-Value: 5.181101272766629e-53\n",
      "Odds Ratio: 8.45\n",
      "\n",
      "bought_modeling_supplies and bought_trading_card_games\n",
      "--------------------------------------------------------\n",
      "Chi-Square P-Value: 2.005353953456003e-09\n",
      "Odds Ratio: 0.39\n",
      "\n",
      "bought_role_playing_games and bought_minis_models\n",
      "--------------------------------------------------------\n",
      "Chi-Square P-Value: 3.083238770422678e-15\n",
      "Odds Ratio: 4.23\n",
      "\n",
      "bought_role_playing_games and bought_trading_card_games\n",
      "--------------------------------------------------------\n",
      "Chi-Square P-Value: 0.01557275335181492\n",
      "Odds Ratio: 0.6\n",
      "\n",
      "bought_minis_models and bought_trading_card_games\n",
      "--------------------------------------------------------\n",
      "Chi-Square P-Value: 9.61132947434622e-06\n",
      "Odds Ratio: 0.5\n",
      "\n"
     ]
    }
   ],
   "source": [
    "# get list of categories to examine\n",
    "cats = ['accessories', \n",
    "        'board_games', \n",
    "        'concessions',\n",
    "        'modeling_supplies', \n",
    "        'role_playing_games', \n",
    "        'minis_models',\n",
    "        'trading_card_games']\n",
    "\n",
    "bought_cats = []\n",
    "\n",
    "# get true/false column for each category for count > 0\n",
    "for cat in cats:\n",
    "    \n",
    "    bought_cat = f'bought_{cat}'\n",
    "    \n",
    "    df[bought_cat] = df[cat] > 0\n",
    "    \n",
    "    bought_cats.append(bought_cat)\n",
    "    \n",
    "# get category combinations\n",
    "combs = combinations(bought_cats, 2)\n",
    "\n",
    "# Get print out fro each singificant relationship\n",
    "for comb in combs:\n",
    "    \n",
    "    # get categories and make contengency table\n",
    "    alpha = .05\n",
    "    cat1 = df[comb[0]]\n",
    "    cat2 = df[comb[1]]\n",
    "\n",
    "    ct = pd.crosstab(cat2, cat1)\n",
    "    \n",
    "    chi2, p, dof, expected = chi2_contingency(ct)\n",
    "    \n",
    "    # if significant relation ship print p value and odds ration\n",
    "    if p < alpha:\n",
    "\n",
    "        # get values from crosstab\n",
    "        true_true = ct.loc[1, 1]\n",
    "        true_false = ct.loc[1, 0]\n",
    "        false_false = ct.loc[0, 0]\n",
    "        false_true = ct.loc[0, 1]\n",
    "\n",
    "        # calculate odds ratio\n",
    "        true_ratio = true_true/true_false\n",
    "        false_ratio = false_true/false_false\n",
    "\n",
    "        odds_ratio = round(true_ratio/false_ratio,2)\n",
    "    \n",
    "    \n",
    "        # print results     \n",
    "        print(comb[0], 'and', comb[1])\n",
    "        print('--------------------------------------------------------')\n",
    "        print('Chi-Square P-Value:', p)\n",
    "        print('Odds Ratio:', odds_ratio)\n",
    "        print()"
   ]
  },
  {
   "cell_type": "markdown",
   "id": "charitable-texas",
   "metadata": {},
   "source": [
    "### Is there a relationship between major groups and customer spending?"
   ]
  },
  {
   "cell_type": "code",
   "execution_count": 15,
   "id": "requested-account",
   "metadata": {},
   "outputs": [],
   "source": [
    "df_bg = df[df.bought_board_games == True] \n",
    "df_rpg = df[df.bought_role_playing_games == True]\n",
    "df_tcg = df[df.bought_trading_card_games == True]\n",
    "df_min = df[df.bought_minis_models == True]\n",
    "df_sup = df[df.bought_modeling_supplies == True]"
   ]
  },
  {
   "cell_type": "code",
   "execution_count": 26,
   "id": "concerned-globe",
   "metadata": {},
   "outputs": [],
   "source": [
    "cats = ['accessories', \n",
    "        'board_games', \n",
    "        'concessions', \n",
    "        'modeling_supplies',\n",
    "        'role_playing_games', \n",
    "        'minis_models', \n",
    "        'trading_card_games', \n",
    "        'game_room_rental',\n",
    "        'net_sales']"
   ]
  },
  {
   "cell_type": "code",
   "execution_count": 28,
   "id": "naval-stock",
   "metadata": {},
   "outputs": [
    {
     "data": {
      "text/html": [
       "<div>\n",
       "<style scoped>\n",
       "    .dataframe tbody tr th:only-of-type {\n",
       "        vertical-align: middle;\n",
       "    }\n",
       "\n",
       "    .dataframe tbody tr th {\n",
       "        vertical-align: top;\n",
       "    }\n",
       "\n",
       "    .dataframe thead th {\n",
       "        text-align: right;\n",
       "    }\n",
       "</style>\n",
       "<table border=\"1\" class=\"dataframe\">\n",
       "  <thead>\n",
       "    <tr style=\"text-align: right;\">\n",
       "      <th></th>\n",
       "      <th>accessories</th>\n",
       "      <th>board_games</th>\n",
       "      <th>concessions</th>\n",
       "      <th>modeling_supplies</th>\n",
       "      <th>role_playing_games</th>\n",
       "      <th>minis_models</th>\n",
       "      <th>trading_card_games</th>\n",
       "      <th>game_room_rental</th>\n",
       "      <th>net_sales</th>\n",
       "    </tr>\n",
       "  </thead>\n",
       "  <tbody>\n",
       "    <tr>\n",
       "      <th>count</th>\n",
       "      <td>1586.000000</td>\n",
       "      <td>1586.000000</td>\n",
       "      <td>1586.000000</td>\n",
       "      <td>1586.000000</td>\n",
       "      <td>1586.000000</td>\n",
       "      <td>1586.000000</td>\n",
       "      <td>1586.000000</td>\n",
       "      <td>1586.000000</td>\n",
       "      <td>1586.000000</td>\n",
       "    </tr>\n",
       "    <tr>\n",
       "      <th>mean</th>\n",
       "      <td>1.715006</td>\n",
       "      <td>0.474149</td>\n",
       "      <td>4.362547</td>\n",
       "      <td>1.569987</td>\n",
       "      <td>0.165826</td>\n",
       "      <td>0.541614</td>\n",
       "      <td>2.228247</td>\n",
       "      <td>0.059899</td>\n",
       "      <td>172.634332</td>\n",
       "    </tr>\n",
       "    <tr>\n",
       "      <th>std</th>\n",
       "      <td>4.503849</td>\n",
       "      <td>1.391602</td>\n",
       "      <td>18.823379</td>\n",
       "      <td>8.263589</td>\n",
       "      <td>0.877833</td>\n",
       "      <td>2.303441</td>\n",
       "      <td>7.990032</td>\n",
       "      <td>0.564630</td>\n",
       "      <td>442.719224</td>\n",
       "    </tr>\n",
       "  </tbody>\n",
       "</table>\n",
       "</div>"
      ],
      "text/plain": [
       "       accessories  board_games  concessions  modeling_supplies  \\\n",
       "count  1586.000000  1586.000000  1586.000000        1586.000000   \n",
       "mean      1.715006     0.474149     4.362547           1.569987   \n",
       "std       4.503849     1.391602    18.823379           8.263589   \n",
       "\n",
       "       role_playing_games  minis_models  trading_card_games  game_room_rental  \\\n",
       "count         1586.000000   1586.000000         1586.000000       1586.000000   \n",
       "mean             0.165826      0.541614            2.228247          0.059899   \n",
       "std              0.877833      2.303441            7.990032          0.564630   \n",
       "\n",
       "         net_sales  \n",
       "count  1586.000000  \n",
       "mean    172.634332  \n",
       "std     442.719224  "
      ]
     },
     "execution_count": 28,
     "metadata": {},
     "output_type": "execute_result"
    }
   ],
   "source": [
    "df[cats].describe()[:3]"
   ]
  },
  {
   "cell_type": "code",
   "execution_count": 45,
   "id": "random-laundry",
   "metadata": {},
   "outputs": [
    {
     "data": {
      "text/html": [
       "<div>\n",
       "<style scoped>\n",
       "    .dataframe tbody tr th:only-of-type {\n",
       "        vertical-align: middle;\n",
       "    }\n",
       "\n",
       "    .dataframe tbody tr th {\n",
       "        vertical-align: top;\n",
       "    }\n",
       "\n",
       "    .dataframe thead th {\n",
       "        text-align: right;\n",
       "    }\n",
       "</style>\n",
       "<table border=\"1\" class=\"dataframe\">\n",
       "  <thead>\n",
       "    <tr style=\"text-align: right;\">\n",
       "      <th></th>\n",
       "      <th>accessories</th>\n",
       "      <th>board_games</th>\n",
       "      <th>concessions</th>\n",
       "      <th>modeling_supplies</th>\n",
       "      <th>role_playing_games</th>\n",
       "      <th>minis_models</th>\n",
       "      <th>trading_card_games</th>\n",
       "      <th>game_room_rental</th>\n",
       "      <th>net_sales</th>\n",
       "    </tr>\n",
       "  </thead>\n",
       "  <tbody>\n",
       "    <tr>\n",
       "      <th>1556</th>\n",
       "      <td>18</td>\n",
       "      <td>21</td>\n",
       "      <td>136</td>\n",
       "      <td>68</td>\n",
       "      <td>24</td>\n",
       "      <td>37</td>\n",
       "      <td>0</td>\n",
       "      <td>2</td>\n",
       "      <td>3455.97</td>\n",
       "    </tr>\n",
       "  </tbody>\n",
       "</table>\n",
       "</div>"
      ],
      "text/plain": [
       "      accessories  board_games  concessions  modeling_supplies  \\\n",
       "1556           18           21          136                 68   \n",
       "\n",
       "      role_playing_games  minis_models  trading_card_games  game_room_rental  \\\n",
       "1556                  24            37                   0                 2   \n",
       "\n",
       "      net_sales  \n",
       "1556    3455.97  "
      ]
     },
     "execution_count": 45,
     "metadata": {},
     "output_type": "execute_result"
    }
   ],
   "source": [
    "df[df.board_games >20][cats]"
   ]
  },
  {
   "cell_type": "code",
   "execution_count": 47,
   "id": "through-missile",
   "metadata": {},
   "outputs": [
    {
     "data": {
      "text/html": [
       "<div>\n",
       "<style scoped>\n",
       "    .dataframe tbody tr th:only-of-type {\n",
       "        vertical-align: middle;\n",
       "    }\n",
       "\n",
       "    .dataframe tbody tr th {\n",
       "        vertical-align: top;\n",
       "    }\n",
       "\n",
       "    .dataframe thead th {\n",
       "        text-align: right;\n",
       "    }\n",
       "</style>\n",
       "<table border=\"1\" class=\"dataframe\">\n",
       "  <thead>\n",
       "    <tr style=\"text-align: right;\">\n",
       "      <th></th>\n",
       "      <th>accessories</th>\n",
       "      <th>board_games</th>\n",
       "      <th>concessions</th>\n",
       "      <th>modeling_supplies</th>\n",
       "      <th>role_playing_games</th>\n",
       "      <th>minis_models</th>\n",
       "      <th>trading_card_games</th>\n",
       "      <th>game_room_rental</th>\n",
       "      <th>net_sales</th>\n",
       "    </tr>\n",
       "  </thead>\n",
       "  <tbody>\n",
       "    <tr>\n",
       "      <th>100</th>\n",
       "      <td>26</td>\n",
       "      <td>6</td>\n",
       "      <td>106</td>\n",
       "      <td>204</td>\n",
       "      <td>3</td>\n",
       "      <td>0</td>\n",
       "      <td>22</td>\n",
       "      <td>0</td>\n",
       "      <td>3759.00</td>\n",
       "    </tr>\n",
       "    <tr>\n",
       "      <th>409</th>\n",
       "      <td>18</td>\n",
       "      <td>6</td>\n",
       "      <td>60</td>\n",
       "      <td>20</td>\n",
       "      <td>5</td>\n",
       "      <td>16</td>\n",
       "      <td>55</td>\n",
       "      <td>0</td>\n",
       "      <td>6018.53</td>\n",
       "    </tr>\n",
       "    <tr>\n",
       "      <th>451</th>\n",
       "      <td>28</td>\n",
       "      <td>6</td>\n",
       "      <td>304</td>\n",
       "      <td>0</td>\n",
       "      <td>0</td>\n",
       "      <td>4</td>\n",
       "      <td>60</td>\n",
       "      <td>0</td>\n",
       "      <td>6549.01</td>\n",
       "    </tr>\n",
       "    <tr>\n",
       "      <th>1089</th>\n",
       "      <td>12</td>\n",
       "      <td>0</td>\n",
       "      <td>5</td>\n",
       "      <td>0</td>\n",
       "      <td>0</td>\n",
       "      <td>0</td>\n",
       "      <td>27</td>\n",
       "      <td>0</td>\n",
       "      <td>5458.49</td>\n",
       "    </tr>\n",
       "    <tr>\n",
       "      <th>1346</th>\n",
       "      <td>25</td>\n",
       "      <td>5</td>\n",
       "      <td>261</td>\n",
       "      <td>15</td>\n",
       "      <td>1</td>\n",
       "      <td>10</td>\n",
       "      <td>120</td>\n",
       "      <td>0</td>\n",
       "      <td>5829.75</td>\n",
       "    </tr>\n",
       "    <tr>\n",
       "      <th>1462</th>\n",
       "      <td>38</td>\n",
       "      <td>7</td>\n",
       "      <td>34</td>\n",
       "      <td>20</td>\n",
       "      <td>0</td>\n",
       "      <td>7</td>\n",
       "      <td>107</td>\n",
       "      <td>0</td>\n",
       "      <td>5891.28</td>\n",
       "    </tr>\n",
       "    <tr>\n",
       "      <th>1556</th>\n",
       "      <td>18</td>\n",
       "      <td>21</td>\n",
       "      <td>136</td>\n",
       "      <td>68</td>\n",
       "      <td>24</td>\n",
       "      <td>37</td>\n",
       "      <td>0</td>\n",
       "      <td>2</td>\n",
       "      <td>3455.97</td>\n",
       "    </tr>\n",
       "  </tbody>\n",
       "</table>\n",
       "</div>"
      ],
      "text/plain": [
       "      accessories  board_games  concessions  modeling_supplies  \\\n",
       "100            26            6          106                204   \n",
       "409            18            6           60                 20   \n",
       "451            28            6          304                  0   \n",
       "1089           12            0            5                  0   \n",
       "1346           25            5          261                 15   \n",
       "1462           38            7           34                 20   \n",
       "1556           18           21          136                 68   \n",
       "\n",
       "      role_playing_games  minis_models  trading_card_games  game_room_rental  \\\n",
       "100                    3             0                  22                 0   \n",
       "409                    5            16                  55                 0   \n",
       "451                    0             4                  60                 0   \n",
       "1089                   0             0                  27                 0   \n",
       "1346                   1            10                 120                 0   \n",
       "1462                   0             7                 107                 0   \n",
       "1556                  24            37                   0                 2   \n",
       "\n",
       "      net_sales  \n",
       "100     3759.00  \n",
       "409     6018.53  \n",
       "451     6549.01  \n",
       "1089    5458.49  \n",
       "1346    5829.75  \n",
       "1462    5891.28  \n",
       "1556    3455.97  "
      ]
     },
     "execution_count": 47,
     "metadata": {},
     "output_type": "execute_result"
    }
   ],
   "source": [
    "df[df.net_sales  > 3000][cats]"
   ]
  },
  {
   "cell_type": "code",
   "execution_count": null,
   "id": "plain-affairs",
   "metadata": {},
   "outputs": [],
   "source": []
  },
  {
   "cell_type": "code",
   "execution_count": 43,
   "id": "trained-logic",
   "metadata": {},
   "outputs": [
    {
     "data": {
      "text/plain": [
       "<AxesSubplot:>"
      ]
     },
     "execution_count": 43,
     "metadata": {},
     "output_type": "execute_result"
    },
    {
     "data": {
      "image/png": "[encoded data removed]",
      "text/plain": [
       "<Figure size 432x288 with 1 Axes>"
      ]
     },
     "metadata": {
      "needs_background": "light"
     },
     "output_type": "display_data"
    }
   ],
   "source": [
    "df_bg.board_games.hist(bins = 20)"
   ]
  },
  {
   "cell_type": "code",
   "execution_count": 37,
   "id": "earned-cameroon",
   "metadata": {
    "scrolled": true
   },
   "outputs": [
    {
     "data": {
      "text/plain": [
       "172.63433165195448"
      ]
     },
     "execution_count": 37,
     "metadata": {},
     "output_type": "execute_result"
    }
   ],
   "source": [
    "df.net_sales.mean()"
   ]
  },
  {
   "cell_type": "code",
   "execution_count": 42,
   "id": "caring-cambridge",
   "metadata": {},
   "outputs": [
    {
     "data": {
      "text/plain": [
       "273798.05000000005"
      ]
     },
     "execution_count": 42,
     "metadata": {},
     "output_type": "execute_result"
    }
   ],
   "source": [
    "df.net_sales.sum()"
   ]
  },
  {
   "cell_type": "code",
   "execution_count": 38,
   "id": "touched-uruguay",
   "metadata": {},
   "outputs": [
    {
     "data": {
      "text/plain": [
       "465.54253731343266"
      ]
     },
     "execution_count": 38,
     "metadata": {},
     "output_type": "execute_result"
    }
   ],
   "source": [
    "df_rpg.net_sales.mean()"
   ]
  },
  {
   "cell_type": "code",
   "execution_count": 39,
   "id": "casual-belly",
   "metadata": {},
   "outputs": [
    {
     "data": {
      "text/plain": [
       "304.6422564102567"
      ]
     },
     "execution_count": 39,
     "metadata": {},
     "output_type": "execute_result"
    }
   ],
   "source": [
    "df_tcg.net_sales.mean()"
   ]
  },
  {
   "cell_type": "code",
   "execution_count": 40,
   "id": "systematic-middle",
   "metadata": {},
   "outputs": [
    {
     "data": {
      "text/plain": [
       "427.0697244094494"
      ]
     },
     "execution_count": 40,
     "metadata": {},
     "output_type": "execute_result"
    }
   ],
   "source": [
    "df_min.net_sales.mean()"
   ]
  },
  {
   "cell_type": "code",
   "execution_count": 41,
   "id": "dimensional-steal",
   "metadata": {},
   "outputs": [
    {
     "data": {
      "text/plain": [
       "346.9132481751826"
      ]
     },
     "execution_count": 41,
     "metadata": {},
     "output_type": "execute_result"
    }
   ],
   "source": [
    "df_sup[cats].net_sales.mean()"
   ]
  },
  {
   "cell_type": "code",
   "execution_count": 19,
   "id": "ongoing-ready",
   "metadata": {},
   "outputs": [
    {
     "data": {
      "text/plain": [
       "<AxesSubplot:>"
      ]
     },
     "execution_count": 19,
     "metadata": {},
     "output_type": "execute_result"
    },
    {
     "data": {
      "image/png": "[encoded data removed]",
      "text/plain": [
       "<Figure size 432x288 with 1 Axes>"
      ]
     },
     "metadata": {
      "needs_background": "light"
     },
     "output_type": "display_data"
    }
   ],
   "source": [
    "df_rpg.net_sales.net_sales.mean()"
   ]
  },
  {
   "cell_type": "code",
   "execution_count": 20,
   "id": "expected-sitting",
   "metadata": {},
   "outputs": [
    {
     "data": {
      "text/plain": [
       "<AxesSubplot:>"
      ]
     },
     "execution_count": 20,
     "metadata": {},
     "output_type": "execute_result"
    },
    {
     "data": {
      "image/png": "[encoded data removed]",
      "text/plain": [
       "<Figure size 432x288 with 1 Axes>"
      ]
     },
     "metadata": {
      "needs_background": "light"
     },
     "output_type": "display_data"
    }
   ],
   "source": [
    "df_tcg.net_sales.hist(bins = 25)"
   ]
  },
  {
   "cell_type": "code",
   "execution_count": 21,
   "id": "federal-entertainment",
   "metadata": {},
   "outputs": [
    {
     "data": {
      "text/plain": [
       "<AxesSubplot:>"
      ]
     },
     "execution_count": 21,
     "metadata": {},
     "output_type": "execute_result"
    },
    {
     "data": {
      "image/png": "[encoded data removed]",
      "text/plain": [
       "<Figure size 432x288 with 1 Axes>"
      ]
     },
     "metadata": {
      "needs_background": "light"
     },
     "output_type": "display_data"
    }
   ],
   "source": [
    "df_min.net_sales.hist(bins = 25)"
   ]
  },
  {
   "cell_type": "code",
   "execution_count": 34,
   "id": "exotic-chapter",
   "metadata": {},
   "outputs": [
    {
     "data": {
      "text/plain": [
       "<AxesSubplot:>"
      ]
     },
     "execution_count": 34,
     "metadata": {},
     "output_type": "execute_result"
    },
    {
     "data": {
      "image/png": "[encoded data removed]",
      "text/plain": [
       "<Figure size 432x288 with 1 Axes>"
      ]
     },
     "metadata": {
      "needs_background": "light"
     },
     "output_type": "display_data"
    }
   ],
   "source": [
    "df_bg.net_sales.hist(bins = 25)"
   ]
  },
  {
   "cell_type": "code",
   "execution_count": null,
   "id": "metric-shelter",
   "metadata": {},
   "outputs": [],
   "source": []
  },
  {
   "cell_type": "code",
   "execution_count": null,
   "id": "specified-municipality",
   "metadata": {},
   "outputs": [],
   "source": []
  },
  {
   "cell_type": "code",
   "execution_count": null,
   "id": "industrial-annotation",
   "metadata": {},
   "outputs": [],
   "source": []
  },
  {
   "cell_type": "code",
   "execution_count": null,
   "id": "scheduled-waste",
   "metadata": {},
   "outputs": [],
   "source": []
  },
  {
   "cell_type": "code",
   "execution_count": null,
   "id": "bigger-classification",
   "metadata": {},
   "outputs": [],
   "source": [
    "df_bg = df[['accessories', \n",
    "                  'board_games', \n",
    "                  'concessions', \n",
    "                  'modeling_supplies',\n",
    "                  'role_playing_games', \n",
    "                  'minis_models', \n",
    "                  'trading_card_games', \n",
    "                  'other',\n",
    "                  'game_room_rental', \n",
    "                  'all_items',\n",
    "                  'net_sales',\n",
    "                  'tenure']][df.board_games > 0]\n",
    "\n",
    "\n",
    "\n",
    "df_bg.describe()"
   ]
  },
  {
   "cell_type": "code",
   "execution_count": null,
   "id": "colonial-protest",
   "metadata": {},
   "outputs": [],
   "source": [
    "kmeans = KMeans(n_clusters=3)\n",
    "kmeans.fit(X)\n",
    "\n",
    "df_bg['cluster'] = kmeans.predict(X)\n",
    "\n",
    "df_bg.sample(10)"
   ]
  },
  {
   "cell_type": "code",
   "execution_count": null,
   "id": "damaged-adobe",
   "metadata": {},
   "outputs": [],
   "source": [
    "df_bg.cluster.value_counts()"
   ]
  },
  {
   "cell_type": "code",
   "execution_count": null,
   "id": "colonial-replication",
   "metadata": {},
   "outputs": [],
   "source": [
    "# Board Game Clusters"
   ]
  },
  {
   "cell_type": "code",
   "execution_count": null,
   "id": "approximate-title",
   "metadata": {},
   "outputs": [],
   "source": [
    "df_bg[df_bg.cluster == 0].describe()[1:3]"
   ]
  },
  {
   "cell_type": "code",
   "execution_count": null,
   "id": "ancient-norway",
   "metadata": {},
   "outputs": [],
   "source": [
    "df_bg[df_bg.cluster == 2].describe()[1:3]"
   ]
  },
  {
   "cell_type": "code",
   "execution_count": null,
   "id": "other-clothing",
   "metadata": {
    "scrolled": true
   },
   "outputs": [],
   "source": [
    "df_bg[df_bg.cluster == 1].describe()[1:3]"
   ]
  },
  {
   "cell_type": "markdown",
   "id": "covered-defensive",
   "metadata": {},
   "source": [
    "# TCG Clusters"
   ]
  },
  {
   "cell_type": "code",
   "execution_count": null,
   "id": "refined-massachusetts",
   "metadata": {},
   "outputs": [],
   "source": [
    "kmeans = KMeans(n_clusters=6)\n",
    "kmeans.fit(X)\n",
    "\n",
    "df_tcg['cluster'] = kmeans.predict(X)\n",
    "\n",
    "df_tcg.sample(10)"
   ]
  },
  {
   "cell_type": "code",
   "execution_count": null,
   "id": "wrapped-correspondence",
   "metadata": {},
   "outputs": [],
   "source": [
    "df_tcg.cluster.value_counts()"
   ]
  },
  {
   "cell_type": "code",
   "execution_count": null,
   "id": "binary-playlist",
   "metadata": {},
   "outputs": [],
   "source": [
    "df_tcg.describe()[1:3]"
   ]
  },
  {
   "cell_type": "code",
   "execution_count": null,
   "id": "finite-conservation",
   "metadata": {},
   "outputs": [],
   "source": [
    "df_tcg[df_tcg.cluster == 0].describe()[1:3]"
   ]
  },
  {
   "cell_type": "code",
   "execution_count": null,
   "id": "excessive-curtis",
   "metadata": {},
   "outputs": [],
   "source": [
    "df_tcg[df_tcg.cluster == 2].describe()[1:3]"
   ]
  },
  {
   "cell_type": "code",
   "execution_count": null,
   "id": "trained-broadcasting",
   "metadata": {},
   "outputs": [],
   "source": [
    "df_tcg[df_tcg.cluster == 1].describe()[1:3]"
   ]
  },
  {
   "cell_type": "code",
   "execution_count": null,
   "id": "fifty-payment",
   "metadata": {},
   "outputs": [],
   "source": []
  },
  {
   "cell_type": "code",
   "execution_count": null,
   "id": "dominant-visitor",
   "metadata": {},
   "outputs": [],
   "source": []
  },
  {
   "cell_type": "code",
   "execution_count": null,
   "id": "bronze-astrology",
   "metadata": {},
   "outputs": [],
   "source": []
  },
  {
   "cell_type": "code",
   "execution_count": null,
   "id": "apart-little",
   "metadata": {},
   "outputs": [],
   "source": []
  },
  {
   "cell_type": "code",
   "execution_count": null,
   "id": "vocational-teacher",
   "metadata": {},
   "outputs": [],
   "source": [
    "kmeans = KMeans(n_clusters=3)\n",
    "kmeans.fit(X)\n",
    "\n",
    "df_bg['cluster'] = kmeans.predict(X)\n",
    "\n",
    "df_tcg.sample(10)"
   ]
  },
  {
   "cell_type": "code",
   "execution_count": null,
   "id": "hollywood-france",
   "metadata": {},
   "outputs": [],
   "source": []
  },
  {
   "cell_type": "code",
   "execution_count": null,
   "id": "renewable-pontiac",
   "metadata": {},
   "outputs": [],
   "source": []
  },
  {
   "cell_type": "code",
   "execution_count": null,
   "id": "elder-cheat",
   "metadata": {},
   "outputs": [],
   "source": []
  },
  {
   "cell_type": "code",
   "execution_count": null,
   "id": "false-future",
   "metadata": {},
   "outputs": [],
   "source": []
  },
  {
   "cell_type": "code",
   "execution_count": null,
   "id": "widespread-physics",
   "metadata": {},
   "outputs": [],
   "source": [
    "X = df_tcg[['net_sales']]\n",
    "\n",
    "with plt.style.context('seaborn-whitegrid'):\n",
    "    \n",
    "    plt.figure(figsize=(9, 6))\n",
    "    pd.Series({k: KMeans(k).fit(X).inertia_ for k in range(2, 12)}).plot(marker='x')\n",
    "    plt.xticks(range(2, 12))\n",
    "    plt.xlabel('k')\n",
    "    plt.ylabel('inertia')\n",
    "    plt.title('Change in inertia as k increases')"
   ]
  },
  {
   "cell_type": "code",
   "execution_count": null,
   "id": "interstate-government",
   "metadata": {},
   "outputs": [],
   "source": [
    "\n",
    "\n",
    "cols = ['net_sales']\n",
    "\n",
    "X = df_bg[cols]\n",
    "\n",
    "model = DBSCAN().fit(X)\n",
    "\n",
    "df_bg['cluster'] = model.labels_\n",
    "\n",
    "df_bg.cluster.value_counts()"
   ]
  },
  {
   "cell_type": "code",
   "execution_count": null,
   "id": "short-vanilla",
   "metadata": {},
   "outputs": [],
   "source": []
  },
  {
   "cell_type": "code",
   "execution_count": null,
   "id": "green-contact",
   "metadata": {},
   "outputs": [],
   "source": [
    "df_bg"
   ]
  },
  {
   "cell_type": "code",
   "execution_count": null,
   "id": "variable-valentine",
   "metadata": {},
   "outputs": [],
   "source": [
    "df_bg[df_bg.cluster == 0]"
   ]
  },
  {
   "cell_type": "code",
   "execution_count": null,
   "id": "forbidden-blame",
   "metadata": {},
   "outputs": [],
   "source": [
    "df_bg[df_bg.cluster == 1]"
   ]
  },
  {
   "cell_type": "code",
   "execution_count": null,
   "id": "seven-nursery",
   "metadata": {},
   "outputs": [],
   "source": [
    "df_bg[df_bg.cluster == 2]"
   ]
  },
  {
   "cell_type": "code",
   "execution_count": null,
   "id": "chicken-terminology",
   "metadata": {},
   "outputs": [],
   "source": [
    "df_bg[df_bg.cluster == 3]"
   ]
  },
  {
   "cell_type": "code",
   "execution_count": null,
   "id": "accepting-sheriff",
   "metadata": {},
   "outputs": [],
   "source": [
    "df_cats = df[['accessories', \n",
    "                  'board_games', \n",
    "                  'concessions', \n",
    "                  'modeling_supplies',\n",
    "                  'role_playing_games', \n",
    "                  'minis_models', \n",
    "                  'trading_card_games', \n",
    "                  'other',\n",
    "                  'game_room_rental', \n",
    "                  'all_items',\n",
    "                  'net_sales']]"
   ]
  },
  {
   "cell_type": "code",
   "execution_count": null,
   "id": "hydraulic-luxembourg",
   "metadata": {},
   "outputs": [],
   "source": [
    "df_cats"
   ]
  },
  {
   "cell_type": "code",
   "execution_count": null,
   "id": "thirty-option",
   "metadata": {
    "scrolled": false
   },
   "outputs": [],
   "source": [
    "cols = ['accessories', \n",
    "        'board_games', \n",
    "        'concessions', \n",
    "        'modeling_supplies',\n",
    "        'role_playing_games', \n",
    "        'minis_models', \n",
    "        'trading_card_games', \n",
    "        'other',\n",
    "        'game_room_rental', \n",
    "        'all_items',\n",
    "        'net_sales']\n",
    "\n",
    "for col in cols:\n",
    "    \n",
    "    df[cols].hist(col, bins = 50)\n",
    "    plt.show()\n",
    "    \n",
    "    "
   ]
  },
  {
   "cell_type": "code",
   "execution_count": null,
   "id": "laden-cigarette",
   "metadata": {},
   "outputs": [],
   "source": [
    "df.hist('accessories', bins = 50)"
   ]
  },
  {
   "cell_type": "code",
   "execution_count": null,
   "id": "major-sudan",
   "metadata": {},
   "outputs": [],
   "source": []
  },
  {
   "cell_type": "code",
   "execution_count": null,
   "id": "daily-laser",
   "metadata": {},
   "outputs": [],
   "source": []
  },
  {
   "cell_type": "code",
   "execution_count": null,
   "id": "confident-sender",
   "metadata": {},
   "outputs": [],
   "source": [
    "df[raw_num].describe()"
   ]
  },
  {
   "cell_type": "code",
   "execution_count": null,
   "id": "applicable-medium",
   "metadata": {},
   "outputs": [],
   "source": [
    "for col in raw_num:\n",
    "    \n",
    "    print()\n",
    "    print(col.upper())\n",
    "    print()\n",
    "    print (f'{round(len(df[df[col] > 0]) / len(df)*100)}% buyers')\n",
    "    print (f'{round(len(df[df[col] == 0]) / len(df)*100)}% NON-buyers')\n",
    "    "
   ]
  },
  {
   "cell_type": "code",
   "execution_count": null,
   "id": "acknowledged-sister",
   "metadata": {},
   "outputs": [],
   "source": [
    "df[raw_num]"
   ]
  },
  {
   "cell_type": "code",
   "execution_count": null,
   "id": "earned-johnson",
   "metadata": {},
   "outputs": [],
   "source": [
    "df[raw_num][df.trading_card_games > 0].describe()"
   ]
  },
  {
   "cell_type": "code",
   "execution_count": null,
   "id": "catholic-grill",
   "metadata": {},
   "outputs": [],
   "source": [
    "df[raw_num][df.accessories > 0].describe()"
   ]
  },
  {
   "cell_type": "code",
   "execution_count": null,
   "id": "nasty-original",
   "metadata": {},
   "outputs": [],
   "source": [
    "df[raw_num][df.concessions > 0].describe()"
   ]
  },
  {
   "cell_type": "code",
   "execution_count": null,
   "id": "downtown-fiction",
   "metadata": {},
   "outputs": [],
   "source": [
    "df[raw_num][df.modeling_supplies > 0].describe()"
   ]
  },
  {
   "cell_type": "code",
   "execution_count": null,
   "id": "micro-release",
   "metadata": {},
   "outputs": [],
   "source": [
    "sns.heatmap(df)"
   ]
  },
  {
   "cell_type": "code",
   "execution_count": null,
   "id": "posted-third",
   "metadata": {
    "scrolled": false
   },
   "outputs": [],
   "source": [
    "cols = ['accessories', \n",
    "        'board_games', \n",
    "        'concessions',\n",
    "        'modeling_supplies', \n",
    "        'role_playing_games', \n",
    "        'minis_models',\n",
    "        'trading_card_games',\n",
    "        'game_room']\n",
    "\n",
    "for col in cols:\n",
    "    \n",
    "    \n",
    "    print(col, 'Hist')\n",
    "    \n",
    "    plt.hist(df[raw_num][df[col] > 0])\n",
    "    \n",
    "    plt.show()"
   ]
  },
  {
   "cell_type": "code",
   "execution_count": null,
   "id": "after-bleeding",
   "metadata": {},
   "outputs": [],
   "source": [
    "\n",
    "\n"
   ]
  },
  {
   "cell_type": "code",
   "execution_count": null,
   "id": "convenient-round",
   "metadata": {},
   "outputs": [],
   "source": []
  }
 ],
 "metadata": {
  "kernelspec": {
   "display_name": "Python 3",
   "language": "python",
   "name": "python3"
  },
  "language_info": {
   "codemirror_mode": {
    "name": "ipython",
    "version": 3
   },
   "file_extension": ".py",
   "mimetype": "text/x-python",
   "name": "python",
   "nbconvert_exporter": "python",
   "pygments_lexer": "ipython3",
   "version": "3.7.4"
  }
 },
 "nbformat": 4,
 "nbformat_minor": 5
}
