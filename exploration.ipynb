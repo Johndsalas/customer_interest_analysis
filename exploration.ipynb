{
 "cells": [
  {
   "cell_type": "markdown",
   "id": "approximate-insulation",
   "metadata": {},
   "source": [
    "# Goal: Create customer profiles using clustering methods and customer purchase history"
   ]
  },
  {
   "cell_type": "code",
   "execution_count": 1,
   "id": "joint-remains",
   "metadata": {},
   "outputs": [],
   "source": [
    "# imports\n",
    "\n",
    "import pandas as pd\n",
    "import numpy as np\n",
    "import matplotlib.pyplot as plt\n",
    "import seaborn as sns\n",
    "from itertools import combinations\n",
    "from scipy.stats import spearmanr\n",
    "from scipy.stats import chi2_contingency\n",
    "from sklearn.cluster import KMeans\n",
    "from sklearn.cluster import DBSCAN \n",
    "\n",
    "import wrangle_profiles as wp"
   ]
  },
  {
   "cell_type": "markdown",
   "id": "distinguished-reggae",
   "metadata": {},
   "source": [
    "##  Wrangle"
   ]
  },
  {
   "cell_type": "markdown",
   "id": "large-hearts",
   "metadata": {},
   "source": [
    "The original data contained transaction information for LGS customers from 2001-2004. Items purchased in ‘purchase’ transactions were sorted into one of nine categories. <br>\n",
    "<br>\n",
    "Central categories representing major gaming interests include:\n",
    "* Board Games \n",
    "* Role Playing Games\n",
    "* Trading Card Games\n",
    "* Tabletop Minis Games\n",
    "* Modeling Supplies\n",
    "<a/>\n",
    "\n",
    "Support Categories represent categories that support or are adjacent to major interests include:\n",
    "* Accessories\n",
    "* Concessions\n",
    "* Game Room Rentals\n",
    "<a/>\n",
    "\n",
    "Items that could not be classified were categorized as \n",
    "* Other\n",
    "<a/>"
   ]
  },
  {
   "cell_type": "code",
   "execution_count": 2,
   "id": "worst-notebook",
   "metadata": {},
   "outputs": [],
   "source": [
    "df = wp.get_prepared_profiles_data()"
   ]
  },
  {
   "cell_type": "markdown",
   "id": "pregnant-woman",
   "metadata": {},
   "source": [
    "## Explore "
   ]
  },
  {
   "cell_type": "markdown",
   "id": "three-merchant",
   "metadata": {},
   "source": [
    "### What does an average customer's spending habits look like?"
   ]
  },
  {
   "cell_type": "code",
   "execution_count": 3,
   "id": "resistant-integral",
   "metadata": {},
   "outputs": [
    {
     "data": {
      "text/html": [
       "<div>\n",
       "<style scoped>\n",
       "    .dataframe tbody tr th:only-of-type {\n",
       "        vertical-align: middle;\n",
       "    }\n",
       "\n",
       "    .dataframe tbody tr th {\n",
       "        vertical-align: top;\n",
       "    }\n",
       "\n",
       "    .dataframe thead th {\n",
       "        text-align: right;\n",
       "    }\n",
       "</style>\n",
       "<table border=\"1\" class=\"dataframe\">\n",
       "  <thead>\n",
       "    <tr style=\"text-align: right;\">\n",
       "      <th></th>\n",
       "      <th>accessories</th>\n",
       "      <th>board_games</th>\n",
       "      <th>concessions</th>\n",
       "      <th>modeling_supplies</th>\n",
       "      <th>role_playing_games</th>\n",
       "      <th>minis_models</th>\n",
       "      <th>trading_card_games</th>\n",
       "      <th>game_room_rental</th>\n",
       "      <th>net_sales</th>\n",
       "    </tr>\n",
       "  </thead>\n",
       "  <tbody>\n",
       "    <tr>\n",
       "      <th>mean</th>\n",
       "      <td>1.715006</td>\n",
       "      <td>0.474149</td>\n",
       "      <td>4.362547</td>\n",
       "      <td>1.569987</td>\n",
       "      <td>0.165826</td>\n",
       "      <td>0.541614</td>\n",
       "      <td>2.228247</td>\n",
       "      <td>0.059899</td>\n",
       "      <td>172.634332</td>\n",
       "    </tr>\n",
       "    <tr>\n",
       "      <th>std</th>\n",
       "      <td>4.503849</td>\n",
       "      <td>1.391602</td>\n",
       "      <td>18.823379</td>\n",
       "      <td>8.263589</td>\n",
       "      <td>0.877833</td>\n",
       "      <td>2.303441</td>\n",
       "      <td>7.990032</td>\n",
       "      <td>0.564630</td>\n",
       "      <td>442.719224</td>\n",
       "    </tr>\n",
       "  </tbody>\n",
       "</table>\n",
       "</div>"
      ],
      "text/plain": [
       "      accessories  board_games  concessions  modeling_supplies  \\\n",
       "mean     1.715006     0.474149     4.362547           1.569987   \n",
       "std      4.503849     1.391602    18.823379           8.263589   \n",
       "\n",
       "      role_playing_games  minis_models  trading_card_games  game_room_rental  \\\n",
       "mean            0.165826      0.541614            2.228247          0.059899   \n",
       "std             0.877833      2.303441            7.990032          0.564630   \n",
       "\n",
       "       net_sales  \n",
       "mean  172.634332  \n",
       "std   442.719224  "
      ]
     },
     "execution_count": 3,
     "metadata": {},
     "output_type": "execute_result"
    }
   ],
   "source": [
    "cats = ['accessories', \n",
    "        'board_games', \n",
    "        'concessions', \n",
    "        'modeling_supplies',\n",
    "        'role_playing_games', \n",
    "        'minis_models', \n",
    "        'trading_card_games', \n",
    "        'game_room_rental',\n",
    "        'net_sales']\n",
    "\n",
    "\n",
    "df[cats].describe()[1:3]"
   ]
  },
  {
   "cell_type": "markdown",
   "id": "remarkable-feature",
   "metadata": {},
   "source": [
    "Given the mean and relatively large standard deviation across all categories, penning down the habbits of an 'average' would be unhelpful due to the large variance. Moving forward it will be my goal to identify population clusters were the variance is less severe."
   ]
  },
  {
   "cell_type": "markdown",
   "id": "signed-enemy",
   "metadata": {},
   "source": [
    "### How many customers does each category appeal to? "
   ]
  },
  {
   "cell_type": "code",
   "execution_count": 4,
   "id": "criminal-newton",
   "metadata": {},
   "outputs": [
    {
     "data": {
      "image/png": "[encoded data removed]",
      "text/plain": [
       "<Figure size 720x432 with 1 Axes>"
      ]
     },
     "metadata": {
      "needs_background": "light"
     },
     "output_type": "display_data"
    }
   ],
   "source": [
    "cats = ['accessories', \n",
    "        'board_games', \n",
    "        'concessions', \n",
    "        'modeling_supplies',\n",
    "        'role_playing_games', \n",
    "        'minis_models', \n",
    "        'trading_card_games',\n",
    "        'game_room_rental']\n",
    "\n",
    "buyers = [round(len(df[df['accessories'] > 0]) / len(df)*100),\n",
    "          round(len(df[df['board_games'] > 0]) / len(df)*100),\n",
    "          round(len(df[df['modeling_supplies'] > 0]) / len(df)*100),\n",
    "          round(len(df[df['role_playing_games'] > 0]) / len(df)*100),\n",
    "          round(len(df[df['concessions'] > 0]) / len(df)*100),\n",
    "          round(len(df[df['minis_models'] > 0]) / len(df)*100),\n",
    "          round(len(df[df['trading_card_games'] > 0]) / len(df)*100),\n",
    "          round(len(df[df['game_room_rental'] > 0]) / len(df)*100)]\n",
    "    \n",
    "non_buyers = [round(len(df[df['accessories'] == 0]) / len(df)*100),\n",
    "              round(len(df[df['board_games'] == 0]) / len(df)*100),\n",
    "              round(len(df[df['modeling_supplies'] == 0]) / len(df)*100),\n",
    "              round(len(df[df['role_playing_games'] == 0]) / len(df)*100),\n",
    "              round(len(df[df['concessions'] == 0]) / len(df)*100),\n",
    "              round(len(df[df['minis_models'] == 0]) / len(df)*100),\n",
    "              round(len(df[df['trading_card_games'] == 0]) / len(df)*100),\n",
    "              round(len(df[df['game_room_rental'] == 0]) / len(df)*100)]\n",
    "\n",
    "data = { 'Category':cats,\n",
    "         'Buyers':buyers,\n",
    "         'Non_Buyers':non_buyers}\n",
    "\n",
    "df_data = pd.DataFrame(data)\n",
    "\n",
    "df_data.set_index('Category', inplace=True)\n",
    "\n",
    "df_data.plot(kind='bar', figsize=(10, 6), color = ['gold', 'lightgrey'])\n",
    "\n",
    "plt.xticks(rotation=40)\n",
    "\n",
    "plt.xlabel('')\n",
    "plt.ylabel('Percent of Customers Who Purchased from this Category')\n",
    "plt.title('Each Category Appeals to a Select Portion of Customers')\n",
    "\n",
    "\n",
    "plt.show()"
   ]
  },
  {
   "cell_type": "markdown",
   "id": "emotional-reunion",
   "metadata": {},
   "source": [
    "Each category only appeals to a select amount of customers:\n",
    "    \n",
    "Major Categories\n",
    "* Trading Card Games 37%\n",
    "* Role Playing Games 33%\n",
    "* Board Games 22%\n",
    "* Minis Models 16%\n",
    "* Modeling Supplies 8%\n",
    "\n",
    "Support Categories\n",
    "* Accessories 42%\n",
    "* Concessions 17%\n",
    "* Game Room Rental 2%\n",
    "\n",
    "Major categories appeal to roughly 1/3 of customers or less, likely due to specialized interests of customers <br>\n",
    "Accesories is the highest apeal category likely do to supporting multiple interests tied to major categories"
   ]
  },
  {
   "cell_type": "markdown",
   "id": "wooden-tower",
   "metadata": {},
   "source": [
    "### Is there a relationship between customers who buy products in one category and customers who buy products in a differint category?"
   ]
  },
  {
   "cell_type": "markdown",
   "id": "declared-valuable",
   "metadata": {},
   "source": [
    "Based on a chi-square test usong an alpha of .05, and the odds ratio of buyers to non-buyers in each category the following relationships exist between these categories:\n",
    "\n",
    "Customers who bought Board Games\n",
    "* 78% More likely to buy role playing games\n",
    "* 61% Less likely to buy trading card games \n",
    "\n",
    "Customers who bought Role Playing Games\n",
    "* 4.23 Times as likely to buy minis models\n",
    "* 2.59 Times as likely to buy accessories\n",
    "* 2.21 Times as likely to buy modeling supplies\n",
    "* 78% More likely to buy board games\n",
    "* 80% More likely to buy concessions\n",
    "* 40% decreased odds of buying trading card games\n",
    "\n",
    "Customers who bought Minis Models\n",
    "* 8.45 Times as likely to buy modeling supplies\n",
    "* 4.23 Times as likely to buy Role Playing Games\n",
    "* 75% More likely to to buy concessions\n",
    "* 50% Less likely to buy trading card games\n",
    "\n",
    "Customers who bought Trading Card Games\n",
    "* 88% More likely to buy accessories\n",
    "* 47% More likely to buy concessions\n",
    "* 61% Less likely to buy board games\n",
    "* 61% Less likely to buy modeling supplies\n",
    "* 50% Less likely to buy minis models \n",
    "* 40% Less likely to buy role playing games\n",
    "\n",
    "Customers who bought Modeling Supplies\n",
    "* 8.45 Times as likely to buy minis models\n",
    "* 2.21 Times as likely to buy role playing games\n",
    "* 88% increased odds of buying accessories\n",
    "* 65% More likely to buy concessions\n",
    "* 61% less likely to buy Trading Card Games "
   ]
  },
  {
   "cell_type": "markdown",
   "id": "spanish-sewing",
   "metadata": {},
   "source": [
    "#### Summary of Major Categories\n",
    "\n",
    "Board Gamers\n",
    "* Diversified Interests, not many strong relationships to other categories\n",
    "* More likely to buy role playing games\n",
    "* Less likely buy trading card games\n",
    "\n",
    "Trading Card Gamers\n",
    "* On their own island, less likely to engage in other major categories\n",
    "* More likely to buy accessories and concessions\n",
    "\n",
    "Role Playing Gamers\n",
    "* Likely a major driver of sales in other categories\n",
    "* Nearly 3 times as likely to buy accessories\n",
    "* Over 4 times as likely to buy minis models \n",
    "* 2 times as likely to buy modeling supplies\n",
    "* More likely to buy board games and concessions\n",
    "* Less likely to buy trading card games\n",
    "\n",
    "Minis Models\n",
    "* Comprised of “war gaming” models and models that support role playing games\n",
    "* Likely a driver of modeling supplies and partially driven by role playing games\n",
    "* Over 8 times as likely to buy modeling supplies\n",
    "* More likely to buy concessions\n",
    "* Less likely to buy trading card games\n",
    "\n",
    "Modeling supplies\n",
    "* Likely driven by minis models\n",
    "* Over 8 times as likely to buy minis models\n"
   ]
  },
  {
   "cell_type": "markdown",
   "id": "chubby-hands",
   "metadata": {},
   "source": [
    " #### Category Relationship Tests"
   ]
  },
  {
   "cell_type": "code",
   "execution_count": 5,
   "id": "peripheral-planning",
   "metadata": {},
   "outputs": [
    {
     "name": "stdout",
     "output_type": "stream",
     "text": [
      "bought_accessories and bought_concessions\n",
      "--------------------------------------------------------\n",
      "Chi-Square P-Value: 0.00022898142106283562\n",
      "Odds Ratio: 1.49\n",
      "\n",
      "bought_accessories and bought_role_playing_games\n",
      "--------------------------------------------------------\n",
      "Chi-Square P-Value: 2.637590995781412e-07\n",
      "Odds Ratio: 2.59\n",
      "\n",
      "bought_accessories and bought_trading_card_games\n",
      "--------------------------------------------------------\n",
      "Chi-Square P-Value: 2.6189298764791124e-09\n",
      "Odds Ratio: 1.88\n",
      "\n",
      "bought_board_games and bought_role_playing_games\n",
      "--------------------------------------------------------\n",
      "Chi-Square P-Value: 0.003992273243111018\n",
      "Odds Ratio: 1.78\n",
      "\n",
      "bought_board_games and bought_trading_card_games\n",
      "--------------------------------------------------------\n",
      "Chi-Square P-Value: 3.903131004282979e-11\n",
      "Odds Ratio: 0.39\n",
      "\n",
      "bought_concessions and bought_modeling_supplies\n",
      "--------------------------------------------------------\n",
      "Chi-Square P-Value: 0.0002876863942808126\n",
      "Odds Ratio: 1.65\n",
      "\n",
      "bought_concessions and bought_role_playing_games\n",
      "--------------------------------------------------------\n",
      "Chi-Square P-Value: 0.0014589471921045644\n",
      "Odds Ratio: 1.8\n",
      "\n",
      "bought_concessions and bought_minis_models\n",
      "--------------------------------------------------------\n",
      "Chi-Square P-Value: 6.77964642111708e-05\n",
      "Odds Ratio: 1.75\n",
      "\n",
      "bought_concessions and bought_trading_card_games\n",
      "--------------------------------------------------------\n",
      "Chi-Square P-Value: 0.00048464442158513405\n",
      "Odds Ratio: 1.47\n",
      "\n",
      "bought_modeling_supplies and bought_role_playing_games\n",
      "--------------------------------------------------------\n",
      "Chi-Square P-Value: 9.432383416725453e-05\n",
      "Odds Ratio: 2.21\n",
      "\n",
      "bought_modeling_supplies and bought_minis_models\n",
      "--------------------------------------------------------\n",
      "Chi-Square P-Value: 5.181101272766629e-53\n",
      "Odds Ratio: 8.45\n",
      "\n",
      "bought_modeling_supplies and bought_trading_card_games\n",
      "--------------------------------------------------------\n",
      "Chi-Square P-Value: 2.005353953456003e-09\n",
      "Odds Ratio: 0.39\n",
      "\n",
      "bought_role_playing_games and bought_minis_models\n",
      "--------------------------------------------------------\n",
      "Chi-Square P-Value: 3.083238770422678e-15\n",
      "Odds Ratio: 4.23\n",
      "\n",
      "bought_role_playing_games and bought_trading_card_games\n",
      "--------------------------------------------------------\n",
      "Chi-Square P-Value: 0.01557275335181492\n",
      "Odds Ratio: 0.6\n",
      "\n",
      "bought_minis_models and bought_trading_card_games\n",
      "--------------------------------------------------------\n",
      "Chi-Square P-Value: 9.61132947434622e-06\n",
      "Odds Ratio: 0.5\n",
      "\n"
     ]
    }
   ],
   "source": [
    "# get list of categories to examine\n",
    "cats = ['accessories', \n",
    "        'board_games', \n",
    "        'concessions',\n",
    "        'modeling_supplies', \n",
    "        'role_playing_games', \n",
    "        'minis_models',\n",
    "        'trading_card_games']\n",
    "\n",
    "bought_cats = []\n",
    "\n",
    "# get true/false column for each category for count > 0\n",
    "for cat in cats:\n",
    "    \n",
    "    bought_cat = f'bought_{cat}'\n",
    "    \n",
    "    df[bought_cat] = df[cat] > 0\n",
    "    \n",
    "    bought_cats.append(bought_cat)\n",
    "    \n",
    "# get category combinations\n",
    "combs = combinations(bought_cats, 2)\n",
    "\n",
    "# Get print out fro each singificant relationship\n",
    "for comb in combs:\n",
    "    \n",
    "    # get categories and make contengency table\n",
    "    alpha = .05\n",
    "    cat1 = df[comb[0]]\n",
    "    cat2 = df[comb[1]]\n",
    "\n",
    "    ct = pd.crosstab(cat2, cat1)\n",
    "    \n",
    "    chi2, p, dof, expected = chi2_contingency(ct)\n",
    "    \n",
    "    # if significant relation ship print p value and odds ration\n",
    "    if p < alpha:\n",
    "\n",
    "        # get values from crosstab\n",
    "        true_true = ct.loc[1, 1]\n",
    "        true_false = ct.loc[1, 0]\n",
    "        false_false = ct.loc[0, 0]\n",
    "        false_true = ct.loc[0, 1]\n",
    "\n",
    "        # calculate odds ratio\n",
    "        true_ratio = true_true/true_false\n",
    "        false_ratio = false_true/false_false\n",
    "\n",
    "        odds_ratio = round(true_ratio/false_ratio,2)\n",
    "    \n",
    "    \n",
    "        # print results     \n",
    "        print(comb[0], 'and', comb[1])\n",
    "        print('--------------------------------------------------------')\n",
    "        print('Chi-Square P-Value:', p)\n",
    "        print('Odds Ratio:', odds_ratio)\n",
    "        print()"
   ]
  },
  {
   "cell_type": "markdown",
   "id": "charitable-texas",
   "metadata": {},
   "source": [
    "### Is there a relationship between major groups and customer spending?"
   ]
  },
  {
   "cell_type": "code",
   "execution_count": 32,
   "id": "relative-democrat",
   "metadata": {},
   "outputs": [
    {
     "data": {
      "text/html": [
       "<div>\n",
       "<style scoped>\n",
       "    .dataframe tbody tr th:only-of-type {\n",
       "        vertical-align: middle;\n",
       "    }\n",
       "\n",
       "    .dataframe tbody tr th {\n",
       "        vertical-align: top;\n",
       "    }\n",
       "\n",
       "    .dataframe thead th {\n",
       "        text-align: right;\n",
       "    }\n",
       "</style>\n",
       "<table border=\"1\" class=\"dataframe\">\n",
       "  <thead>\n",
       "    <tr style=\"text-align: right;\">\n",
       "      <th></th>\n",
       "      <th>accessories_sales</th>\n",
       "      <th>board_games_sales</th>\n",
       "      <th>concessions_sales</th>\n",
       "      <th>modeling_supplies_sales</th>\n",
       "      <th>role_playing_games_sales</th>\n",
       "      <th>minis_models_sales</th>\n",
       "      <th>trading_card_games_sales</th>\n",
       "    </tr>\n",
       "  </thead>\n",
       "  <tbody>\n",
       "    <tr>\n",
       "      <th>Count</th>\n",
       "      <td>667</td>\n",
       "      <td>347</td>\n",
       "      <td>531</td>\n",
       "      <td>274</td>\n",
       "      <td>134</td>\n",
       "      <td>254</td>\n",
       "      <td>585</td>\n",
       "    </tr>\n",
       "    <tr>\n",
       "      <th>Mean</th>\n",
       "      <td>291</td>\n",
       "      <td>332</td>\n",
       "      <td>318</td>\n",
       "      <td>346</td>\n",
       "      <td>465</td>\n",
       "      <td>427</td>\n",
       "      <td>304</td>\n",
       "    </tr>\n",
       "    <tr>\n",
       "      <th>Standard Deviation</th>\n",
       "      <td>640</td>\n",
       "      <td>753</td>\n",
       "      <td>712</td>\n",
       "      <td>751</td>\n",
       "      <td>891</td>\n",
       "      <td>865</td>\n",
       "      <td>665</td>\n",
       "    </tr>\n",
       "  </tbody>\n",
       "</table>\n",
       "</div>"
      ],
      "text/plain": [
       "                    accessories_sales  board_games_sales  concessions_sales  \\\n",
       "Count                             667                347                531   \n",
       "Mean                              291                332                318   \n",
       "Standard Deviation                640                753                712   \n",
       "\n",
       "                    modeling_supplies_sales  role_playing_games_sales  \\\n",
       "Count                                   274                       134   \n",
       "Mean                                    346                       465   \n",
       "Standard Deviation                      751                       891   \n",
       "\n",
       "                    minis_models_sales  trading_card_games_sales  \n",
       "Count                              254                       585  \n",
       "Mean                               427                       304  \n",
       "Standard Deviation                 865                       665  "
      ]
     },
     "execution_count": 32,
     "metadata": {},
     "output_type": "execute_result"
    }
   ],
   "source": [
    "cats = ['accessories', \n",
    "        'board_games', \n",
    "        'concessions',\n",
    "        'modeling_supplies', \n",
    "        'role_playing_games', \n",
    "        'minis_models',\n",
    "        'trading_card_games']\n",
    "\n",
    "df_sales = pd.DataFrame()\n",
    "\n",
    "for cat in cats:\n",
    "\n",
    "    bought_cat = f'bought_{cat}'\n",
    "\n",
    "    df_cat = df[df[bought_cat] == True]\n",
    "\n",
    "    col = [df_cat.net_sales.count(),df_cat.net_sales.mean(),df_cat.net_sales.std()]\n",
    "\n",
    "    df_sales[f'{cat}_sales'] = col\n",
    "\n",
    "df_sales.rename(index={0: 'Count', 1: 'Mean', 2: 'Standard Deviation'}, inplace=True)\n",
    "\n",
    "df_sales = df_sales.astype('int')\n",
    "\n",
    "df_sales"
   ]
  },
  {
   "cell_type": "code",
   "execution_count": 27,
   "id": "impressed-antigua",
   "metadata": {},
   "outputs": [
    {
     "data": {
      "image/png": "[encoded data removed]",
      "text/plain": [
       "<Figure size 432x288 with 1 Axes>"
      ]
     },
     "metadata": {
      "needs_background": "light"
     },
     "output_type": "display_data"
    }
   ],
   "source": [
    "df.net_sales.hist(bins = 20)\n",
    "plt.show()"
   ]
  },
  {
   "cell_type": "code",
   "execution_count": null,
   "id": "designing-oregon",
   "metadata": {},
   "outputs": [],
   "source": []
  },
  {
   "cell_type": "code",
   "execution_count": 31,
   "id": "found-transparency",
   "metadata": {},
   "outputs": [
    {
     "data": {
      "text/plain": [
       "<AxesSubplot:>"
      ]
     },
     "execution_count": 31,
     "metadata": {},
     "output_type": "execute_result"
    },
    {
     "data": {
      "image/png": "[encoded data removed]",
      "text/plain": [
       "<Figure size 432x288 with 1 Axes>"
      ]
     },
     "metadata": {
      "needs_background": "light"
     },
     "output_type": "display_data"
    }
   ],
   "source": [
    "df.boxplot(column = 'net_sales')"
   ]
  },
  {
   "cell_type": "code",
   "execution_count": 45,
   "id": "plain-transition",
   "metadata": {},
   "outputs": [
    {
     "data": {
      "text/html": [
       "<div>\n",
       "<style scoped>\n",
       "    .dataframe tbody tr th:only-of-type {\n",
       "        vertical-align: middle;\n",
       "    }\n",
       "\n",
       "    .dataframe tbody tr th {\n",
       "        vertical-align: top;\n",
       "    }\n",
       "\n",
       "    .dataframe thead th {\n",
       "        text-align: right;\n",
       "    }\n",
       "</style>\n",
       "<table border=\"1\" class=\"dataframe\">\n",
       "  <thead>\n",
       "    <tr style=\"text-align: right;\">\n",
       "      <th></th>\n",
       "      <th>net_sales</th>\n",
       "    </tr>\n",
       "  </thead>\n",
       "  <tbody>\n",
       "    <tr>\n",
       "      <th>count</th>\n",
       "      <td>1586.000000</td>\n",
       "    </tr>\n",
       "    <tr>\n",
       "      <th>mean</th>\n",
       "      <td>172.634332</td>\n",
       "    </tr>\n",
       "    <tr>\n",
       "      <th>std</th>\n",
       "      <td>442.719224</td>\n",
       "    </tr>\n",
       "    <tr>\n",
       "      <th>min</th>\n",
       "      <td>0.000000</td>\n",
       "    </tr>\n",
       "    <tr>\n",
       "      <th>25%</th>\n",
       "      <td>22.972500</td>\n",
       "    </tr>\n",
       "    <tr>\n",
       "      <th>50%</th>\n",
       "      <td>59.980000</td>\n",
       "    </tr>\n",
       "    <tr>\n",
       "      <th>75%</th>\n",
       "      <td>151.882500</td>\n",
       "    </tr>\n",
       "    <tr>\n",
       "      <th>max</th>\n",
       "      <td>6549.010000</td>\n",
       "    </tr>\n",
       "  </tbody>\n",
       "</table>\n",
       "</div>"
      ],
      "text/plain": [
       "         net_sales\n",
       "count  1586.000000\n",
       "mean    172.634332\n",
       "std     442.719224\n",
       "min       0.000000\n",
       "25%      22.972500\n",
       "50%      59.980000\n",
       "75%     151.882500\n",
       "max    6549.010000"
      ]
     },
     "execution_count": 45,
     "metadata": {},
     "output_type": "execute_result"
    }
   ],
   "source": [
    "df[['net_sales']].describe()"
   ]
  },
  {
   "cell_type": "code",
   "execution_count": 34,
   "id": "postal-geology",
   "metadata": {},
   "outputs": [
    {
     "data": {
      "text/html": [
       "<div>\n",
       "<style scoped>\n",
       "    .dataframe tbody tr th:only-of-type {\n",
       "        vertical-align: middle;\n",
       "    }\n",
       "\n",
       "    .dataframe tbody tr th {\n",
       "        vertical-align: top;\n",
       "    }\n",
       "\n",
       "    .dataframe thead th {\n",
       "        text-align: right;\n",
       "    }\n",
       "</style>\n",
       "<table border=\"1\" class=\"dataframe\">\n",
       "  <thead>\n",
       "    <tr style=\"text-align: right;\">\n",
       "      <th></th>\n",
       "      <th>accessories</th>\n",
       "      <th>board_games</th>\n",
       "      <th>concessions</th>\n",
       "      <th>modeling_supplies</th>\n",
       "      <th>role_playing_games</th>\n",
       "      <th>minis_models</th>\n",
       "      <th>trading_card_games</th>\n",
       "      <th>other</th>\n",
       "      <th>game_room_rental</th>\n",
       "      <th>all_items</th>\n",
       "      <th>...</th>\n",
       "      <th>all_items_scaled</th>\n",
       "      <th>trans_count_scaled</th>\n",
       "      <th>tenure_scaled</th>\n",
       "      <th>bought_accessories</th>\n",
       "      <th>bought_board_games</th>\n",
       "      <th>bought_concessions</th>\n",
       "      <th>bought_modeling_supplies</th>\n",
       "      <th>bought_role_playing_games</th>\n",
       "      <th>bought_minis_models</th>\n",
       "      <th>bought_trading_card_games</th>\n",
       "    </tr>\n",
       "  </thead>\n",
       "  <tbody>\n",
       "    <tr>\n",
       "      <th>100</th>\n",
       "      <td>26</td>\n",
       "      <td>6</td>\n",
       "      <td>106</td>\n",
       "      <td>204</td>\n",
       "      <td>3</td>\n",
       "      <td>0</td>\n",
       "      <td>22</td>\n",
       "      <td>9</td>\n",
       "      <td>0</td>\n",
       "      <td>376</td>\n",
       "      <td>...</td>\n",
       "      <td>11.019281</td>\n",
       "      <td>4.497008</td>\n",
       "      <td>1.268929</td>\n",
       "      <td>True</td>\n",
       "      <td>True</td>\n",
       "      <td>True</td>\n",
       "      <td>True</td>\n",
       "      <td>True</td>\n",
       "      <td>False</td>\n",
       "      <td>True</td>\n",
       "    </tr>\n",
       "    <tr>\n",
       "      <th>409</th>\n",
       "      <td>18</td>\n",
       "      <td>6</td>\n",
       "      <td>60</td>\n",
       "      <td>20</td>\n",
       "      <td>5</td>\n",
       "      <td>16</td>\n",
       "      <td>55</td>\n",
       "      <td>25</td>\n",
       "      <td>0</td>\n",
       "      <td>205</td>\n",
       "      <td>...</td>\n",
       "      <td>5.840658</td>\n",
       "      <td>8.554643</td>\n",
       "      <td>3.213082</td>\n",
       "      <td>True</td>\n",
       "      <td>True</td>\n",
       "      <td>True</td>\n",
       "      <td>True</td>\n",
       "      <td>True</td>\n",
       "      <td>True</td>\n",
       "      <td>True</td>\n",
       "    </tr>\n",
       "    <tr>\n",
       "      <th>451</th>\n",
       "      <td>28</td>\n",
       "      <td>6</td>\n",
       "      <td>304</td>\n",
       "      <td>0</td>\n",
       "      <td>0</td>\n",
       "      <td>4</td>\n",
       "      <td>60</td>\n",
       "      <td>66</td>\n",
       "      <td>0</td>\n",
       "      <td>468</td>\n",
       "      <td>...</td>\n",
       "      <td>13.805440</td>\n",
       "      <td>13.146178</td>\n",
       "      <td>1.052912</td>\n",
       "      <td>True</td>\n",
       "      <td>True</td>\n",
       "      <td>True</td>\n",
       "      <td>False</td>\n",
       "      <td>False</td>\n",
       "      <td>True</td>\n",
       "      <td>True</td>\n",
       "    </tr>\n",
       "    <tr>\n",
       "      <th>1089</th>\n",
       "      <td>12</td>\n",
       "      <td>0</td>\n",
       "      <td>5</td>\n",
       "      <td>0</td>\n",
       "      <td>0</td>\n",
       "      <td>0</td>\n",
       "      <td>27</td>\n",
       "      <td>21</td>\n",
       "      <td>0</td>\n",
       "      <td>65</td>\n",
       "      <td>...</td>\n",
       "      <td>1.600850</td>\n",
       "      <td>2.895310</td>\n",
       "      <td>0.404861</td>\n",
       "      <td>True</td>\n",
       "      <td>False</td>\n",
       "      <td>True</td>\n",
       "      <td>False</td>\n",
       "      <td>False</td>\n",
       "      <td>False</td>\n",
       "      <td>True</td>\n",
       "    </tr>\n",
       "    <tr>\n",
       "      <th>1346</th>\n",
       "      <td>25</td>\n",
       "      <td>5</td>\n",
       "      <td>261</td>\n",
       "      <td>15</td>\n",
       "      <td>1</td>\n",
       "      <td>10</td>\n",
       "      <td>120</td>\n",
       "      <td>26</td>\n",
       "      <td>0</td>\n",
       "      <td>463</td>\n",
       "      <td>...</td>\n",
       "      <td>13.654019</td>\n",
       "      <td>11.010581</td>\n",
       "      <td>3.213082</td>\n",
       "      <td>True</td>\n",
       "      <td>True</td>\n",
       "      <td>True</td>\n",
       "      <td>True</td>\n",
       "      <td>True</td>\n",
       "      <td>True</td>\n",
       "      <td>True</td>\n",
       "    </tr>\n",
       "    <tr>\n",
       "      <th>1462</th>\n",
       "      <td>38</td>\n",
       "      <td>7</td>\n",
       "      <td>34</td>\n",
       "      <td>20</td>\n",
       "      <td>0</td>\n",
       "      <td>7</td>\n",
       "      <td>107</td>\n",
       "      <td>13</td>\n",
       "      <td>0</td>\n",
       "      <td>226</td>\n",
       "      <td>...</td>\n",
       "      <td>6.476629</td>\n",
       "      <td>8.981763</td>\n",
       "      <td>3.213082</td>\n",
       "      <td>True</td>\n",
       "      <td>True</td>\n",
       "      <td>True</td>\n",
       "      <td>True</td>\n",
       "      <td>False</td>\n",
       "      <td>True</td>\n",
       "      <td>True</td>\n",
       "    </tr>\n",
       "    <tr>\n",
       "      <th>1556</th>\n",
       "      <td>18</td>\n",
       "      <td>21</td>\n",
       "      <td>136</td>\n",
       "      <td>68</td>\n",
       "      <td>24</td>\n",
       "      <td>37</td>\n",
       "      <td>0</td>\n",
       "      <td>7</td>\n",
       "      <td>2</td>\n",
       "      <td>313</td>\n",
       "      <td>...</td>\n",
       "      <td>9.111367</td>\n",
       "      <td>8.020744</td>\n",
       "      <td>1.700963</td>\n",
       "      <td>True</td>\n",
       "      <td>True</td>\n",
       "      <td>True</td>\n",
       "      <td>True</td>\n",
       "      <td>True</td>\n",
       "      <td>True</td>\n",
       "      <td>False</td>\n",
       "    </tr>\n",
       "  </tbody>\n",
       "</table>\n",
       "<p>7 rows × 32 columns</p>\n",
       "</div>"
      ],
      "text/plain": [
       "      accessories  board_games  concessions  modeling_supplies  \\\n",
       "100            26            6          106                204   \n",
       "409            18            6           60                 20   \n",
       "451            28            6          304                  0   \n",
       "1089           12            0            5                  0   \n",
       "1346           25            5          261                 15   \n",
       "1462           38            7           34                 20   \n",
       "1556           18           21          136                 68   \n",
       "\n",
       "      role_playing_games  minis_models  trading_card_games  other  \\\n",
       "100                    3             0                  22      9   \n",
       "409                    5            16                  55     25   \n",
       "451                    0             4                  60     66   \n",
       "1089                   0             0                  27     21   \n",
       "1346                   1            10                 120     26   \n",
       "1462                   0             7                 107     13   \n",
       "1556                  24            37                   0      7   \n",
       "\n",
       "      game_room_rental  all_items  ...  all_items_scaled  trans_count_scaled  \\\n",
       "100                  0        376  ...         11.019281            4.497008   \n",
       "409                  0        205  ...          5.840658            8.554643   \n",
       "451                  0        468  ...         13.805440           13.146178   \n",
       "1089                 0         65  ...          1.600850            2.895310   \n",
       "1346                 0        463  ...         13.654019           11.010581   \n",
       "1462                 0        226  ...          6.476629            8.981763   \n",
       "1556                 2        313  ...          9.111367            8.020744   \n",
       "\n",
       "      tenure_scaled  bought_accessories  bought_board_games  \\\n",
       "100        1.268929                True                True   \n",
       "409        3.213082                True                True   \n",
       "451        1.052912                True                True   \n",
       "1089       0.404861                True               False   \n",
       "1346       3.213082                True                True   \n",
       "1462       3.213082                True                True   \n",
       "1556       1.700963                True                True   \n",
       "\n",
       "      bought_concessions  bought_modeling_supplies  bought_role_playing_games  \\\n",
       "100                 True                      True                       True   \n",
       "409                 True                      True                       True   \n",
       "451                 True                     False                      False   \n",
       "1089                True                     False                      False   \n",
       "1346                True                      True                       True   \n",
       "1462                True                      True                      False   \n",
       "1556                True                      True                       True   \n",
       "\n",
       "      bought_minis_models  bought_trading_card_games  \n",
       "100                 False                       True  \n",
       "409                  True                       True  \n",
       "451                  True                       True  \n",
       "1089                False                       True  \n",
       "1346                 True                       True  \n",
       "1462                 True                       True  \n",
       "1556                 True                      False  \n",
       "\n",
       "[7 rows x 32 columns]"
      ]
     },
     "execution_count": 34,
     "metadata": {},
     "output_type": "execute_result"
    }
   ],
   "source": [
    "[df.net_sales > 3000]"
   ]
  },
  {
   "cell_type": "code",
   "execution_count": 6,
   "id": "requested-account",
   "metadata": {},
   "outputs": [],
   "source": [
    "df_bg = df[df.bought_board_games == True] \n",
    "df_rpg = df[df.bought_role_playing_games == True]\n",
    "df_tcg = df[df.bought_trading_card_games == True]\n",
    "df_min = df[df.bought_minis_models == True]\n",
    "df_sup = df[df.bought_modeling_supplies == True]\n",
    "df_con = df[df.bought_concessions == True]\n",
    "df_acc = df[df.bought_accessories == True]"
   ]
  },
  {
   "cell_type": "code",
   "execution_count": 7,
   "id": "concerned-globe",
   "metadata": {},
   "outputs": [],
   "source": [
    "cats = ['accessories', \n",
    "        'board_games', \n",
    "        'concessions', \n",
    "        'modeling_supplies',\n",
    "        'role_playing_games', \n",
    "        'minis_models', \n",
    "        'trading_card_games', \n",
    "        'game_room_rental',\n",
    "        'net_sales']"
   ]
  },
  {
   "cell_type": "code",
   "execution_count": 8,
   "id": "naval-stock",
   "metadata": {},
   "outputs": [
    {
     "data": {
      "text/html": [
       "<div>\n",
       "<style scoped>\n",
       "    .dataframe tbody tr th:only-of-type {\n",
       "        vertical-align: middle;\n",
       "    }\n",
       "\n",
       "    .dataframe tbody tr th {\n",
       "        vertical-align: top;\n",
       "    }\n",
       "\n",
       "    .dataframe thead th {\n",
       "        text-align: right;\n",
       "    }\n",
       "</style>\n",
       "<table border=\"1\" class=\"dataframe\">\n",
       "  <thead>\n",
       "    <tr style=\"text-align: right;\">\n",
       "      <th></th>\n",
       "      <th>accessories</th>\n",
       "      <th>board_games</th>\n",
       "      <th>concessions</th>\n",
       "      <th>modeling_supplies</th>\n",
       "      <th>role_playing_games</th>\n",
       "      <th>minis_models</th>\n",
       "      <th>trading_card_games</th>\n",
       "      <th>game_room_rental</th>\n",
       "      <th>net_sales</th>\n",
       "    </tr>\n",
       "  </thead>\n",
       "  <tbody>\n",
       "    <tr>\n",
       "      <th>count</th>\n",
       "      <td>1586.000000</td>\n",
       "      <td>1586.000000</td>\n",
       "      <td>1586.000000</td>\n",
       "      <td>1586.000000</td>\n",
       "      <td>1586.000000</td>\n",
       "      <td>1586.000000</td>\n",
       "      <td>1586.000000</td>\n",
       "      <td>1586.000000</td>\n",
       "      <td>1586.000000</td>\n",
       "    </tr>\n",
       "    <tr>\n",
       "      <th>mean</th>\n",
       "      <td>1.715006</td>\n",
       "      <td>0.474149</td>\n",
       "      <td>4.362547</td>\n",
       "      <td>1.569987</td>\n",
       "      <td>0.165826</td>\n",
       "      <td>0.541614</td>\n",
       "      <td>2.228247</td>\n",
       "      <td>0.059899</td>\n",
       "      <td>172.634332</td>\n",
       "    </tr>\n",
       "    <tr>\n",
       "      <th>std</th>\n",
       "      <td>4.503849</td>\n",
       "      <td>1.391602</td>\n",
       "      <td>18.823379</td>\n",
       "      <td>8.263589</td>\n",
       "      <td>0.877833</td>\n",
       "      <td>2.303441</td>\n",
       "      <td>7.990032</td>\n",
       "      <td>0.564630</td>\n",
       "      <td>442.719224</td>\n",
       "    </tr>\n",
       "  </tbody>\n",
       "</table>\n",
       "</div>"
      ],
      "text/plain": [
       "       accessories  board_games  concessions  modeling_supplies  \\\n",
       "count  1586.000000  1586.000000  1586.000000        1586.000000   \n",
       "mean      1.715006     0.474149     4.362547           1.569987   \n",
       "std       4.503849     1.391602    18.823379           8.263589   \n",
       "\n",
       "       role_playing_games  minis_models  trading_card_games  game_room_rental  \\\n",
       "count         1586.000000   1586.000000         1586.000000       1586.000000   \n",
       "mean             0.165826      0.541614            2.228247          0.059899   \n",
       "std              0.877833      2.303441            7.990032          0.564630   \n",
       "\n",
       "         net_sales  \n",
       "count  1586.000000  \n",
       "mean    172.634332  \n",
       "std     442.719224  "
      ]
     },
     "execution_count": 8,
     "metadata": {},
     "output_type": "execute_result"
    }
   ],
   "source": [
    "df[cats].describe()[:3]"
   ]
  },
  {
   "cell_type": "code",
   "execution_count": 9,
   "id": "random-laundry",
   "metadata": {},
   "outputs": [
    {
     "data": {
      "text/html": [
       "<div>\n",
       "<style scoped>\n",
       "    .dataframe tbody tr th:only-of-type {\n",
       "        vertical-align: middle;\n",
       "    }\n",
       "\n",
       "    .dataframe tbody tr th {\n",
       "        vertical-align: top;\n",
       "    }\n",
       "\n",
       "    .dataframe thead th {\n",
       "        text-align: right;\n",
       "    }\n",
       "</style>\n",
       "<table border=\"1\" class=\"dataframe\">\n",
       "  <thead>\n",
       "    <tr style=\"text-align: right;\">\n",
       "      <th></th>\n",
       "      <th>accessories</th>\n",
       "      <th>board_games</th>\n",
       "      <th>concessions</th>\n",
       "      <th>modeling_supplies</th>\n",
       "      <th>role_playing_games</th>\n",
       "      <th>minis_models</th>\n",
       "      <th>trading_card_games</th>\n",
       "      <th>game_room_rental</th>\n",
       "      <th>net_sales</th>\n",
       "    </tr>\n",
       "  </thead>\n",
       "  <tbody>\n",
       "    <tr>\n",
       "      <th>1556</th>\n",
       "      <td>18</td>\n",
       "      <td>21</td>\n",
       "      <td>136</td>\n",
       "      <td>68</td>\n",
       "      <td>24</td>\n",
       "      <td>37</td>\n",
       "      <td>0</td>\n",
       "      <td>2</td>\n",
       "      <td>3455.97</td>\n",
       "    </tr>\n",
       "  </tbody>\n",
       "</table>\n",
       "</div>"
      ],
      "text/plain": [
       "      accessories  board_games  concessions  modeling_supplies  \\\n",
       "1556           18           21          136                 68   \n",
       "\n",
       "      role_playing_games  minis_models  trading_card_games  game_room_rental  \\\n",
       "1556                  24            37                   0                 2   \n",
       "\n",
       "      net_sales  \n",
       "1556    3455.97  "
      ]
     },
     "execution_count": 9,
     "metadata": {},
     "output_type": "execute_result"
    }
   ],
   "source": [
    "df[df.board_games >20][cats]"
   ]
  },
  {
   "cell_type": "code",
   "execution_count": 10,
   "id": "through-missile",
   "metadata": {},
   "outputs": [
    {
     "data": {
      "text/html": [
       "<div>\n",
       "<style scoped>\n",
       "    .dataframe tbody tr th:only-of-type {\n",
       "        vertical-align: middle;\n",
       "    }\n",
       "\n",
       "    .dataframe tbody tr th {\n",
       "        vertical-align: top;\n",
       "    }\n",
       "\n",
       "    .dataframe thead th {\n",
       "        text-align: right;\n",
       "    }\n",
       "</style>\n",
       "<table border=\"1\" class=\"dataframe\">\n",
       "  <thead>\n",
       "    <tr style=\"text-align: right;\">\n",
       "      <th></th>\n",
       "      <th>accessories</th>\n",
       "      <th>board_games</th>\n",
       "      <th>concessions</th>\n",
       "      <th>modeling_supplies</th>\n",
       "      <th>role_playing_games</th>\n",
       "      <th>minis_models</th>\n",
       "      <th>trading_card_games</th>\n",
       "      <th>game_room_rental</th>\n",
       "      <th>net_sales</th>\n",
       "    </tr>\n",
       "  </thead>\n",
       "  <tbody>\n",
       "    <tr>\n",
       "      <th>100</th>\n",
       "      <td>26</td>\n",
       "      <td>6</td>\n",
       "      <td>106</td>\n",
       "      <td>204</td>\n",
       "      <td>3</td>\n",
       "      <td>0</td>\n",
       "      <td>22</td>\n",
       "      <td>0</td>\n",
       "      <td>3759.00</td>\n",
       "    </tr>\n",
       "    <tr>\n",
       "      <th>409</th>\n",
       "      <td>18</td>\n",
       "      <td>6</td>\n",
       "      <td>60</td>\n",
       "      <td>20</td>\n",
       "      <td>5</td>\n",
       "      <td>16</td>\n",
       "      <td>55</td>\n",
       "      <td>0</td>\n",
       "      <td>6018.53</td>\n",
       "    </tr>\n",
       "    <tr>\n",
       "      <th>451</th>\n",
       "      <td>28</td>\n",
       "      <td>6</td>\n",
       "      <td>304</td>\n",
       "      <td>0</td>\n",
       "      <td>0</td>\n",
       "      <td>4</td>\n",
       "      <td>60</td>\n",
       "      <td>0</td>\n",
       "      <td>6549.01</td>\n",
       "    </tr>\n",
       "    <tr>\n",
       "      <th>1089</th>\n",
       "      <td>12</td>\n",
       "      <td>0</td>\n",
       "      <td>5</td>\n",
       "      <td>0</td>\n",
       "      <td>0</td>\n",
       "      <td>0</td>\n",
       "      <td>27</td>\n",
       "      <td>0</td>\n",
       "      <td>5458.49</td>\n",
       "    </tr>\n",
       "    <tr>\n",
       "      <th>1346</th>\n",
       "      <td>25</td>\n",
       "      <td>5</td>\n",
       "      <td>261</td>\n",
       "      <td>15</td>\n",
       "      <td>1</td>\n",
       "      <td>10</td>\n",
       "      <td>120</td>\n",
       "      <td>0</td>\n",
       "      <td>5829.75</td>\n",
       "    </tr>\n",
       "    <tr>\n",
       "      <th>1462</th>\n",
       "      <td>38</td>\n",
       "      <td>7</td>\n",
       "      <td>34</td>\n",
       "      <td>20</td>\n",
       "      <td>0</td>\n",
       "      <td>7</td>\n",
       "      <td>107</td>\n",
       "      <td>0</td>\n",
       "      <td>5891.28</td>\n",
       "    </tr>\n",
       "    <tr>\n",
       "      <th>1556</th>\n",
       "      <td>18</td>\n",
       "      <td>21</td>\n",
       "      <td>136</td>\n",
       "      <td>68</td>\n",
       "      <td>24</td>\n",
       "      <td>37</td>\n",
       "      <td>0</td>\n",
       "      <td>2</td>\n",
       "      <td>3455.97</td>\n",
       "    </tr>\n",
       "  </tbody>\n",
       "</table>\n",
       "</div>"
      ],
      "text/plain": [
       "      accessories  board_games  concessions  modeling_supplies  \\\n",
       "100            26            6          106                204   \n",
       "409            18            6           60                 20   \n",
       "451            28            6          304                  0   \n",
       "1089           12            0            5                  0   \n",
       "1346           25            5          261                 15   \n",
       "1462           38            7           34                 20   \n",
       "1556           18           21          136                 68   \n",
       "\n",
       "      role_playing_games  minis_models  trading_card_games  game_room_rental  \\\n",
       "100                    3             0                  22                 0   \n",
       "409                    5            16                  55                 0   \n",
       "451                    0             4                  60                 0   \n",
       "1089                   0             0                  27                 0   \n",
       "1346                   1            10                 120                 0   \n",
       "1462                   0             7                 107                 0   \n",
       "1556                  24            37                   0                 2   \n",
       "\n",
       "      net_sales  \n",
       "100     3759.00  \n",
       "409     6018.53  \n",
       "451     6549.01  \n",
       "1089    5458.49  \n",
       "1346    5829.75  \n",
       "1462    5891.28  \n",
       "1556    3455.97  "
      ]
     },
     "execution_count": 10,
     "metadata": {},
     "output_type": "execute_result"
    }
   ],
   "source": [
    "df[df.net_sales  > 3000][cats]"
   ]
  },
  {
   "cell_type": "code",
   "execution_count": 35,
   "id": "plain-affairs",
   "metadata": {},
   "outputs": [
    {
     "data": {
      "text/html": [
       "<div>\n",
       "<style scoped>\n",
       "    .dataframe tbody tr th:only-of-type {\n",
       "        vertical-align: middle;\n",
       "    }\n",
       "\n",
       "    .dataframe tbody tr th {\n",
       "        vertical-align: top;\n",
       "    }\n",
       "\n",
       "    .dataframe thead th {\n",
       "        text-align: right;\n",
       "    }\n",
       "</style>\n",
       "<table border=\"1\" class=\"dataframe\">\n",
       "  <thead>\n",
       "    <tr style=\"text-align: right;\">\n",
       "      <th></th>\n",
       "      <th>net_sales</th>\n",
       "    </tr>\n",
       "  </thead>\n",
       "  <tbody>\n",
       "    <tr>\n",
       "      <th>count</th>\n",
       "      <td>1586.000000</td>\n",
       "    </tr>\n",
       "    <tr>\n",
       "      <th>mean</th>\n",
       "      <td>172.634332</td>\n",
       "    </tr>\n",
       "    <tr>\n",
       "      <th>std</th>\n",
       "      <td>442.719224</td>\n",
       "    </tr>\n",
       "    <tr>\n",
       "      <th>min</th>\n",
       "      <td>0.000000</td>\n",
       "    </tr>\n",
       "    <tr>\n",
       "      <th>25%</th>\n",
       "      <td>22.972500</td>\n",
       "    </tr>\n",
       "    <tr>\n",
       "      <th>50%</th>\n",
       "      <td>59.980000</td>\n",
       "    </tr>\n",
       "    <tr>\n",
       "      <th>75%</th>\n",
       "      <td>151.882500</td>\n",
       "    </tr>\n",
       "    <tr>\n",
       "      <th>max</th>\n",
       "      <td>6549.010000</td>\n",
       "    </tr>\n",
       "  </tbody>\n",
       "</table>\n",
       "</div>"
      ],
      "text/plain": [
       "         net_sales\n",
       "count  1586.000000\n",
       "mean    172.634332\n",
       "std     442.719224\n",
       "min       0.000000\n",
       "25%      22.972500\n",
       "50%      59.980000\n",
       "75%     151.882500\n",
       "max    6549.010000"
      ]
     },
     "execution_count": 35,
     "metadata": {},
     "output_type": "execute_result"
    }
   ],
   "source": [
    "df[['net_sales']].describe()"
   ]
  },
  {
   "cell_type": "code",
   "execution_count": 43,
   "id": "listed-movement",
   "metadata": {},
   "outputs": [],
   "source": [
    "cats = ['accessories', \n",
    "        'board_games', \n",
    "        'concessions', \n",
    "        'modeling_supplies',\n",
    "        'role_playing_games', \n",
    "        'minis_models', \n",
    "        'trading_card_games', \n",
    "        'game_room_rental',\n",
    "        'other',\n",
    "        'net_sales']"
   ]
  },
  {
   "cell_type": "code",
   "execution_count": 44,
   "id": "derived-rouge",
   "metadata": {},
   "outputs": [
    {
     "data": {
      "text/html": [
       "<div>\n",
       "<style scoped>\n",
       "    .dataframe tbody tr th:only-of-type {\n",
       "        vertical-align: middle;\n",
       "    }\n",
       "\n",
       "    .dataframe tbody tr th {\n",
       "        vertical-align: top;\n",
       "    }\n",
       "\n",
       "    .dataframe thead th {\n",
       "        text-align: right;\n",
       "    }\n",
       "</style>\n",
       "<table border=\"1\" class=\"dataframe\">\n",
       "  <thead>\n",
       "    <tr style=\"text-align: right;\">\n",
       "      <th></th>\n",
       "      <th>accessories</th>\n",
       "      <th>board_games</th>\n",
       "      <th>concessions</th>\n",
       "      <th>modeling_supplies</th>\n",
       "      <th>role_playing_games</th>\n",
       "      <th>minis_models</th>\n",
       "      <th>trading_card_games</th>\n",
       "      <th>game_room_rental</th>\n",
       "      <th>other</th>\n",
       "      <th>net_sales</th>\n",
       "    </tr>\n",
       "  </thead>\n",
       "  <tbody>\n",
       "    <tr>\n",
       "      <th>761</th>\n",
       "      <td>0</td>\n",
       "      <td>0</td>\n",
       "      <td>0</td>\n",
       "      <td>0</td>\n",
       "      <td>0</td>\n",
       "      <td>0</td>\n",
       "      <td>0</td>\n",
       "      <td>0</td>\n",
       "      <td>2</td>\n",
       "      <td>0.0</td>\n",
       "    </tr>\n",
       "    <tr>\n",
       "      <th>1404</th>\n",
       "      <td>0</td>\n",
       "      <td>0</td>\n",
       "      <td>0</td>\n",
       "      <td>0</td>\n",
       "      <td>0</td>\n",
       "      <td>0</td>\n",
       "      <td>0</td>\n",
       "      <td>0</td>\n",
       "      <td>2</td>\n",
       "      <td>0.0</td>\n",
       "    </tr>\n",
       "  </tbody>\n",
       "</table>\n",
       "</div>"
      ],
      "text/plain": [
       "      accessories  board_games  concessions  modeling_supplies  \\\n",
       "761             0            0            0                  0   \n",
       "1404            0            0            0                  0   \n",
       "\n",
       "      role_playing_games  minis_models  trading_card_games  game_room_rental  \\\n",
       "761                    0             0                   0                 0   \n",
       "1404                   0             0                   0                 0   \n",
       "\n",
       "      other  net_sales  \n",
       "761       2        0.0  \n",
       "1404      2        0.0  "
      ]
     },
     "execution_count": 44,
     "metadata": {},
     "output_type": "execute_result"
    }
   ],
   "source": [
    "df[df.net_sales == 0][cats]"
   ]
  },
  {
   "cell_type": "code",
   "execution_count": 11,
   "id": "trained-logic",
   "metadata": {},
   "outputs": [
    {
     "data": {
      "text/plain": [
       "<AxesSubplot:>"
      ]
     },
     "execution_count": 11,
     "metadata": {},
     "output_type": "execute_result"
    },
    {
     "data": {
      "image/png": "[encoded data removed]",
      "text/plain": [
       "<Figure size 432x288 with 1 Axes>"
      ]
     },
     "metadata": {
      "needs_background": "light"
     },
     "output_type": "display_data"
    }
   ],
   "source": [
    "df_bg.board_games.hist(bins = 20)"
   ]
  },
  {
   "cell_type": "code",
   "execution_count": 12,
   "id": "earned-cameroon",
   "metadata": {
    "scrolled": true
   },
   "outputs": [
    {
     "data": {
      "text/plain": [
       "172.63433165195448"
      ]
     },
     "execution_count": 12,
     "metadata": {},
     "output_type": "execute_result"
    }
   ],
   "source": [
    "df.net_sales.mean()"
   ]
  },
  {
   "cell_type": "code",
   "execution_count": 13,
   "id": "caring-cambridge",
   "metadata": {},
   "outputs": [
    {
     "data": {
      "text/plain": [
       "273798.05000000005"
      ]
     },
     "execution_count": 13,
     "metadata": {},
     "output_type": "execute_result"
    }
   ],
   "source": [
    "df.net_sales.sum()"
   ]
  },
  {
   "cell_type": "code",
   "execution_count": 14,
   "id": "prostate-diameter",
   "metadata": {},
   "outputs": [
    {
     "data": {
      "text/plain": [
       "318.7240112994353"
      ]
     },
     "execution_count": 14,
     "metadata": {},
     "output_type": "execute_result"
    }
   ],
   "source": [
    "df_con.net_sales.mean()"
   ]
  },
  {
   "cell_type": "code",
   "execution_count": 23,
   "id": "thirty-currency",
   "metadata": {},
   "outputs": [
    {
     "data": {
      "text/html": [
       "<div>\n",
       "<style scoped>\n",
       "    .dataframe tbody tr th:only-of-type {\n",
       "        vertical-align: middle;\n",
       "    }\n",
       "\n",
       "    .dataframe tbody tr th {\n",
       "        vertical-align: top;\n",
       "    }\n",
       "\n",
       "    .dataframe thead th {\n",
       "        text-align: right;\n",
       "    }\n",
       "</style>\n",
       "<table border=\"1\" class=\"dataframe\">\n",
       "  <thead>\n",
       "    <tr style=\"text-align: right;\">\n",
       "      <th></th>\n",
       "      <th>accessories_sales</th>\n",
       "      <th>board_games_sales</th>\n",
       "      <th>concessions_sales</th>\n",
       "      <th>modeling_supplies_sales</th>\n",
       "      <th>role_playing_games_sales</th>\n",
       "      <th>minis_models_sales</th>\n",
       "      <th>trading_card_games_sales</th>\n",
       "    </tr>\n",
       "  </thead>\n",
       "  <tbody>\n",
       "    <tr>\n",
       "      <th>Count</th>\n",
       "      <td>667</td>\n",
       "      <td>347</td>\n",
       "      <td>531</td>\n",
       "      <td>274</td>\n",
       "      <td>134</td>\n",
       "      <td>254</td>\n",
       "      <td>585</td>\n",
       "    </tr>\n",
       "    <tr>\n",
       "      <th>Mean</th>\n",
       "      <td>291</td>\n",
       "      <td>332</td>\n",
       "      <td>318</td>\n",
       "      <td>346</td>\n",
       "      <td>465</td>\n",
       "      <td>427</td>\n",
       "      <td>304</td>\n",
       "    </tr>\n",
       "    <tr>\n",
       "      <th>Standard Deviation</th>\n",
       "      <td>640</td>\n",
       "      <td>753</td>\n",
       "      <td>712</td>\n",
       "      <td>751</td>\n",
       "      <td>891</td>\n",
       "      <td>865</td>\n",
       "      <td>665</td>\n",
       "    </tr>\n",
       "  </tbody>\n",
       "</table>\n",
       "</div>"
      ],
      "text/plain": [
       "                    accessories_sales  board_games_sales  concessions_sales  \\\n",
       "Count                             667                347                531   \n",
       "Mean                              291                332                318   \n",
       "Standard Deviation                640                753                712   \n",
       "\n",
       "                    modeling_supplies_sales  role_playing_games_sales  \\\n",
       "Count                                   274                       134   \n",
       "Mean                                    346                       465   \n",
       "Standard Deviation                      751                       891   \n",
       "\n",
       "                    minis_models_sales  trading_card_games_sales  \n",
       "Count                              254                       585  \n",
       "Mean                               427                       304  \n",
       "Standard Deviation                 865                       665  "
      ]
     },
     "execution_count": 23,
     "metadata": {},
     "output_type": "execute_result"
    }
   ],
   "source": []
  },
  {
   "cell_type": "code",
   "execution_count": null,
   "id": "meaning-swift",
   "metadata": {},
   "outputs": [],
   "source": [
    "for cat in cats:\n",
    "    \n",
    "    \n",
    "    \n",
    "    if cat == cats[0]:\n",
    "        \n",
    "        df_sales = df[df[bought_cat] == True]\n",
    "    \n",
    "        df_sales = (df_sales[['net_sales']].describe()[:3]\n",
    "                                       .rename(columns = {'net_sales': f'{cat}_sales'}))\n",
    "        \n",
    "    else:\n",
    "        \n",
    "        df_cat = df[df[bought_cat] == True]\n",
    "    \n",
    "        df_cat = (df_cat[['net_sales']].describe()[:3]\n",
    "                                   .rename(columns = {'net_sales': f'{cat}_sales'}))\n",
    "    \n",
    "        pd.concat([df_sales, df_cat])\n",
    "    \n",
    "df_sales"
   ]
  },
  {
   "cell_type": "code",
   "execution_count": null,
   "id": "complimentary-edmonton",
   "metadata": {},
   "outputs": [],
   "source": [
    "df_sales.describe()"
   ]
  },
  {
   "cell_type": "code",
   "execution_count": null,
   "id": "sudden-westminster",
   "metadata": {},
   "outputs": [],
   "source": [
    "rp = df_rpg[['net_sales']].describe()[:3].rename(columns = {'net_sales': 'rpg_sales'})"
   ]
  },
  {
   "cell_type": "code",
   "execution_count": null,
   "id": "hourly-albany",
   "metadata": {},
   "outputs": [],
   "source": [
    "acc = df_acc[['net_sales']].describe()[:3].rename(columns = {'net_sales': 'acc_sales'})"
   ]
  },
  {
   "cell_type": "raw",
   "id": "outdoor-google",
   "metadata": {},
   "source": [
    "rp"
   ]
  },
  {
   "cell_type": "code",
   "execution_count": null,
   "id": "chinese-symphony",
   "metadata": {},
   "outputs": [],
   "source": [
    "df_rpg[['net_sales']].describe()[:3].rename(columns = {'net_sales': 'rpg_sales'})"
   ]
  },
  {
   "cell_type": "code",
   "execution_count": null,
   "id": "touched-uruguay",
   "metadata": {},
   "outputs": [],
   "source": [
    "df_rpg.net_sales.mean()"
   ]
  },
  {
   "cell_type": "code",
   "execution_count": null,
   "id": "casual-belly",
   "metadata": {},
   "outputs": [],
   "source": [
    "df_tcg.net_sales.mean()"
   ]
  },
  {
   "cell_type": "code",
   "execution_count": null,
   "id": "systematic-middle",
   "metadata": {},
   "outputs": [],
   "source": [
    "df_min.net_sales.mean()"
   ]
  },
  {
   "cell_type": "code",
   "execution_count": null,
   "id": "dimensional-steal",
   "metadata": {},
   "outputs": [],
   "source": [
    "df_sup[cats].net_sales.mean()"
   ]
  },
  {
   "cell_type": "code",
   "execution_count": null,
   "id": "ongoing-ready",
   "metadata": {},
   "outputs": [],
   "source": [
    "df_rpg.net_sales.mean()"
   ]
  },
  {
   "cell_type": "code",
   "execution_count": null,
   "id": "expected-sitting",
   "metadata": {},
   "outputs": [],
   "source": [
    "df_tcg.net_sales.hist(bins = 25)"
   ]
  },
  {
   "cell_type": "code",
   "execution_count": null,
   "id": "federal-entertainment",
   "metadata": {},
   "outputs": [],
   "source": [
    "df_min.net_sales.hist(bins = 25)"
   ]
  },
  {
   "cell_type": "code",
   "execution_count": null,
   "id": "exotic-chapter",
   "metadata": {},
   "outputs": [],
   "source": [
    "df_bg.net_sales.hist(bins = 25)"
   ]
  },
  {
   "cell_type": "code",
   "execution_count": null,
   "id": "metric-shelter",
   "metadata": {},
   "outputs": [],
   "source": []
  },
  {
   "cell_type": "code",
   "execution_count": null,
   "id": "specified-municipality",
   "metadata": {},
   "outputs": [],
   "source": []
  },
  {
   "cell_type": "code",
   "execution_count": null,
   "id": "industrial-annotation",
   "metadata": {},
   "outputs": [],
   "source": []
  },
  {
   "cell_type": "code",
   "execution_count": null,
   "id": "scheduled-waste",
   "metadata": {},
   "outputs": [],
   "source": []
  },
  {
   "cell_type": "code",
   "execution_count": null,
   "id": "bigger-classification",
   "metadata": {},
   "outputs": [],
   "source": [
    "df_bg = df[['accessories', \n",
    "                  'board_games', \n",
    "                  'concessions', \n",
    "                  'modeling_supplies',\n",
    "                  'role_playing_games', \n",
    "                  'minis_models', \n",
    "                  'trading_card_games', \n",
    "                  'other',\n",
    "                  'game_room_rental', \n",
    "                  'all_items',\n",
    "                  'net_sales',\n",
    "                  'tenure']][df.board_games > 0]\n",
    "\n",
    "\n",
    "\n",
    "df_bg.describe()"
   ]
  },
  {
   "cell_type": "code",
   "execution_count": null,
   "id": "colonial-protest",
   "metadata": {},
   "outputs": [],
   "source": [
    "kmeans = KMeans(n_clusters=3)\n",
    "kmeans.fit(X)\n",
    "\n",
    "df_bg['cluster'] = kmeans.predict(X)\n",
    "\n",
    "df_bg.sample(10)"
   ]
  },
  {
   "cell_type": "code",
   "execution_count": null,
   "id": "damaged-adobe",
   "metadata": {},
   "outputs": [],
   "source": [
    "df_bg.cluster.value_counts()"
   ]
  },
  {
   "cell_type": "code",
   "execution_count": null,
   "id": "colonial-replication",
   "metadata": {},
   "outputs": [],
   "source": [
    "# Board Game Clusters"
   ]
  },
  {
   "cell_type": "code",
   "execution_count": null,
   "id": "approximate-title",
   "metadata": {},
   "outputs": [],
   "source": [
    "df_bg[df_bg.cluster == 0].describe()[1:3]"
   ]
  },
  {
   "cell_type": "code",
   "execution_count": null,
   "id": "ancient-norway",
   "metadata": {},
   "outputs": [],
   "source": [
    "df_bg[df_bg.cluster == 2].describe()[1:3]"
   ]
  },
  {
   "cell_type": "code",
   "execution_count": null,
   "id": "other-clothing",
   "metadata": {
    "scrolled": true
   },
   "outputs": [],
   "source": [
    "df_bg[df_bg.cluster == 1].describe()[1:3]"
   ]
  },
  {
   "cell_type": "markdown",
   "id": "covered-defensive",
   "metadata": {},
   "source": [
    "# TCG Clusters"
   ]
  },
  {
   "cell_type": "code",
   "execution_count": null,
   "id": "refined-massachusetts",
   "metadata": {},
   "outputs": [],
   "source": [
    "kmeans = KMeans(n_clusters=6)\n",
    "kmeans.fit(X)\n",
    "\n",
    "df_tcg['cluster'] = kmeans.predict(X)\n",
    "\n",
    "df_tcg.sample(10)"
   ]
  },
  {
   "cell_type": "code",
   "execution_count": null,
   "id": "wrapped-correspondence",
   "metadata": {},
   "outputs": [],
   "source": [
    "df_tcg.cluster.value_counts()"
   ]
  },
  {
   "cell_type": "code",
   "execution_count": null,
   "id": "binary-playlist",
   "metadata": {},
   "outputs": [],
   "source": [
    "df_tcg.describe()[1:3]"
   ]
  },
  {
   "cell_type": "code",
   "execution_count": null,
   "id": "finite-conservation",
   "metadata": {},
   "outputs": [],
   "source": [
    "df_tcg[df_tcg.cluster == 0].describe()[1:3]"
   ]
  },
  {
   "cell_type": "code",
   "execution_count": null,
   "id": "excessive-curtis",
   "metadata": {},
   "outputs": [],
   "source": [
    "df_tcg[df_tcg.cluster == 2].describe()[1:3]"
   ]
  },
  {
   "cell_type": "code",
   "execution_count": null,
   "id": "trained-broadcasting",
   "metadata": {},
   "outputs": [],
   "source": [
    "df_tcg[df_tcg.cluster == 1].describe()[1:3]"
   ]
  },
  {
   "cell_type": "code",
   "execution_count": null,
   "id": "fifty-payment",
   "metadata": {},
   "outputs": [],
   "source": []
  },
  {
   "cell_type": "code",
   "execution_count": null,
   "id": "dominant-visitor",
   "metadata": {},
   "outputs": [],
   "source": []
  },
  {
   "cell_type": "code",
   "execution_count": null,
   "id": "bronze-astrology",
   "metadata": {},
   "outputs": [],
   "source": []
  },
  {
   "cell_type": "code",
   "execution_count": null,
   "id": "apart-little",
   "metadata": {},
   "outputs": [],
   "source": []
  },
  {
   "cell_type": "code",
   "execution_count": null,
   "id": "vocational-teacher",
   "metadata": {},
   "outputs": [],
   "source": [
    "kmeans = KMeans(n_clusters=3)\n",
    "kmeans.fit(X)\n",
    "\n",
    "df_bg['cluster'] = kmeans.predict(X)\n",
    "\n",
    "df_tcg.sample(10)"
   ]
  },
  {
   "cell_type": "code",
   "execution_count": null,
   "id": "hollywood-france",
   "metadata": {},
   "outputs": [],
   "source": []
  },
  {
   "cell_type": "code",
   "execution_count": null,
   "id": "renewable-pontiac",
   "metadata": {},
   "outputs": [],
   "source": []
  },
  {
   "cell_type": "code",
   "execution_count": null,
   "id": "elder-cheat",
   "metadata": {},
   "outputs": [],
   "source": []
  },
  {
   "cell_type": "code",
   "execution_count": null,
   "id": "false-future",
   "metadata": {},
   "outputs": [],
   "source": []
  },
  {
   "cell_type": "code",
   "execution_count": null,
   "id": "widespread-physics",
   "metadata": {},
   "outputs": [],
   "source": [
    "X = df_tcg[['net_sales']]\n",
    "\n",
    "with plt.style.context('seaborn-whitegrid'):\n",
    "    \n",
    "    plt.figure(figsize=(9, 6))\n",
    "    pd.Series({k: KMeans(k).fit(X).inertia_ for k in range(2, 12)}).plot(marker='x')\n",
    "    plt.xticks(range(2, 12))\n",
    "    plt.xlabel('k')\n",
    "    plt.ylabel('inertia')\n",
    "    plt.title('Change in inertia as k increases')"
   ]
  },
  {
   "cell_type": "code",
   "execution_count": null,
   "id": "interstate-government",
   "metadata": {},
   "outputs": [],
   "source": [
    "\n",
    "\n",
    "cols = ['net_sales']\n",
    "\n",
    "X = df_bg[cols]\n",
    "\n",
    "model = DBSCAN().fit(X)\n",
    "\n",
    "df_bg['cluster'] = model.labels_\n",
    "\n",
    "df_bg.cluster.value_counts()"
   ]
  },
  {
   "cell_type": "code",
   "execution_count": null,
   "id": "short-vanilla",
   "metadata": {},
   "outputs": [],
   "source": []
  },
  {
   "cell_type": "code",
   "execution_count": null,
   "id": "green-contact",
   "metadata": {},
   "outputs": [],
   "source": [
    "df_bg"
   ]
  },
  {
   "cell_type": "code",
   "execution_count": null,
   "id": "variable-valentine",
   "metadata": {},
   "outputs": [],
   "source": [
    "df_bg[df_bg.cluster == 0]"
   ]
  },
  {
   "cell_type": "code",
   "execution_count": null,
   "id": "forbidden-blame",
   "metadata": {},
   "outputs": [],
   "source": [
    "df_bg[df_bg.cluster == 1]"
   ]
  },
  {
   "cell_type": "code",
   "execution_count": null,
   "id": "seven-nursery",
   "metadata": {},
   "outputs": [],
   "source": [
    "df_bg[df_bg.cluster == 2]"
   ]
  },
  {
   "cell_type": "code",
   "execution_count": null,
   "id": "chicken-terminology",
   "metadata": {},
   "outputs": [],
   "source": [
    "df_bg[df_bg.cluster == 3]"
   ]
  },
  {
   "cell_type": "code",
   "execution_count": null,
   "id": "accepting-sheriff",
   "metadata": {},
   "outputs": [],
   "source": [
    "df_cats = df[['accessories', \n",
    "                  'board_games', \n",
    "                  'concessions', \n",
    "                  'modeling_supplies',\n",
    "                  'role_playing_games', \n",
    "                  'minis_models', \n",
    "                  'trading_card_games', \n",
    "                  'other',\n",
    "                  'game_room_rental', \n",
    "                  'all_items',\n",
    "                  'net_sales']]"
   ]
  },
  {
   "cell_type": "code",
   "execution_count": null,
   "id": "hydraulic-luxembourg",
   "metadata": {},
   "outputs": [],
   "source": [
    "df_cats"
   ]
  },
  {
   "cell_type": "code",
   "execution_count": null,
   "id": "thirty-option",
   "metadata": {
    "scrolled": false
   },
   "outputs": [],
   "source": [
    "cols = ['accessories', \n",
    "        'board_games', \n",
    "        'concessions', \n",
    "        'modeling_supplies',\n",
    "        'role_playing_games', \n",
    "        'minis_models', \n",
    "        'trading_card_games', \n",
    "        'other',\n",
    "        'game_room_rental', \n",
    "        'all_items',\n",
    "        'net_sales']\n",
    "\n",
    "for col in cols:\n",
    "    \n",
    "    df[cols].hist(col, bins = 50)\n",
    "    plt.show()\n",
    "    \n",
    "    "
   ]
  },
  {
   "cell_type": "code",
   "execution_count": null,
   "id": "laden-cigarette",
   "metadata": {},
   "outputs": [],
   "source": [
    "df.hist('accessories', bins = 50)"
   ]
  },
  {
   "cell_type": "code",
   "execution_count": null,
   "id": "major-sudan",
   "metadata": {},
   "outputs": [],
   "source": []
  },
  {
   "cell_type": "code",
   "execution_count": null,
   "id": "daily-laser",
   "metadata": {},
   "outputs": [],
   "source": []
  },
  {
   "cell_type": "code",
   "execution_count": null,
   "id": "confident-sender",
   "metadata": {},
   "outputs": [],
   "source": [
    "df[raw_num].describe()"
   ]
  },
  {
   "cell_type": "code",
   "execution_count": null,
   "id": "applicable-medium",
   "metadata": {},
   "outputs": [],
   "source": [
    "for col in raw_num:\n",
    "    \n",
    "    print()\n",
    "    print(col.upper())\n",
    "    print()\n",
    "    print (f'{round(len(df[df[col] > 0]) / len(df)*100)}% buyers')\n",
    "    print (f'{round(len(df[df[col] == 0]) / len(df)*100)}% NON-buyers')\n",
    "    "
   ]
  },
  {
   "cell_type": "code",
   "execution_count": null,
   "id": "acknowledged-sister",
   "metadata": {},
   "outputs": [],
   "source": [
    "df[raw_num]"
   ]
  },
  {
   "cell_type": "code",
   "execution_count": null,
   "id": "earned-johnson",
   "metadata": {},
   "outputs": [],
   "source": [
    "df[raw_num][df.trading_card_games > 0].describe()"
   ]
  },
  {
   "cell_type": "code",
   "execution_count": null,
   "id": "catholic-grill",
   "metadata": {},
   "outputs": [],
   "source": [
    "df[raw_num][df.accessories > 0].describe()"
   ]
  },
  {
   "cell_type": "code",
   "execution_count": null,
   "id": "nasty-original",
   "metadata": {},
   "outputs": [],
   "source": [
    "df[raw_num][df.concessions > 0].describe()"
   ]
  },
  {
   "cell_type": "code",
   "execution_count": null,
   "id": "downtown-fiction",
   "metadata": {},
   "outputs": [],
   "source": [
    "df[raw_num][df.modeling_supplies > 0].describe()"
   ]
  },
  {
   "cell_type": "code",
   "execution_count": null,
   "id": "micro-release",
   "metadata": {},
   "outputs": [],
   "source": [
    "sns.heatmap(df)"
   ]
  },
  {
   "cell_type": "code",
   "execution_count": null,
   "id": "posted-third",
   "metadata": {
    "scrolled": false
   },
   "outputs": [],
   "source": [
    "cols = ['accessories', \n",
    "        'board_games', \n",
    "        'concessions',\n",
    "        'modeling_supplies', \n",
    "        'role_playing_games', \n",
    "        'minis_models',\n",
    "        'trading_card_games',\n",
    "        'game_room']\n",
    "\n",
    "for col in cols:\n",
    "    \n",
    "    \n",
    "    print(col, 'Hist')\n",
    "    \n",
    "    plt.hist(df[raw_num][df[col] > 0])\n",
    "    \n",
    "    plt.show()"
   ]
  },
  {
   "cell_type": "code",
   "execution_count": null,
   "id": "after-bleeding",
   "metadata": {},
   "outputs": [],
   "source": [
    "\n",
    "\n"
   ]
  },
  {
   "cell_type": "code",
   "execution_count": null,
   "id": "convenient-round",
   "metadata": {},
   "outputs": [],
   "source": []
  }
 ],
 "metadata": {
  "kernelspec": {
   "display_name": "Python 3",
   "language": "python",
   "name": "python3"
  },
  "language_info": {
   "codemirror_mode": {
    "name": "ipython",
    "version": 3
   },
   "file_extension": ".py",
   "mimetype": "text/x-python",
   "name": "python",
   "nbconvert_exporter": "python",
   "pygments_lexer": "ipython3",
   "version": "3.7.4"
  }
 },
 "nbformat": 4,
 "nbformat_minor": 5
}
