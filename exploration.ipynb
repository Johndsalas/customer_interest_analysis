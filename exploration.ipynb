{
 "cells": [
  {
   "cell_type": "markdown",
   "id": "approximate-insulation",
   "metadata": {},
   "source": [
    "# Goal: Create customer profiles using clustering methods and customer purchase history"
   ]
  },
  {
   "cell_type": "code",
   "execution_count": 1,
   "id": "joint-remains",
   "metadata": {},
   "outputs": [],
   "source": [
    "# imports\n",
    "\n",
    "import pandas as pd\n",
    "import numpy as np\n",
    "import matplotlib.pyplot as plt\n",
    "import seaborn as sns\n",
    "from itertools import combinations\n",
    "from scipy.stats import spearmanr\n",
    "from scipy.stats import chi2_contingency\n",
    "\n",
    "import wrangle_profiles as wp\n",
    "import explore_profiles as ep\n"
   ]
  },
  {
   "cell_type": "markdown",
   "id": "distinguished-reggae",
   "metadata": {},
   "source": [
    "##  Wrangle"
   ]
  },
  {
   "cell_type": "markdown",
   "id": "large-hearts",
   "metadata": {},
   "source": [
    "The original data contained transaction information for LGS customers from 2001-2004. Items purchased in ‘purchase’ transactions were sorted into one of nine categories. <br>\n",
    "<br>\n",
    "Central categories representing major gaming interests include:\n",
    "* Board Games \n",
    "* Role Playing Games\n",
    "* Trading Card Games\n",
    "* Tabletop Minis Games\n",
    "* Modeling Supplies\n",
    "<a/>\n",
    "\n",
    "Support Categories represent categories that support or are adjacent to major interests include:\n",
    "* Accessories\n",
    "* Concessions\n",
    "* Game Room Rentals\n",
    "<a/>\n",
    "\n",
    "Items that could not be classified were categorized as \n",
    "* Other\n",
    "<a/>"
   ]
  },
  {
   "cell_type": "code",
   "execution_count": 2,
   "id": "worst-notebook",
   "metadata": {},
   "outputs": [],
   "source": [
    "df = wp.get_prepared_profiles_data()"
   ]
  },
  {
   "cell_type": "markdown",
   "id": "pregnant-woman",
   "metadata": {},
   "source": [
    "## Explore "
   ]
  },
  {
   "cell_type": "markdown",
   "id": "three-merchant",
   "metadata": {},
   "source": [
    "### What does an average customer's spending habits look like?"
   ]
  },
  {
   "cell_type": "markdown",
   "id": "remarkable-feature",
   "metadata": {},
   "source": [
    "Given the mean and relatively large standard deviation across all categories, penning down the habbits of an 'average' would be unhelpful due to the large variance. Moving forward it will be my goal to identify population clusters were the variance is less severe."
   ]
  },
  {
   "cell_type": "code",
   "execution_count": 3,
   "id": "comfortable-malpractice",
   "metadata": {},
   "outputs": [
    {
     "data": {
      "text/html": [
       "<div>\n",
       "<style scoped>\n",
       "    .dataframe tbody tr th:only-of-type {\n",
       "        vertical-align: middle;\n",
       "    }\n",
       "\n",
       "    .dataframe tbody tr th {\n",
       "        vertical-align: top;\n",
       "    }\n",
       "\n",
       "    .dataframe thead th {\n",
       "        text-align: right;\n",
       "    }\n",
       "</style>\n",
       "<table border=\"1\" class=\"dataframe\">\n",
       "  <thead>\n",
       "    <tr style=\"text-align: right;\">\n",
       "      <th></th>\n",
       "      <th>accessories</th>\n",
       "      <th>board_games</th>\n",
       "      <th>concessions</th>\n",
       "      <th>modeling_supplies</th>\n",
       "      <th>role_playing_games</th>\n",
       "      <th>minis_models</th>\n",
       "      <th>trading_card_games</th>\n",
       "      <th>game_room_rental</th>\n",
       "      <th>net_sales</th>\n",
       "    </tr>\n",
       "  </thead>\n",
       "  <tbody>\n",
       "    <tr>\n",
       "      <th>mean</th>\n",
       "      <td>1.715006</td>\n",
       "      <td>0.474149</td>\n",
       "      <td>4.362547</td>\n",
       "      <td>1.569987</td>\n",
       "      <td>0.165826</td>\n",
       "      <td>0.541614</td>\n",
       "      <td>2.228247</td>\n",
       "      <td>0.059899</td>\n",
       "      <td>172.634332</td>\n",
       "    </tr>\n",
       "    <tr>\n",
       "      <th>std</th>\n",
       "      <td>4.503849</td>\n",
       "      <td>1.391602</td>\n",
       "      <td>18.823379</td>\n",
       "      <td>8.263589</td>\n",
       "      <td>0.877833</td>\n",
       "      <td>2.303441</td>\n",
       "      <td>7.990032</td>\n",
       "      <td>0.564630</td>\n",
       "      <td>442.719224</td>\n",
       "    </tr>\n",
       "  </tbody>\n",
       "</table>\n",
       "</div>"
      ],
      "text/plain": [
       "      accessories  board_games  concessions  modeling_supplies  \\\n",
       "mean     1.715006     0.474149     4.362547           1.569987   \n",
       "std      4.503849     1.391602    18.823379           8.263589   \n",
       "\n",
       "      role_playing_games  minis_models  trading_card_games  game_room_rental  \\\n",
       "mean            0.165826      0.541614            2.228247          0.059899   \n",
       "std             0.877833      2.303441            7.990032          0.564630   \n",
       "\n",
       "       net_sales  \n",
       "mean  172.634332  \n",
       "std   442.719224  "
      ]
     },
     "execution_count": 3,
     "metadata": {},
     "output_type": "execute_result"
    }
   ],
   "source": [
    "ep.get_desc(df)"
   ]
  },
  {
   "cell_type": "markdown",
   "id": "signed-enemy",
   "metadata": {},
   "source": [
    "### How many customers does each category appeal to? "
   ]
  },
  {
   "cell_type": "code",
   "execution_count": 4,
   "id": "criminal-newton",
   "metadata": {},
   "outputs": [
    {
     "data": {
      "image/png": "[encoded data removed]",
      "text/plain": [
       "<Figure size 720x432 with 1 Axes>"
      ]
     },
     "metadata": {
      "needs_background": "light"
     },
     "output_type": "display_data"
    }
   ],
   "source": [
    "ep.cat_appeal(df)"
   ]
  },
  {
   "cell_type": "markdown",
   "id": "emotional-reunion",
   "metadata": {},
   "source": [
    "Each category only appeals to a select amount of customers:\n",
    "    \n",
    "Major Categories\n",
    "* Trading Card Games 37%\n",
    "* Role Playing Games 33%\n",
    "* Board Games 22%\n",
    "* Minis Models 16%\n",
    "* Modeling Supplies 8%\n",
    "\n",
    "Support Categories\n",
    "* Accessories 42%\n",
    "* Concessions 17%\n",
    "* Game Room Rental 2%\n",
    "\n",
    "Major categories appeal to roughly 1/3 of customers or less, likely due to specialized interests of customers <br>\n",
    "Accesories is the highest apeal category likely do to supporting multiple interests tied to major categories"
   ]
  },
  {
   "cell_type": "markdown",
   "id": "wooden-tower",
   "metadata": {},
   "source": [
    "### Is there a relationship between customers who buy products in one category and customers who buy products in a differint category?"
   ]
  },
  {
   "cell_type": "markdown",
   "id": "declared-valuable",
   "metadata": {},
   "source": [
    "Based on a chi-square test, using an alpha of .05, and the odds ratio of buyers to non-buyers in each category the following relationships exist between these categories:\n",
    "\n",
    "Customers who bought Board Games\n",
    "* 78% More likely to buy role playing games\n",
    "* 61% Less likely to buy trading card games \n",
    "\n",
    "Customers who bought Role Playing Games\n",
    "* 4.23 Times as likely to buy minis models\n",
    "* 2.59 Times as likely to buy accessories\n",
    "* 2.21 Times as likely to buy modeling supplies\n",
    "* 78% More likely to buy board games\n",
    "* 80% More likely to buy concessions\n",
    "* 40% decreased odds of buying trading card games\n",
    "\n",
    "Customers who bought Minis Models\n",
    "* 8.45 Times as likely to buy modeling supplies\n",
    "* 4.23 Times as likely to buy Role Playing Games\n",
    "* 75% More likely to to buy concessions\n",
    "* 50% Less likely to buy trading card games\n",
    "\n",
    "Customers who bought Trading Card Games\n",
    "* 88% More likely to buy accessories\n",
    "* 47% More likely to buy concessions\n",
    "* 61% Less likely to buy board games\n",
    "* 61% Less likely to buy modeling supplies\n",
    "* 50% Less likely to buy minis models \n",
    "* 40% Less likely to buy role playing games\n",
    "\n",
    "Customers who bought Modeling Supplies\n",
    "* 8.45 Times as likely to buy minis models\n",
    "* 2.21 Times as likely to buy role playing games\n",
    "* 88% increased odds of buying accessories\n",
    "* 65% More likely to buy concessions\n",
    "* 61% less likely to buy Trading Card Games \n",
    "\n",
    "#### Summary of Major Categories\n",
    "\n",
    "Board Gamers\n",
    "* Diversified Interests, not many strong relationships to other categories\n",
    "* More likely to buy role playing games\n",
    "* Less likely buy trading card games\n",
    "\n",
    "Trading Card Gamers\n",
    "* On their own island, less likely to engage in other major categories\n",
    "* More likely to buy accessories and concessions\n",
    "\n",
    "Role Playing Gamers\n",
    "* Likely a major driver of sales in other categories\n",
    "* Nearly 3 times as likely to buy accessories\n",
    "* Over 4 times as likely to buy minis models \n",
    "* 2 times as likely to buy modeling supplies\n",
    "* More likely to buy board games and concessions\n",
    "* Less likely to buy trading card games\n",
    "\n",
    "Minis Models\n",
    "* Comprised of “war gaming” models and models that support role playing games\n",
    "* Likely a driver of modeling supplies and partially driven by role playing games\n",
    "* Over 8 times as likely to buy modeling supplies\n",
    "* More likely to buy concessions\n",
    "* Less likely to buy trading card games\n",
    "\n",
    "Modeling supplies\n",
    "* Likely driven by minis models\n",
    "* Over 8 times as likely to buy minis models\n"
   ]
  },
  {
   "cell_type": "markdown",
   "id": "chubby-hands",
   "metadata": {},
   "source": [
    " #### Category Relationship Tests"
   ]
  },
  {
   "cell_type": "code",
   "execution_count": 5,
   "id": "peripheral-planning",
   "metadata": {},
   "outputs": [
    {
     "name": "stdout",
     "output_type": "stream",
     "text": [
      "bought_accessories and bought_concessions\n",
      "--------------------------------------------------------\n",
      "Chi-Square P-Value: 0.00022898142106283562\n",
      "Odds Ratio: 1.49\n",
      "\n",
      "bought_accessories and bought_role_playing_games\n",
      "--------------------------------------------------------\n",
      "Chi-Square P-Value: 2.637590995781412e-07\n",
      "Odds Ratio: 2.59\n",
      "\n",
      "bought_accessories and bought_trading_card_games\n",
      "--------------------------------------------------------\n",
      "Chi-Square P-Value: 2.6189298764791124e-09\n",
      "Odds Ratio: 1.88\n",
      "\n",
      "bought_board_games and bought_role_playing_games\n",
      "--------------------------------------------------------\n",
      "Chi-Square P-Value: 0.003992273243111018\n",
      "Odds Ratio: 1.78\n",
      "\n",
      "bought_board_games and bought_trading_card_games\n",
      "--------------------------------------------------------\n",
      "Chi-Square P-Value: 3.903131004282979e-11\n",
      "Odds Ratio: 0.39\n",
      "\n",
      "bought_concessions and bought_modeling_supplies\n",
      "--------------------------------------------------------\n",
      "Chi-Square P-Value: 0.0002876863942808126\n",
      "Odds Ratio: 1.65\n",
      "\n",
      "bought_concessions and bought_role_playing_games\n",
      "--------------------------------------------------------\n",
      "Chi-Square P-Value: 0.0014589471921045644\n",
      "Odds Ratio: 1.8\n",
      "\n",
      "bought_concessions and bought_minis_models\n",
      "--------------------------------------------------------\n",
      "Chi-Square P-Value: 6.77964642111708e-05\n",
      "Odds Ratio: 1.75\n",
      "\n",
      "bought_concessions and bought_trading_card_games\n",
      "--------------------------------------------------------\n",
      "Chi-Square P-Value: 0.00048464442158513405\n",
      "Odds Ratio: 1.47\n",
      "\n",
      "bought_modeling_supplies and bought_role_playing_games\n",
      "--------------------------------------------------------\n",
      "Chi-Square P-Value: 9.432383416725453e-05\n",
      "Odds Ratio: 2.21\n",
      "\n",
      "bought_modeling_supplies and bought_minis_models\n",
      "--------------------------------------------------------\n",
      "Chi-Square P-Value: 5.181101272766629e-53\n",
      "Odds Ratio: 8.45\n",
      "\n",
      "bought_modeling_supplies and bought_trading_card_games\n",
      "--------------------------------------------------------\n",
      "Chi-Square P-Value: 2.005353953456003e-09\n",
      "Odds Ratio: 0.39\n",
      "\n",
      "bought_role_playing_games and bought_minis_models\n",
      "--------------------------------------------------------\n",
      "Chi-Square P-Value: 3.083238770422678e-15\n",
      "Odds Ratio: 4.23\n",
      "\n",
      "bought_role_playing_games and bought_trading_card_games\n",
      "--------------------------------------------------------\n",
      "Chi-Square P-Value: 0.01557275335181492\n",
      "Odds Ratio: 0.6\n",
      "\n",
      "bought_minis_models and bought_trading_card_games\n",
      "--------------------------------------------------------\n",
      "Chi-Square P-Value: 9.61132947434622e-06\n",
      "Odds Ratio: 0.5\n",
      "\n"
     ]
    }
   ],
   "source": [
    "ep.get_rel(df)"
   ]
  },
  {
   "cell_type": "markdown",
   "id": "charitable-texas",
   "metadata": {},
   "source": [
    "### Is there a relationship between major groups and customer spending?"
   ]
  },
  {
   "cell_type": "markdown",
   "id": "mathematical-fundamental",
   "metadata": {},
   "source": [
    "\n",
    "Buyer groups are showing a large amount af variation within each group. <br>\n",
    "Overall net sales contains a large number of extream outlier. <br>\n",
    "These outliers could account for the large amount of variance in the data."
   ]
  },
  {
   "cell_type": "code",
   "execution_count": 6,
   "id": "relative-democrat",
   "metadata": {},
   "outputs": [
    {
     "data": {
      "text/html": [
       "<div>\n",
       "<style scoped>\n",
       "    .dataframe tbody tr th:only-of-type {\n",
       "        vertical-align: middle;\n",
       "    }\n",
       "\n",
       "    .dataframe tbody tr th {\n",
       "        vertical-align: top;\n",
       "    }\n",
       "\n",
       "    .dataframe thead th {\n",
       "        text-align: right;\n",
       "    }\n",
       "</style>\n",
       "<table border=\"1\" class=\"dataframe\">\n",
       "  <thead>\n",
       "    <tr style=\"text-align: right;\">\n",
       "      <th></th>\n",
       "      <th>total</th>\n",
       "      <th>accessories</th>\n",
       "      <th>board_games</th>\n",
       "      <th>concessions</th>\n",
       "      <th>modeling_supplies</th>\n",
       "      <th>role_playing_games</th>\n",
       "      <th>minis_models</th>\n",
       "      <th>trading_card_games</th>\n",
       "    </tr>\n",
       "  </thead>\n",
       "  <tbody>\n",
       "    <tr>\n",
       "      <th>Customers</th>\n",
       "      <td>1586</td>\n",
       "      <td>667</td>\n",
       "      <td>347</td>\n",
       "      <td>531</td>\n",
       "      <td>274</td>\n",
       "      <td>134</td>\n",
       "      <td>254</td>\n",
       "      <td>585</td>\n",
       "    </tr>\n",
       "    <tr>\n",
       "      <th>Mean Sales</th>\n",
       "      <td>172</td>\n",
       "      <td>291</td>\n",
       "      <td>332</td>\n",
       "      <td>318</td>\n",
       "      <td>346</td>\n",
       "      <td>465</td>\n",
       "      <td>427</td>\n",
       "      <td>304</td>\n",
       "    </tr>\n",
       "    <tr>\n",
       "      <th>Standard Deviation Sales</th>\n",
       "      <td>442</td>\n",
       "      <td>640</td>\n",
       "      <td>753</td>\n",
       "      <td>712</td>\n",
       "      <td>751</td>\n",
       "      <td>891</td>\n",
       "      <td>865</td>\n",
       "      <td>665</td>\n",
       "    </tr>\n",
       "  </tbody>\n",
       "</table>\n",
       "</div>"
      ],
      "text/plain": [
       "                          total  accessories  board_games  concessions  \\\n",
       "Customers                  1586          667          347          531   \n",
       "Mean Sales                  172          291          332          318   \n",
       "Standard Deviation Sales    442          640          753          712   \n",
       "\n",
       "                          modeling_supplies  role_playing_games  minis_models  \\\n",
       "Customers                               274                 134           254   \n",
       "Mean Sales                              346                 465           427   \n",
       "Standard Deviation Sales                751                 891           865   \n",
       "\n",
       "                          trading_card_games  \n",
       "Customers                                585  \n",
       "Mean Sales                               304  \n",
       "Standard Deviation Sales                 665  "
      ]
     },
     "execution_count": 6,
     "metadata": {},
     "output_type": "execute_result"
    }
   ],
   "source": [
    "ep.get_sales(df)"
   ]
  },
  {
   "cell_type": "markdown",
   "id": "oriental-locking",
   "metadata": {},
   "source": [
    "* Mean net sales accross groups range from 219 to 465 showing a difference of 246 in mean net spending at the most extream values\n",
    "* Standard deviatin in net sales is about 2 times the mean in each category\n",
    "* This suggests a large spread in the data suggesting that there are many extream outliers in each group\n",
    "* Given that categories overlap and all categories show a higher than total mean net sales it is likely that high outliers existing in multiple categories are skewing the mean of each category resulting in higher means due to being divided by fewer customers in each subgroup"
   ]
  },
  {
   "cell_type": "code",
   "execution_count": 7,
   "id": "found-transparency",
   "metadata": {},
   "outputs": [
    {
     "data": {
      "image/png": "[encoded data removed]",
      "text/plain": [
       "<Figure size 432x288 with 1 Axes>"
      ]
     },
     "metadata": {
      "needs_background": "light"
     },
     "output_type": "display_data"
    }
   ],
   "source": [
    "plt.boxplot(df.net_sales)\n",
    "plt.title(\"Overall Net Sales Contain Many Outliers\")\n",
    "plt.show()"
   ]
  },
  {
   "cell_type": "markdown",
   "id": "continent-happening",
   "metadata": {},
   "source": [
    "* Given the extream outliers found in net sales I have elected to section off customers with exceptinally high net spending into a seperate group using an IQR of 1.5 designated high spenders\n",
    "* Customers with net spending more than 1.5 times the IQR higher than the 75th percentile are designated high spenders\n",
    "* Other customers are designated moderate spenders"
   ]
  },
  {
   "cell_type": "code",
   "execution_count": 8,
   "id": "detailed-commerce",
   "metadata": {},
   "outputs": [
    {
     "name": "stdout",
     "output_type": "stream",
     "text": [
      "1586\n",
      "1419\n",
      "167\n"
     ]
    }
   ],
   "source": [
    "q1 = df.net_sales.quantile(.25)\n",
    "q3 = df.net_sales.quantile(.75)\n",
    "\n",
    "iqr = q3 - q1\n",
    "\n",
    "upper = q3 + (1.5 * iqr)\n",
    "\n",
    "df_mod = df[(df.net_sales <= upper)]\n",
    "df_high = df[(df.net_sales > upper)]\n",
    "\n",
    "print(len(df))\n",
    "print(len(df_mod))\n",
    "print(len(df) - len(df_mod))"
   ]
  },
  {
   "cell_type": "code",
   "execution_count": 9,
   "id": "streaming-darkness",
   "metadata": {},
   "outputs": [
    {
     "data": {
      "image/png": "[encoded data removed]",
      "text/plain": [
       "<Figure size 432x288 with 2 Axes>"
      ]
     },
     "metadata": {
      "needs_background": "light"
     },
     "output_type": "display_data"
    }
   ],
   "source": [
    "# Create subplots\n",
    "fig, axs = plt.subplots(1, 2) \n",
    "\n",
    "# Plot the first box plot\n",
    "df_mod.boxplot(column='net_sales', ax=axs[0])\n",
    "axs[0].set_title('Moderate Spenders')\n",
    "\n",
    "# Plot the second box plot\n",
    "df_high.boxplot(column='net_sales', ax=axs[1])\n",
    "axs[1].set_title('High Spenders')\n",
    "\n",
    "plt.tight_layout() \n",
    "plt.show()"
   ]
  },
  {
   "cell_type": "markdown",
   "id": "characteristic-hampshire",
   "metadata": {},
   "source": [
    "Moderate Spenders Group\n",
    "* Contains many outliers\n",
    "* Outliers seep evenly distributed\n",
    "* Range is much narrower than overall group helping to pain a clearer picture\n",
    "\n",
    "High Spenders\n",
    "* High spenders show a large amount of variation\n",
    "* There is some clustering of outliers around 6,000 and between 3,000 and 2,000\n",
    "\n"
   ]
  },
  {
   "cell_type": "markdown",
   "id": "accessory-racing",
   "metadata": {},
   "source": [
    "### How do differnt spending groups effect total sales?"
   ]
  },
  {
   "cell_type": "code",
   "execution_count": 10,
   "id": "fantastic-prototype",
   "metadata": {},
   "outputs": [
    {
     "name": "stdout",
     "output_type": "stream",
     "text": [
      "Moderate Spenders represent 89.0% of total customers and 40.0% of total net sales\n",
      "High Spenders represent 11.0% of total customers and 60.0% of total net sales\n"
     ]
    }
   ],
   "source": [
    "mod_count = len(df_mod)\n",
    "high_count = len(df_high)\n",
    "all_count = len(df)\n",
    "\n",
    "mod_mean_sales = df_mod.mean()\n",
    "high_mean_sales = df_high.mean()\n",
    "\n",
    "mod_pcust = round(mod_count / all_count, 2) * 100\n",
    "high_pcust = round(high_count / all_count, 2) * 100\n",
    "\n",
    "mod_sales = df_mod.net_sales.sum()\n",
    "high_sales = df_high.net_sales.sum()\n",
    "\n",
    "tot_sales = df.net_sales.sum()\n",
    "mod_psales = round(mod_sales / tot_sales, 2) * 100\n",
    "high_psales = round(high_sales / tot_sales, 2) * 100\n",
    "\n",
    "\n",
    "print(f'Moderate Spenders represent {mod_pcust}% of total customers and {mod_psales}% of total net sales')\n",
    "print(f'High Spenders represent {high_pcust}% of total customers and {high_psales}% of total net sales')"
   ]
  },
  {
   "cell_type": "markdown",
   "id": "british-wrong",
   "metadata": {},
   "source": [
    "### How do product category groups effect customer spending?"
   ]
  },
  {
   "cell_type": "code",
   "execution_count": 11,
   "id": "waiting-nicholas",
   "metadata": {},
   "outputs": [
    {
     "data": {
      "text/html": [
       "<div>\n",
       "<style scoped>\n",
       "    .dataframe tbody tr th:only-of-type {\n",
       "        vertical-align: middle;\n",
       "    }\n",
       "\n",
       "    .dataframe tbody tr th {\n",
       "        vertical-align: top;\n",
       "    }\n",
       "\n",
       "    .dataframe thead th {\n",
       "        text-align: right;\n",
       "    }\n",
       "</style>\n",
       "<table border=\"1\" class=\"dataframe\">\n",
       "  <thead>\n",
       "    <tr style=\"text-align: right;\">\n",
       "      <th></th>\n",
       "      <th>total</th>\n",
       "      <th>board_games</th>\n",
       "      <th>modeling_supplies</th>\n",
       "      <th>role_playing_games</th>\n",
       "      <th>minis_models</th>\n",
       "      <th>trading_card_games</th>\n",
       "    </tr>\n",
       "  </thead>\n",
       "  <tbody>\n",
       "    <tr>\n",
       "      <th>Customers</th>\n",
       "      <td>1419</td>\n",
       "      <td>278</td>\n",
       "      <td>212</td>\n",
       "      <td>98</td>\n",
       "      <td>183</td>\n",
       "      <td>468</td>\n",
       "    </tr>\n",
       "    <tr>\n",
       "      <th>Mean Sales</th>\n",
       "      <td>76</td>\n",
       "      <td>111</td>\n",
       "      <td>99</td>\n",
       "      <td>129</td>\n",
       "      <td>109</td>\n",
       "      <td>103</td>\n",
       "    </tr>\n",
       "    <tr>\n",
       "      <th>Standard Deviation Sales</th>\n",
       "      <td>76</td>\n",
       "      <td>79</td>\n",
       "      <td>86</td>\n",
       "      <td>80</td>\n",
       "      <td>87</td>\n",
       "      <td>88</td>\n",
       "    </tr>\n",
       "  </tbody>\n",
       "</table>\n",
       "</div>"
      ],
      "text/plain": [
       "                          total  board_games  modeling_supplies  \\\n",
       "Customers                  1419          278                212   \n",
       "Mean Sales                   76          111                 99   \n",
       "Standard Deviation Sales     76           79                 86   \n",
       "\n",
       "                          role_playing_games  minis_models  trading_card_games  \n",
       "Customers                                 98           183                 468  \n",
       "Mean Sales                               129           109                 103  \n",
       "Standard Deviation Sales                  80            87                  88  "
      ]
     },
     "execution_count": 11,
     "metadata": {},
     "output_type": "execute_result"
    }
   ],
   "source": [
    "ep.get_major_sales(df_mod)"
   ]
  },
  {
   "cell_type": "code",
   "execution_count": 12,
   "id": "ready-egyptian",
   "metadata": {},
   "outputs": [
    {
     "data": {
      "text/html": [
       "<div>\n",
       "<style scoped>\n",
       "    .dataframe tbody tr th:only-of-type {\n",
       "        vertical-align: middle;\n",
       "    }\n",
       "\n",
       "    .dataframe tbody tr th {\n",
       "        vertical-align: top;\n",
       "    }\n",
       "\n",
       "    .dataframe thead th {\n",
       "        text-align: right;\n",
       "    }\n",
       "</style>\n",
       "<table border=\"1\" class=\"dataframe\">\n",
       "  <thead>\n",
       "    <tr style=\"text-align: right;\">\n",
       "      <th></th>\n",
       "      <th>total</th>\n",
       "      <th>board_games</th>\n",
       "      <th>modeling_supplies</th>\n",
       "      <th>role_playing_games</th>\n",
       "      <th>minis_models</th>\n",
       "      <th>trading_card_games</th>\n",
       "    </tr>\n",
       "  </thead>\n",
       "  <tbody>\n",
       "    <tr>\n",
       "      <th>Customers</th>\n",
       "      <td>167</td>\n",
       "      <td>69</td>\n",
       "      <td>62</td>\n",
       "      <td>36</td>\n",
       "      <td>71</td>\n",
       "      <td>117</td>\n",
       "    </tr>\n",
       "    <tr>\n",
       "      <th>Mean Sales</th>\n",
       "      <td>987</td>\n",
       "      <td>1223</td>\n",
       "      <td>1194</td>\n",
       "      <td>1380</td>\n",
       "      <td>1245</td>\n",
       "      <td>1108</td>\n",
       "    </tr>\n",
       "    <tr>\n",
       "      <th>Standard Deviation Sales</th>\n",
       "      <td>1036</td>\n",
       "      <td>1363</td>\n",
       "      <td>1249</td>\n",
       "      <td>1349</td>\n",
       "      <td>1321</td>\n",
       "      <td>1175</td>\n",
       "    </tr>\n",
       "  </tbody>\n",
       "</table>\n",
       "</div>"
      ],
      "text/plain": [
       "                          total  board_games  modeling_supplies  \\\n",
       "Customers                   167           69                 62   \n",
       "Mean Sales                  987         1223               1194   \n",
       "Standard Deviation Sales   1036         1363               1249   \n",
       "\n",
       "                          role_playing_games  minis_models  trading_card_games  \n",
       "Customers                                 36            71                 117  \n",
       "Mean Sales                              1380          1245                1108  \n",
       "Standard Deviation Sales                1349          1321                1175  "
      ]
     },
     "execution_count": 12,
     "metadata": {},
     "output_type": "execute_result"
    }
   ],
   "source": [
    "ep.get_major_sales(df_high)"
   ]
  },
  {
   "cell_type": "markdown",
   "id": "straight-object",
   "metadata": {},
   "source": [
    "* Customers who buy trading card gamee makeup 70% of high spending group\n",
    "* Customers who buy role playing games spend more on average than any other group.\n",
    "* Customers who buy role playing games are also the smallest customer group."
   ]
  },
  {
   "cell_type": "markdown",
   "id": "cardiac-ordinary",
   "metadata": {},
   "source": [
    "# Conclution"
   ]
  },
  {
   "cell_type": "code",
   "execution_count": null,
   "id": "after-bleeding",
   "metadata": {},
   "outputs": [],
   "source": [
    "\n",
    "\n"
   ]
  },
  {
   "cell_type": "code",
   "execution_count": null,
   "id": "convenient-round",
   "metadata": {},
   "outputs": [],
   "source": []
  }
 ],
 "metadata": {
  "kernelspec": {
   "display_name": "Python 3",
   "language": "python",
   "name": "python3"
  },
  "language_info": {
   "codemirror_mode": {
    "name": "ipython",
    "version": 3
   },
   "file_extension": ".py",
   "mimetype": "text/x-python",
   "name": "python",
   "nbconvert_exporter": "python",
   "pygments_lexer": "ipython3",
   "version": "3.7.4"
  }
 },
 "nbformat": 4,
 "nbformat_minor": 5
}
