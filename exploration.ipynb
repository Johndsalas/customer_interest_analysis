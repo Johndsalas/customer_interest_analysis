{
 "cells": [
  {
   "cell_type": "markdown",
   "id": "approximate-insulation",
   "metadata": {},
   "source": [
    "# Goal: Create customer profiles using clustering methods and customer purchase history"
   ]
  },
  {
   "cell_type": "code",
   "execution_count": 1,
   "id": "joint-remains",
   "metadata": {},
   "outputs": [],
   "source": [
    "# imports\n",
    "\n",
    "import pandas as pd\n",
    "import numpy as np\n",
    "import matplotlib.pyplot as plt\n",
    "import seaborn as sns\n",
    "from itertools import combinations\n",
    "from scipy.stats import spearmanr\n",
    "from scipy.stats import chi2_contingency\n",
    "from sklearn.cluster import KMeans\n",
    "from sklearn.cluster import DBSCAN \n",
    "\n",
    "import wrangle_profiles as wp"
   ]
  },
  {
   "cell_type": "markdown",
   "id": "distinguished-reggae",
   "metadata": {},
   "source": [
    "##  Wrangle"
   ]
  },
  {
   "cell_type": "markdown",
   "id": "large-hearts",
   "metadata": {},
   "source": [
    "The original data contained transaction information for LGS customers from 2001-2004. Items purchased in ‘purchase’ transactions were sorted into one of nine categories. <br>\n",
    "<br>\n",
    "Central categories representing major gaming interests include:\n",
    "* Board Games \n",
    "* Role Playing Games\n",
    "* Trading Card Games\n",
    "* Tabletop Minis Games\n",
    "* Modeling_Supplies\n",
    "<a/>\n",
    "\n",
    "Support Categories represent categories that support or are adjacent to major interests include:\n",
    "* Accessories\n",
    "* Concessions\n",
    "* Game Room Rentals\n",
    "<a/>\n",
    "\n",
    "Items that could not be classified were categorized as \n",
    "* Other\n",
    "<a/>"
   ]
  },
  {
   "cell_type": "code",
   "execution_count": 2,
   "id": "worst-notebook",
   "metadata": {},
   "outputs": [],
   "source": [
    "df = wp.get_prepared_profiles_data()"
   ]
  },
  {
   "cell_type": "markdown",
   "id": "pregnant-woman",
   "metadata": {},
   "source": [
    "## Explore "
   ]
  },
  {
   "cell_type": "markdown",
   "id": "three-merchant",
   "metadata": {},
   "source": [
    "### What does an average customer's spending habits look like?"
   ]
  },
  {
   "cell_type": "code",
   "execution_count": 3,
   "id": "resistant-integral",
   "metadata": {},
   "outputs": [
    {
     "data": {
      "text/html": [
       "<div>\n",
       "<style scoped>\n",
       "    .dataframe tbody tr th:only-of-type {\n",
       "        vertical-align: middle;\n",
       "    }\n",
       "\n",
       "    .dataframe tbody tr th {\n",
       "        vertical-align: top;\n",
       "    }\n",
       "\n",
       "    .dataframe thead th {\n",
       "        text-align: right;\n",
       "    }\n",
       "</style>\n",
       "<table border=\"1\" class=\"dataframe\">\n",
       "  <thead>\n",
       "    <tr style=\"text-align: right;\">\n",
       "      <th></th>\n",
       "      <th>accessories</th>\n",
       "      <th>board_games</th>\n",
       "      <th>concessions</th>\n",
       "      <th>modeling_supplies</th>\n",
       "      <th>role_playing_games</th>\n",
       "      <th>minis_models</th>\n",
       "      <th>trading_card_games</th>\n",
       "      <th>game_room_rental</th>\n",
       "      <th>net_sales</th>\n",
       "    </tr>\n",
       "  </thead>\n",
       "  <tbody>\n",
       "    <tr>\n",
       "      <th>mean</th>\n",
       "      <td>1.715006</td>\n",
       "      <td>0.474149</td>\n",
       "      <td>4.362547</td>\n",
       "      <td>1.569987</td>\n",
       "      <td>0.165826</td>\n",
       "      <td>0.541614</td>\n",
       "      <td>2.228247</td>\n",
       "      <td>0.059899</td>\n",
       "      <td>172.634332</td>\n",
       "    </tr>\n",
       "    <tr>\n",
       "      <th>std</th>\n",
       "      <td>4.503849</td>\n",
       "      <td>1.391602</td>\n",
       "      <td>18.823379</td>\n",
       "      <td>8.263589</td>\n",
       "      <td>0.877833</td>\n",
       "      <td>2.303441</td>\n",
       "      <td>7.990032</td>\n",
       "      <td>0.564630</td>\n",
       "      <td>442.719224</td>\n",
       "    </tr>\n",
       "  </tbody>\n",
       "</table>\n",
       "</div>"
      ],
      "text/plain": [
       "      accessories  board_games  concessions  modeling_supplies  \\\n",
       "mean     1.715006     0.474149     4.362547           1.569987   \n",
       "std      4.503849     1.391602    18.823379           8.263589   \n",
       "\n",
       "      role_playing_games  minis_models  trading_card_games  game_room_rental  \\\n",
       "mean            0.165826      0.541614            2.228247          0.059899   \n",
       "std             0.877833      2.303441            7.990032          0.564630   \n",
       "\n",
       "       net_sales  \n",
       "mean  172.634332  \n",
       "std   442.719224  "
      ]
     },
     "execution_count": 3,
     "metadata": {},
     "output_type": "execute_result"
    }
   ],
   "source": [
    "cats = ['accessories', \n",
    "        'board_games', \n",
    "        'concessions', \n",
    "        'modeling_supplies',\n",
    "        'role_playing_games', \n",
    "        'minis_models', \n",
    "        'trading_card_games', \n",
    "        'game_room_rental',\n",
    "        'net_sales']\n",
    "\n",
    "\n",
    "df[cats].describe()[1:3]"
   ]
  },
  {
   "cell_type": "markdown",
   "id": "remarkable-feature",
   "metadata": {},
   "source": [
    "Given the mean and relatively large standard deviation across all categories, penning down the habbits of an 'average' would be unhelpful due to the large variance. Moving forward it will be my goal to identify population clusters were the variance is less severe."
   ]
  },
  {
   "cell_type": "markdown",
   "id": "signed-enemy",
   "metadata": {},
   "source": [
    "### How many customers does each category appeal to? "
   ]
  },
  {
   "cell_type": "code",
   "execution_count": 4,
   "id": "criminal-newton",
   "metadata": {},
   "outputs": [
    {
     "data": {
      "image/png": "[encoded data removed]",
      "text/plain": [
       "<Figure size 720x432 with 1 Axes>"
      ]
     },
     "metadata": {
      "needs_background": "light"
     },
     "output_type": "display_data"
    }
   ],
   "source": [
    "cats = ['accessories', \n",
    "        'board_games', \n",
    "        'concessions', \n",
    "        'modeling_supplies',\n",
    "        'role_playing_games', \n",
    "        'minis_models', \n",
    "        'trading_card_games',\n",
    "        'game_room_rental']\n",
    "\n",
    "buyers = [round(len(df[df['accessories'] > 0]) / len(df)*100),\n",
    "          round(len(df[df['board_games'] > 0]) / len(df)*100),\n",
    "          round(len(df[df['modeling_supplies'] > 0]) / len(df)*100),\n",
    "          round(len(df[df['role_playing_games'] > 0]) / len(df)*100),\n",
    "          round(len(df[df['concessions'] > 0]) / len(df)*100),\n",
    "          round(len(df[df['minis_models'] > 0]) / len(df)*100),\n",
    "          round(len(df[df['trading_card_games'] > 0]) / len(df)*100),\n",
    "          round(len(df[df['game_room_rental'] > 0]) / len(df)*100)]\n",
    "    \n",
    "non_buyers = [round(len(df[df['accessories'] == 0]) / len(df)*100),\n",
    "              round(len(df[df['board_games'] == 0]) / len(df)*100),\n",
    "              round(len(df[df['modeling_supplies'] == 0]) / len(df)*100),\n",
    "              round(len(df[df['role_playing_games'] == 0]) / len(df)*100),\n",
    "              round(len(df[df['concessions'] == 0]) / len(df)*100),\n",
    "              round(len(df[df['minis_models'] == 0]) / len(df)*100),\n",
    "              round(len(df[df['trading_card_games'] == 0]) / len(df)*100),\n",
    "              round(len(df[df['game_room_rental'] == 0]) / len(df)*100)]\n",
    "\n",
    "data = { 'Category':cats,\n",
    "         'Buyers':buyers,\n",
    "         'Non_Buyers':non_buyers}\n",
    "\n",
    "df_data = pd.DataFrame(data)\n",
    "\n",
    "df_data.set_index('Category', inplace=True)\n",
    "\n",
    "df_data.plot(kind='bar', figsize=(10, 6), color = ['gold', 'lightgrey'])\n",
    "\n",
    "plt.xticks(rotation=40)\n",
    "\n",
    "plt.xlabel('')\n",
    "plt.ylabel('Percent of Customers Who Purchased from this Category')\n",
    "plt.title('Each Category Appeals to a Select Portion of Customers')\n",
    "\n",
    "\n",
    "plt.show()"
   ]
  },
  {
   "cell_type": "markdown",
   "id": "detected-advisory",
   "metadata": {},
   "source": [
    "Each category only appeals to a select amount of customers:\n",
    "    \n",
    "Major Categories\n",
    "* Trading Card Games 37%\n",
    "* Role Playing Games 33%\n",
    "* Board Games 22%\n",
    "* Table Top Minis 16%\n",
    "* Modeling Supplies 8%\n",
    "\n",
    "Support Categories\n",
    "* Accessories 42%\n",
    "* Concessions 17%\n",
    "* Game Room Rental 2%\n",
    "\n",
    "Major categories appeal to roughly 1/3 of customers or less, likely due to specialized interests of customers <br>\n",
    "Accesories is the highest apeal category likely do to supporting multiple interests tied to major categories"
   ]
  },
  {
   "cell_type": "markdown",
   "id": "successful-awareness",
   "metadata": {},
   "source": [
    "### Is there a relationship between customers who buy products in one category and customers who buy products in a differint category?"
   ]
  },
  {
   "cell_type": "code",
   "execution_count": 5,
   "id": "motivated-childhood",
   "metadata": {},
   "outputs": [],
   "source": [
    "cats = ['accessories', \n",
    "        'board_games', \n",
    "        'concessions',\n",
    "        'modeling_supplies', \n",
    "        'role_playing_games', \n",
    "        'minis_models',\n",
    "        'trading_card_games']"
   ]
  },
  {
   "cell_type": "code",
   "execution_count": 6,
   "id": "affected-departure",
   "metadata": {},
   "outputs": [],
   "source": [
    "for cat in cats:\n",
    "    \n",
    "    df[f'bought_{cat}'] = df[cat] > 0"
   ]
  },
  {
   "cell_type": "code",
   "execution_count": 25,
   "id": "indirect-target",
   "metadata": {},
   "outputs": [
    {
     "name": "stdout",
     "output_type": "stream",
     "text": [
      "bought_accessories and bought_concessions\n",
      "P-value: 0.00022898142106283562\n",
      "\n",
      "bought_accessories and bought_role_playing_games\n",
      "P-value: 2.637590995781412e-07\n",
      "\n",
      "bought_accessories and bought_trading_card_games\n",
      "P-value: 2.6189298764791124e-09\n",
      "\n",
      "bought_board_games and bought_role_playing_games\n",
      "P-value: 0.003992273243111018\n",
      "\n",
      "bought_board_games and bought_trading_card_games\n",
      "P-value: 3.903131004282979e-11\n",
      "\n",
      "bought_concessions and bought_modeling_supplies\n",
      "P-value: 0.0002876863942808126\n",
      "\n",
      "bought_concessions and bought_role_playing_games\n",
      "P-value: 0.0014589471921045644\n",
      "\n",
      "bought_concessions and bought_minis_models\n",
      "P-value: 6.77964642111708e-05\n",
      "\n",
      "bought_concessions and bought_trading_card_games\n",
      "P-value: 0.00048464442158513405\n",
      "\n",
      "bought_modeling_supplies and bought_role_playing_games\n",
      "P-value: 9.432383416725453e-05\n",
      "\n",
      "bought_modeling_supplies and bought_minis_models\n",
      "P-value: 5.181101272766629e-53\n",
      "\n",
      "bought_modeling_supplies and bought_trading_card_games\n",
      "P-value: 2.005353953456003e-09\n",
      "\n",
      "bought_role_playing_games and bought_minis_models\n",
      "P-value: 3.083238770422678e-15\n",
      "\n",
      "bought_role_playing_games and bought_trading_card_games\n",
      "P-value: 0.01557275335181492\n",
      "\n",
      "bought_minis_models and bought_trading_card_games\n",
      "P-value: 9.61132947434622e-06\n",
      "\n"
     ]
    }
   ],
   "source": [
    "cats = ['bought_accessories', \n",
    "        'bought_board_games', \n",
    "        'bought_concessions',\n",
    "        'bought_modeling_supplies', \n",
    "        'bought_role_playing_games', \n",
    "        'bought_minis_models',\n",
    "        'bought_trading_card_games']\n",
    "\n",
    "combs = combinations(cats, 2)\n",
    "\n",
    "sigcombs = []\n",
    "\n",
    "\n",
    "for comb in combs:\n",
    "    \n",
    "    cat1 = df[comb[0]]\n",
    "    cat2 = df[comb[1]]\n",
    "    \n",
    "    \n",
    "    ct = pd.crosstab(cat1, cat2)\n",
    "    \n",
    "    chi2, p, dof, expected = chi2_contingency(ct)\n",
    "\n",
    "\n",
    "    if p < .05:\n",
    "        \n",
    "        print(f'{comb[0]} and {comb[1]}')\n",
    "        print(\"P-value:\", p)\n",
    "        print()\n",
    "        \n",
    "        sigcombs.append(comb)"
   ]
  },
  {
   "cell_type": "code",
   "execution_count": 38,
   "id": "touched-tunnel",
   "metadata": {},
   "outputs": [
    {
     "name": "stdout",
     "output_type": "stream",
     "text": [
      "bought_board_games         False  True\n",
      "bought_trading_card_games             \n",
      "False                        729   272\n",
      "True                         510    75\n",
      "\n",
      "729 272\n",
      "510 75\n"
     ]
    }
   ],
   "source": [
    "cat1 = df['bought_trading_card_games']\n",
    "cat2 = df['bought_board_games']\n",
    "\n",
    "\n",
    "ct = pd.crosstab(cat1, cat2)\n",
    "\n",
    "true_true = ct.loc[1, 1]\n",
    "true_false = ct.loc[0, 1]\n",
    "false_false = ct.loc[0, 0]\n",
    "false_true = ct.loc[1, 0]\n",
    "\n",
    "print(ct)\n",
    "print()\n",
    "print(false_false, true_false)\n",
    "print(false_true, true_true)"
   ]
  },
  {
   "cell_type": "code",
   "execution_count": 29,
   "id": "suited-december",
   "metadata": {},
   "outputs": [
    {
     "name": "stdout",
     "output_type": "stream",
     "text": [
      "bought_concessions  False  True\n",
      "bought_accessories             \n",
      "False                 646   273\n",
      "True                  409   258\n",
      "\n",
      "bought_role_playing_games  False  True\n",
      "bought_accessories                    \n",
      "False                        870    49\n",
      "True                         582    85\n",
      "\n",
      "bought_trading_card_games  False  True\n",
      "bought_accessories                    \n",
      "False                        637   282\n",
      "True                         364   303\n",
      "\n",
      "bought_role_playing_games  False  True\n",
      "bought_board_games                    \n",
      "False                       1148    91\n",
      "True                         304    43\n",
      "\n",
      "bought_trading_card_games  False  True\n",
      "bought_board_games                    \n",
      "False                        729   510\n",
      "True                         272    75\n",
      "\n",
      "bought_modeling_supplies  False  True\n",
      "bought_concessions                   \n",
      "False                       899   156\n",
      "True                        413   118\n",
      "\n",
      "bought_role_playing_games  False  True\n",
      "bought_concessions                    \n",
      "False                        983    72\n",
      "True                         469    62\n",
      "\n",
      "bought_minis_models  False  True\n",
      "bought_concessions              \n",
      "False                  914   141\n",
      "True                   418   113\n",
      "\n",
      "bought_trading_card_games  False  True\n",
      "bought_concessions                    \n",
      "False                        698   357\n",
      "True                         303   228\n",
      "\n",
      "bought_role_playing_games  False  True\n",
      "bought_modeling_supplies              \n",
      "False                       1218    94\n",
      "True                         234    40\n",
      "\n",
      "bought_minis_models       False  True\n",
      "bought_modeling_supplies             \n",
      "False                      1187   125\n",
      "True                        145   129\n",
      "\n",
      "bought_trading_card_games  False  True\n",
      "bought_modeling_supplies              \n",
      "False                        784   528\n",
      "True                         217    57\n",
      "\n",
      "bought_minis_models        False  True\n",
      "bought_role_playing_games             \n",
      "False                       1252   200\n",
      "True                          80    54\n",
      "\n",
      "bought_trading_card_games  False  True\n",
      "bought_role_playing_games             \n",
      "False                        903   549\n",
      "True                          98    36\n",
      "\n",
      "bought_trading_card_games  False  True\n",
      "bought_minis_models                   \n",
      "False                        809   523\n",
      "True                         192    62\n",
      "\n"
     ]
    }
   ],
   "source": [
    "for comb in sigcombs:\n",
    "    \n",
    "    cat1 = df[comb[0]]\n",
    "    cat2 = df[comb[1]]\n",
    "    \n",
    "    \n",
    "    ct = pd.crosstab(cat1, cat2)\n",
    "    \n",
    "    \n",
    "    \n",
    "    print(ct)\n",
    "    print()\n",
    "    "
   ]
  },
  {
   "cell_type": "code",
   "execution_count": null,
   "id": "plain-indication",
   "metadata": {},
   "outputs": [],
   "source": []
  },
  {
   "cell_type": "markdown",
   "id": "charitable-texas",
   "metadata": {},
   "source": [
    "### Are customers who buy one type of product more or less likely to buy a different type of product?"
   ]
  },
  {
   "cell_type": "code",
   "execution_count": null,
   "id": "explicit-factor",
   "metadata": {},
   "outputs": [],
   "source": [
    "for cat_1 in cats:\n",
    "\n",
    "    df_cata = df[df[cat_1] > 0]\n",
    "\n",
    "    total = len(df_cata)\n",
    "    \n",
    "    print()\n",
    "    print(f'{total} Customers bought one or more {cat_1.upper()}')\n",
    "\n",
    "    for cat_2 in cats:\n",
    "\n",
    "        if cat_1 != cat_2:\n",
    "\n",
    "            print(f'{round(len(df_cata[df_cata[cat_2] > 0])/total*100)}% also bought one or more {cat_2}')"
   ]
  },
  {
   "cell_type": "markdown",
   "id": "mineral-merchant",
   "metadata": {},
   "source": [
    "* Here we can see a significant amount of crossover in customer buying habbits"
   ]
  },
  {
   "cell_type": "code",
   "execution_count": null,
   "id": "better-assault",
   "metadata": {},
   "outputs": [],
   "source": [
    "cats = ['accessories', \n",
    "        'board_games', \n",
    "        'concessions',\n",
    "        'modeling_supplies', \n",
    "        'role_playing_games', \n",
    "        'minis_models',\n",
    "        'trading_card_games']\n",
    "\n",
    "for cat in cats:\n",
    "    \n",
    "    correlation, p_value = spearmanr(df[cat], df['net_sales'])\n",
    "    \n",
    "    if (correlation >= .2 or correlation < 0) and p_value < .05:\n",
    "\n",
    "        print()\n",
    "        print(f'{cat} and net_sales')\n",
    "        print(\"Spearman correlation:\", correlation)\n",
    "        print(\"p-value:\", p_value)"
   ]
  },
  {
   "cell_type": "code",
   "execution_count": null,
   "id": "formed-guidance",
   "metadata": {
    "scrolled": false
   },
   "outputs": [],
   "source": [
    "cats = ['accessories', \n",
    "        'board_games', \n",
    "        'concessions',\n",
    "        'modeling_supplies', \n",
    "        'role_playing_games', \n",
    "        'minis_models',\n",
    "        'trading_card_games']\n",
    "\n",
    "combs = combinations(cats, 2)\n",
    "\n",
    "for item in combs:\n",
    "    \n",
    "    correlation, p_value = spearmanr(df[item[0]], df[item[1]])\n",
    "    \n",
    "    if (correlation >= .2 or correlation < 0) and p_value < .05:\n",
    "\n",
    "        print()\n",
    "        print(f'{item[0]} and {item[1]}')\n",
    "        print(\"Spearman correlation:\", correlation)\n",
    "        print(\"p-value:\", p_value)\n",
    "        \n",
    "        \n"
   ]
  },
  {
   "cell_type": "markdown",
   "id": "invalid-overview",
   "metadata": {},
   "source": [
    "* There is a noteworthy positive correlation between minis_models and modeling_supplies (.4)\n",
    "* A weak positive correlation exists between trading_card_games and accessories (.2)\n",
    "* Trading_card_games is the only category to produce negetive correlations. It is negatively correlated with board_games, minis_models, and modeling_supplies. The correlation is very faint."
   ]
  },
  {
   "cell_type": "code",
   "execution_count": null,
   "id": "laughing-cooking",
   "metadata": {},
   "outputs": [],
   "source": [
    "Do clusters formed on customers thay buy products in a given category show different buying habbits?"
   ]
  },
  {
   "cell_type": "code",
   "execution_count": null,
   "id": "experimental-recycling",
   "metadata": {},
   "outputs": [],
   "source": [
    "Do clusters formed on customers thay buy products in a given category show different buying habbits"
   ]
  },
  {
   "cell_type": "code",
   "execution_count": null,
   "id": "ideal-softball",
   "metadata": {},
   "outputs": [],
   "source": [
    "df_acc = df[['accessories', \n",
    "                  'board_games', \n",
    "                  'concessions', \n",
    "                  'modeling_supplies',\n",
    "                  'role_playing_games', \n",
    "                  'minis_models', \n",
    "                  'trading_card_games', \n",
    "                  'other',\n",
    "                  'game_room_rental', \n",
    "                  'all_items',\n",
    "                  'net_sales',\n",
    "                  'tenure']][df.accessories > 0]\n",
    "df_bg = df[['accessories', \n",
    "                  'board_games', \n",
    "                  'concessions', \n",
    "                  'modeling_supplies',\n",
    "                  'role_playing_games', \n",
    "                  'minis_models', \n",
    "                  'trading_card_games', \n",
    "                  'other',\n",
    "                  'game_room_rental', \n",
    "                  'all_items',\n",
    "                  'net_sales'\n",
    "                  'tenure']][df.board_games > 0]\n",
    "df_con = df[df.concessions > 0]\n",
    "df_acc = df[df.modeling_supplies > 0]\n",
    "df_rpg = df[df.role_playing_games > 0]\n",
    "df_min = df[['accessories', \n",
    "                  'board_games', \n",
    "                  'concessions', \n",
    "                  'modeling_supplies',\n",
    "                  'role_playing_games', \n",
    "                  'minis_models', \n",
    "                  'trading_card_games', \n",
    "                  'other',\n",
    "                  'game_room_rental', \n",
    "                  'all_items',\n",
    "                  'net_sales'\n",
    "                  'tenure']][df.minis_models > 0]\n",
    "df_tcg = df[['accessories', \n",
    "                  'board_games', \n",
    "                  'concessions', \n",
    "                  'modeling_supplies',\n",
    "                  'role_playing_games', \n",
    "                  'minis_models', \n",
    "                  'trading_card_games', \n",
    "                  'other',\n",
    "                  'game_room_rental', \n",
    "                  'all_items',\n",
    "                  'net_sales']][df.trading_card_games > 0]"
   ]
  },
  {
   "cell_type": "code",
   "execution_count": null,
   "id": "bigger-classification",
   "metadata": {},
   "outputs": [],
   "source": [
    "df_bg = df[['accessories', \n",
    "                  'board_games', \n",
    "                  'concessions', \n",
    "                  'modeling_supplies',\n",
    "                  'role_playing_games', \n",
    "                  'minis_models', \n",
    "                  'trading_card_games', \n",
    "                  'other',\n",
    "                  'game_room_rental', \n",
    "                  'all_items',\n",
    "                  'net_sales',\n",
    "                  'tenure']][df.board_games > 0]\n",
    "\n",
    "\n",
    "\n",
    "df_bg.describe()"
   ]
  },
  {
   "cell_type": "code",
   "execution_count": null,
   "id": "colonial-protest",
   "metadata": {},
   "outputs": [],
   "source": [
    "kmeans = KMeans(n_clusters=3)\n",
    "kmeans.fit(X)\n",
    "\n",
    "df_bg['cluster'] = kmeans.predict(X)\n",
    "\n",
    "df_bg.sample(10)"
   ]
  },
  {
   "cell_type": "code",
   "execution_count": null,
   "id": "damaged-adobe",
   "metadata": {},
   "outputs": [],
   "source": [
    "df_bg.cluster.value_counts()"
   ]
  },
  {
   "cell_type": "code",
   "execution_count": null,
   "id": "colonial-replication",
   "metadata": {},
   "outputs": [],
   "source": [
    "# Board Game Clusters"
   ]
  },
  {
   "cell_type": "code",
   "execution_count": null,
   "id": "approximate-title",
   "metadata": {},
   "outputs": [],
   "source": [
    "df_bg[df_bg.cluster == 0].describe()[1:3]"
   ]
  },
  {
   "cell_type": "code",
   "execution_count": null,
   "id": "ancient-norway",
   "metadata": {},
   "outputs": [],
   "source": [
    "df_bg[df_bg.cluster == 2].describe()[1:3]"
   ]
  },
  {
   "cell_type": "code",
   "execution_count": null,
   "id": "other-clothing",
   "metadata": {
    "scrolled": true
   },
   "outputs": [],
   "source": [
    "df_bg[df_bg.cluster == 1].describe()[1:3]"
   ]
  },
  {
   "cell_type": "markdown",
   "id": "covered-defensive",
   "metadata": {},
   "source": [
    "# TCG Clusters"
   ]
  },
  {
   "cell_type": "code",
   "execution_count": null,
   "id": "refined-massachusetts",
   "metadata": {},
   "outputs": [],
   "source": [
    "kmeans = KMeans(n_clusters=6)\n",
    "kmeans.fit(X)\n",
    "\n",
    "df_tcg['cluster'] = kmeans.predict(X)\n",
    "\n",
    "df_tcg.sample(10)"
   ]
  },
  {
   "cell_type": "code",
   "execution_count": null,
   "id": "wrapped-correspondence",
   "metadata": {},
   "outputs": [],
   "source": [
    "df_tcg.cluster.value_counts()"
   ]
  },
  {
   "cell_type": "code",
   "execution_count": null,
   "id": "binary-playlist",
   "metadata": {},
   "outputs": [],
   "source": [
    "df_tcg.describe()[1:3]"
   ]
  },
  {
   "cell_type": "code",
   "execution_count": null,
   "id": "finite-conservation",
   "metadata": {},
   "outputs": [],
   "source": [
    "df_tcg[df_tcg.cluster == 0].describe()[1:3]"
   ]
  },
  {
   "cell_type": "code",
   "execution_count": null,
   "id": "excessive-curtis",
   "metadata": {},
   "outputs": [],
   "source": [
    "df_tcg[df_tcg.cluster == 2].describe()[1:3]"
   ]
  },
  {
   "cell_type": "code",
   "execution_count": null,
   "id": "trained-broadcasting",
   "metadata": {},
   "outputs": [],
   "source": [
    "df_tcg[df_tcg.cluster == 1].describe()[1:3]"
   ]
  },
  {
   "cell_type": "code",
   "execution_count": null,
   "id": "fifty-payment",
   "metadata": {},
   "outputs": [],
   "source": []
  },
  {
   "cell_type": "code",
   "execution_count": null,
   "id": "dominant-visitor",
   "metadata": {},
   "outputs": [],
   "source": []
  },
  {
   "cell_type": "code",
   "execution_count": null,
   "id": "bronze-astrology",
   "metadata": {},
   "outputs": [],
   "source": []
  },
  {
   "cell_type": "code",
   "execution_count": null,
   "id": "apart-little",
   "metadata": {},
   "outputs": [],
   "source": []
  },
  {
   "cell_type": "code",
   "execution_count": null,
   "id": "vocational-teacher",
   "metadata": {},
   "outputs": [],
   "source": [
    "kmeans = KMeans(n_clusters=3)\n",
    "kmeans.fit(X)\n",
    "\n",
    "df_bg['cluster'] = kmeans.predict(X)\n",
    "\n",
    "df_tcg.sample(10)"
   ]
  },
  {
   "cell_type": "code",
   "execution_count": null,
   "id": "hollywood-france",
   "metadata": {},
   "outputs": [],
   "source": []
  },
  {
   "cell_type": "code",
   "execution_count": null,
   "id": "renewable-pontiac",
   "metadata": {},
   "outputs": [],
   "source": []
  },
  {
   "cell_type": "code",
   "execution_count": null,
   "id": "elder-cheat",
   "metadata": {},
   "outputs": [],
   "source": []
  },
  {
   "cell_type": "code",
   "execution_count": null,
   "id": "false-future",
   "metadata": {},
   "outputs": [],
   "source": []
  },
  {
   "cell_type": "code",
   "execution_count": null,
   "id": "widespread-physics",
   "metadata": {},
   "outputs": [],
   "source": [
    "X = df_tcg[['net_sales']]\n",
    "\n",
    "with plt.style.context('seaborn-whitegrid'):\n",
    "    plt.figure(figsize=(9, 6))\n",
    "    pd.Series({k: KMeans(k).fit(X).inertia_ for k in range(2, 12)}).plot(marker='x')\n",
    "    plt.xticks(range(2, 12))\n",
    "    plt.xlabel('k')\n",
    "    plt.ylabel('inertia')\n",
    "    plt.title('Change in inertia as k increases')"
   ]
  },
  {
   "cell_type": "code",
   "execution_count": null,
   "id": "interstate-government",
   "metadata": {},
   "outputs": [],
   "source": [
    "\n",
    "\n",
    "cols = ['net_sales']\n",
    "\n",
    "X = df_bg[cols]\n",
    "\n",
    "model = DBSCAN().fit(X)\n",
    "\n",
    "df_bg['cluster'] = model.labels_\n",
    "\n",
    "df_bg.cluster.value_counts()"
   ]
  },
  {
   "cell_type": "code",
   "execution_count": null,
   "id": "short-vanilla",
   "metadata": {},
   "outputs": [],
   "source": []
  },
  {
   "cell_type": "code",
   "execution_count": null,
   "id": "green-contact",
   "metadata": {},
   "outputs": [],
   "source": [
    "df_bg"
   ]
  },
  {
   "cell_type": "code",
   "execution_count": null,
   "id": "variable-valentine",
   "metadata": {},
   "outputs": [],
   "source": [
    "df_bg[df_bg.cluster == 0]"
   ]
  },
  {
   "cell_type": "code",
   "execution_count": null,
   "id": "forbidden-blame",
   "metadata": {},
   "outputs": [],
   "source": [
    "df_bg[df_bg.cluster == 1]"
   ]
  },
  {
   "cell_type": "code",
   "execution_count": null,
   "id": "seven-nursery",
   "metadata": {},
   "outputs": [],
   "source": [
    "df_bg[df_bg.cluster == 2]"
   ]
  },
  {
   "cell_type": "code",
   "execution_count": null,
   "id": "chicken-terminology",
   "metadata": {},
   "outputs": [],
   "source": [
    "df_bg[df_bg.cluster == 3]"
   ]
  },
  {
   "cell_type": "code",
   "execution_count": null,
   "id": "accepting-sheriff",
   "metadata": {},
   "outputs": [],
   "source": [
    "df_cats = df[['accessories', \n",
    "                  'board_games', \n",
    "                  'concessions', \n",
    "                  'modeling_supplies',\n",
    "                  'role_playing_games', \n",
    "                  'minis_models', \n",
    "                  'trading_card_games', \n",
    "                  'other',\n",
    "                  'game_room_rental', \n",
    "                  'all_items',\n",
    "                  'net_sales']]"
   ]
  },
  {
   "cell_type": "code",
   "execution_count": null,
   "id": "hydraulic-luxembourg",
   "metadata": {},
   "outputs": [],
   "source": [
    "df_cats"
   ]
  },
  {
   "cell_type": "code",
   "execution_count": null,
   "id": "thirty-option",
   "metadata": {
    "scrolled": false
   },
   "outputs": [],
   "source": [
    "cols = ['accessories', \n",
    "        'board_games', \n",
    "        'concessions', \n",
    "        'modeling_supplies',\n",
    "        'role_playing_games', \n",
    "        'minis_models', \n",
    "        'trading_card_games', \n",
    "        'other',\n",
    "        'game_room_rental', \n",
    "        'all_items',\n",
    "        'net_sales']\n",
    "\n",
    "for col in cols:\n",
    "    \n",
    "    df[cols].hist(col, bins = 50)\n",
    "    plt.show()\n",
    "    \n",
    "    "
   ]
  },
  {
   "cell_type": "code",
   "execution_count": null,
   "id": "laden-cigarette",
   "metadata": {},
   "outputs": [],
   "source": [
    "df.hist('accessories', bins = 50)"
   ]
  },
  {
   "cell_type": "code",
   "execution_count": null,
   "id": "major-sudan",
   "metadata": {},
   "outputs": [],
   "source": []
  },
  {
   "cell_type": "code",
   "execution_count": null,
   "id": "daily-laser",
   "metadata": {},
   "outputs": [],
   "source": []
  },
  {
   "cell_type": "code",
   "execution_count": null,
   "id": "confident-sender",
   "metadata": {},
   "outputs": [],
   "source": [
    "df[raw_num].describe()"
   ]
  },
  {
   "cell_type": "code",
   "execution_count": null,
   "id": "applicable-medium",
   "metadata": {},
   "outputs": [],
   "source": [
    "for col in raw_num:\n",
    "    \n",
    "    print()\n",
    "    print(col.upper())\n",
    "    print()\n",
    "    print (f'{round(len(df[df[col] > 0]) / len(df)*100)}% buyers')\n",
    "    print (f'{round(len(df[df[col] == 0]) / len(df)*100)}% NON-buyers')\n",
    "    "
   ]
  },
  {
   "cell_type": "code",
   "execution_count": null,
   "id": "acknowledged-sister",
   "metadata": {},
   "outputs": [],
   "source": [
    "df[raw_num]"
   ]
  },
  {
   "cell_type": "code",
   "execution_count": null,
   "id": "earned-johnson",
   "metadata": {},
   "outputs": [],
   "source": [
    "df[raw_num][df.trading_card_games > 0].describe()"
   ]
  },
  {
   "cell_type": "code",
   "execution_count": null,
   "id": "catholic-grill",
   "metadata": {},
   "outputs": [],
   "source": [
    "df[raw_num][df.accessories > 0].describe()"
   ]
  },
  {
   "cell_type": "code",
   "execution_count": null,
   "id": "nasty-original",
   "metadata": {},
   "outputs": [],
   "source": [
    "df[raw_num][df.concessions > 0].describe()"
   ]
  },
  {
   "cell_type": "code",
   "execution_count": null,
   "id": "downtown-fiction",
   "metadata": {},
   "outputs": [],
   "source": [
    "df[raw_num][df.modeling_supplies > 0].describe()"
   ]
  },
  {
   "cell_type": "code",
   "execution_count": null,
   "id": "micro-release",
   "metadata": {},
   "outputs": [],
   "source": [
    "sns.heatmap(df)"
   ]
  },
  {
   "cell_type": "code",
   "execution_count": null,
   "id": "posted-third",
   "metadata": {
    "scrolled": false
   },
   "outputs": [],
   "source": [
    "cols = ['accessories', \n",
    "        'board_games', \n",
    "        'concessions',\n",
    "        'modeling_supplies', \n",
    "        'role_playing_games', \n",
    "        'minis_models',\n",
    "        'trading_card_games',\n",
    "        'game_room']\n",
    "\n",
    "for col in cols:\n",
    "    \n",
    "    \n",
    "    print(col, 'Hist')\n",
    "    \n",
    "    plt.hist(df[raw_num][df[col] > 0])\n",
    "    \n",
    "    plt.show()"
   ]
  },
  {
   "cell_type": "code",
   "execution_count": null,
   "id": "after-bleeding",
   "metadata": {},
   "outputs": [],
   "source": [
    "\n",
    "\n"
   ]
  },
  {
   "cell_type": "code",
   "execution_count": null,
   "id": "convenient-round",
   "metadata": {},
   "outputs": [],
   "source": []
  }
 ],
 "metadata": {
  "kernelspec": {
   "display_name": "Python 3",
   "language": "python",
   "name": "python3"
  },
  "language_info": {
   "codemirror_mode": {
    "name": "ipython",
    "version": 3
   },
   "file_extension": ".py",
   "mimetype": "text/x-python",
   "name": "python",
   "nbconvert_exporter": "python",
   "pygments_lexer": "ipython3",
   "version": "3.7.4"
  }
 },
 "nbformat": 4,
 "nbformat_minor": 5
}
